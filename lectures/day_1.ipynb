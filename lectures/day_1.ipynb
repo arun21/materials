{
 "cells": [
  {
   "cell_type": "markdown",
   "metadata": {
    "slideshow": {
     "slide_type": "slide"
    }
   },
   "source": [
    "Welcome to Day 1\n",
    "=========\n",
    "\n",
    "<!---\n",
    "Note the order of functions, loops and if-statements is still up for debate\n",
    "-->\n",
    "\n",
    "**Here's what we're going to cover today:**\n",
    "- Review from yesterday\n",
    "- Data types\n",
    "    - Numbers \n",
    "    - Booleans (True/False)\n",
    "    - Strings of Characters (`\"hello!\"`)\n",
    "    - Lists (like grocery lists `[\"milk\", \"eggs\", \"bananas\"]`)\n",
    "- Applied laziness: Reusing your code with functions\n",
    "- Flow control (if-statements)\n",
    "- Getting to know lists (`len()` and `range()`)\n",
    "- Talking to the user using `raw_input`\n",
    "- Repeating functions with loops\n",
    "- One more data type: dictionaries\n",
    "- multi-line strings (for the project)\n",
    "\n",
    "**It might look like a lot, but they're all really small topics and we're here to help!**\n",
    "**We are all very much in the same boat.**\n",
    "\n",
    "INSERT PICTURE OF PYTHON BOAT"
   ]
  },
  {
   "cell_type": "markdown",
   "metadata": {
    "slideshow": {
     "slide_type": "slide"
    }
   },
   "source": [
    "Math\n",
    "==="
   ]
  },
  {
   "cell_type": "code",
   "execution_count": 3,
   "metadata": {
    "collapsed": false
   },
   "outputs": [
    {
     "data": {
      "text/plain": [
       "11"
      ]
     },
     "execution_count": 3,
     "metadata": {},
     "output_type": "execute_result"
    }
   ],
   "source": [
    "5 + 6"
   ]
  },
  {
   "cell_type": "code",
   "execution_count": 4,
   "metadata": {
    "collapsed": false
   },
   "outputs": [
    {
     "data": {
      "text/plain": [
       "-6"
      ]
     },
     "execution_count": 4,
     "metadata": {},
     "output_type": "execute_result"
    }
   ],
   "source": [
    "-6"
   ]
  },
  {
   "cell_type": "code",
   "execution_count": 5,
   "metadata": {
    "collapsed": false
   },
   "outputs": [
    {
     "data": {
      "text/plain": [
       "3.0"
      ]
     },
     "execution_count": 5,
     "metadata": {},
     "output_type": "execute_result"
    }
   ],
   "source": [
    " ((2+5)*3)/7"
   ]
  },
  {
   "cell_type": "markdown",
   "metadata": {
    "slideshow": {
     "slide_type": "slide"
    }
   },
   "source": [
    "More Than Math\n",
    "========"
   ]
  },
  {
   "cell_type": "code",
   "execution_count": 16,
   "metadata": {
    "collapsed": false
   },
   "outputs": [
    {
     "data": {
      "text/plain": [
       "'Hello'"
      ]
     },
     "execution_count": 16,
     "metadata": {},
     "output_type": "execute_result"
    }
   ],
   "source": [
    "\"Hello\""
   ]
  },
  {
   "cell_type": "code",
   "execution_count": 18,
   "metadata": {
    "collapsed": false
   },
   "outputs": [
    {
     "data": {
      "text/plain": [
       "'Hello Waterloo'"
      ]
     },
     "execution_count": 18,
     "metadata": {},
     "output_type": "execute_result"
    }
   ],
   "source": [
    "\"Hello \" + \"Waterloo\""
   ]
  },
  {
   "cell_type": "code",
   "execution_count": 7,
   "metadata": {
    "collapsed": false
   },
   "outputs": [
    {
     "ename": "TypeError",
     "evalue": "Can't convert 'int' object to str implicitly",
     "output_type": "error",
     "traceback": [
      "\u001b[1;31m---------------------------------------------------------------------------\u001b[0m",
      "\u001b[1;31mTypeError\u001b[0m                                 Traceback (most recent call last)",
      "\u001b[1;32m<ipython-input-7-8825736fe191>\u001b[0m in \u001b[0;36m<module>\u001b[1;34m()\u001b[0m\n\u001b[1;32m----> 1\u001b[1;33m \u001b[1;34m\"Hello\"\u001b[0m \u001b[1;33m+\u001b[0m \u001b[1;36m4\u001b[0m\u001b[1;33m\u001b[0m\u001b[0m\n\u001b[0m",
      "\u001b[1;31mTypeError\u001b[0m: Can't convert 'int' object to str implicitly"
     ]
    }
   ],
   "source": [
    "# This isn't going to work\n",
    "\"Hello\" + 4"
   ]
  },
  {
   "cell_type": "markdown",
   "metadata": {
    "slideshow": {
     "slide_type": "slide"
    }
   },
   "source": [
    "It didn't work because the type of data or information isn't compatible\n",
    "Use `type()` to figure out the type of data"
   ]
  },
  {
   "cell_type": "code",
   "execution_count": 8,
   "metadata": {
    "collapsed": false
   },
   "outputs": [
    {
     "data": {
      "text/plain": [
       "int"
      ]
     },
     "execution_count": 8,
     "metadata": {},
     "output_type": "execute_result"
    }
   ],
   "source": [
    "type(4)"
   ]
  },
  {
   "cell_type": "code",
   "execution_count": 19,
   "metadata": {
    "collapsed": false
   },
   "outputs": [
    {
     "data": {
      "text/plain": [
       "str"
      ]
     },
     "execution_count": 19,
     "metadata": {},
     "output_type": "execute_result"
    }
   ],
   "source": [
    "type(\"hello\")"
   ]
  },
  {
   "cell_type": "markdown",
   "metadata": {
    "slideshow": {
     "slide_type": "slide"
    }
   },
   "source": [
    "Saving data into named boxes using variables\n",
    "========================"
   ]
  },
  {
   "cell_type": "code",
   "execution_count": 23,
   "metadata": {
    "collapsed": false
   },
   "outputs": [
    {
     "data": {
      "text/plain": [
       "3"
      ]
     },
     "execution_count": 23,
     "metadata": {},
     "output_type": "execute_result"
    }
   ],
   "source": [
    "box = 3\n",
    "box"
   ]
  },
  {
   "cell_type": "code",
   "execution_count": 25,
   "metadata": {
    "collapsed": false
   },
   "outputs": [
    {
     "data": {
      "text/plain": [
       "6"
      ]
     },
     "execution_count": 25,
     "metadata": {},
     "output_type": "execute_result"
    }
   ],
   "source": [
    "double_box = box * 2\n",
    "double_box"
   ]
  },
  {
   "cell_type": "code",
   "execution_count": 27,
   "metadata": {
    "collapsed": false
   },
   "outputs": [
    {
     "data": {
      "text/plain": [
       "'kittens'"
      ]
     },
     "execution_count": 27,
     "metadata": {},
     "output_type": "execute_result"
    }
   ],
   "source": [
    "box = \"kittens\"\n",
    "box"
   ]
  },
  {
   "cell_type": "code",
   "execution_count": 28,
   "metadata": {
    "collapsed": false
   },
   "outputs": [
    {
     "name": "stdout",
     "output_type": "stream",
     "text": [
      "Variable     Type    Data/Info\n",
      "------------------------------\n",
      "box          str     kittens\n",
      "double_box   int     6\n"
     ]
    }
   ],
   "source": [
    "whos"
   ]
  },
  {
   "cell_type": "code",
   "execution_count": null,
   "metadata": {
    "collapsed": true
   },
   "outputs": [],
   "source": []
  },
  {
   "cell_type": "markdown",
   "metadata": {
    "slideshow": {
     "slide_type": "slide"
    }
   },
   "source": [
    "Project: Make Your Own Quiz!\n",
    "--------------------------------\n",
    "\n",
    "Let's make a Python quiz program! It will ask different types of questions via the console and tell you how well you did.\n",
    "\n",
    "INSERT SCREENSHOT\n",
    "\n",
    "The following slides are to be done at your own pace. They're formatted as: Step -> Hints. See if you can complete the step without the hints and even if you can predict what the next step might be. A big part of writing software is dividing up a big problem into simple enough steps to implement."
   ]
  },
  {
   "cell_type": "markdown",
   "metadata": {
    "slideshow": {
     "slide_type": "slide"
    }
   },
   "source": [
    "Step One: Think of Three Questions\n",
    "---------------------------------------\n",
    "\n",
    "- One yes/no question\n",
    "- One multiple choice\n",
    "- One question with a single number or word answer (like before)"
   ]
  },
  {
   "cell_type": "markdown",
   "metadata": {
    "slideshow": {
     "slide_type": "slide"
    }
   },
   "source": [
    "Hints\n",
    "===\n",
    "\n",
    "- How are the different types of questions going to make this project different from the exercise we did before?"
   ]
  },
  {
   "cell_type": "markdown",
   "metadata": {
    "slideshow": {
     "slide_type": "slide"
    }
   },
   "source": [
    "Step Two: Write a Program That Asks Three Questions\n",
    "-----------------------------------------------------------\n",
    "\n",
    "Pro Tip: Try to reuse the input and output code from before."
   ]
  },
  {
   "cell_type": "markdown",
   "metadata": {
    "slideshow": {
     "slide_type": "slide"
    }
   },
   "source": [
    "Hints\n",
    "===\n",
    "\n",
    "**Remember:**\n",
    "- The function for getting input from the user is `raw_input()`.\n",
    "- The function for putting output onto the console is `print()`.\n",
    "- To check the answer, you need `if user_input == answer:`"
   ]
  },
  {
   "cell_type": "markdown",
   "metadata": {
    "slideshow": {
     "slide_type": "slide"
    }
   },
   "source": [
    "Step Three: Make Sure to Use a Loop\n",
    "-----------------------------------------\n",
    "\n",
    "What are you going to use to store the questions and answers?"
   ]
  },
  {
   "cell_type": "markdown",
   "metadata": {
    "slideshow": {
     "slide_type": "slide"
    }
   },
   "source": [
    "Hints\n",
    "===\n",
    "\n",
    "**Remember:**\n",
    "- The function for getting input from the user is `raw_input()`.\n",
    "- The function for putting output onto the console is `print()`.\n",
    "- To check the answer, you need `if user_input == answer:`"
   ]
  },
  {
   "cell_type": "markdown",
   "metadata": {
    "slideshow": {
     "slide_type": "slide"
    }
   },
   "source": [
    "Step Four: Keep Track of the Number of Right Answers\n",
    "-------------------------------------------------------------\n",
    "\n",
    "Note every answer the user gets right and print it out at the end of the quiz."
   ]
  },
  {
   "cell_type": "markdown",
   "metadata": {
    "slideshow": {
     "slide_type": "slide"
    }
   },
   "source": [
    "Step Five: Make Answers Case-Insensitive\n",
    "-----------------------------------------------\n",
    "\n",
    "- yes/YES/yES are all valid answers for yes/no questions\n",
    "- a/A should both be accepted\n",
    "- No capitals for word answers should be allowed"
   ]
  },
  {
   "cell_type": "markdown",
   "metadata": {
    "slideshow": {
     "slide_type": "slide"
    }
   },
   "source": [
    "Step Six: Plot the Results Using ASCII\n",
    "---------------------------------------------\n",
    "\n",
    "- Note the types of questions the user got right\n",
    "- Write out a `*` for each answer they got right in that section"
   ]
  },
  {
   "cell_type": "markdown",
   "metadata": {
    "slideshow": {
     "slide_type": "slide"
    }
   },
   "source": [
    "Step Seven: *HARDCORE MODE* Use Object Oriented Programming to Refactor Your Code\n",
    "--------------------------------------------------------------------------------\n",
    "\n",
    "- Object Oriented Programming (OOP) will not be covered in this workshop, but you can try it as a challenge\n",
    "- Teach it to yourself using this exercises 40 to 44 from [this website](http://learnpythonthehardway.org/book/ex40.html)\n",
    "- Use it to re-write your quiz using an object for each question type\n",
    "- What are the disadvantages and advantages to OOP?"
   ]
  }
 ],
 "metadata": {
  "celltoolbar": "Slideshow",
  "kernelspec": {
   "display_name": "IPython (Python 3)",
   "language": "python",
   "name": "python3"
  },
  "language_info": {
   "codemirror_mode": {
    "name": "ipython",
    "version": 3
   },
   "file_extension": ".py",
   "mimetype": "text/x-python",
   "name": "python",
   "nbconvert_exporter": "python",
   "pygments_lexer": "ipython3",
   "version": "3.4.3"
  }
 },
 "nbformat": 4,
 "nbformat_minor": 0
}
