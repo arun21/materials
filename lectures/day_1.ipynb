{
 "cells": [
  {
   "cell_type": "markdown",
   "metadata": {
    "slideshow": {
     "slide_type": "slide"
    }
   },
   "source": [
    "Project: Make Your Own Quiz!\n",
    "--------------------------------\n",
    "\n",
    "Let's make a Python quiz program! It will ask different types of questions via the console and tell you how well you did.\n",
    "\n",
    "INSERT SCREENSHOT"
   ]
  },
  {
   "cell_type": "markdown",
   "metadata": {
    "slideshow": {
     "slide_type": "slide"
    }
   },
   "source": [
    "Step One: Think of Three Questions\n",
    "---------------------------------------\n",
    "\n",
    "- One yes/no question\n",
    "- One multiple choice\n",
    "- One question with a single number or word answer (like before)"
   ]
  },
  {
   "cell_type": "markdown",
   "metadata": {
    "slideshow": {
     "slide_type": "slide"
    }
   },
   "source": [
    "Step Two: Write a Program That Asks Three Questions\n",
    "-----------------------------------------------------------\n",
    "\n",
    "Pro Tip: Try to reuse the input and output code from before."
   ]
  },
  {
   "cell_type": "markdown",
   "metadata": {
    "slideshow": {
     "slide_type": "slide"
    }
   },
   "source": [
    "Step Three: Make Sure to Use a Loop\n",
    "-----------------------------------------\n",
    "\n",
    "What are you going to use to store the questions and answers?"
   ]
  },
  {
   "cell_type": "markdown",
   "metadata": {
    "slideshow": {
     "slide_type": "slide"
    }
   },
   "source": [
    "Step Four: Keep Track of the Number of Right Answers\n",
    "-------------------------------------------------------------\n",
    "\n",
    "Note every answer the user gets right and print it out at the end of the quiz."
   ]
  },
  {
   "cell_type": "markdown",
   "metadata": {
    "slideshow": {
     "slide_type": "slide"
    }
   },
   "source": [
    "Step Five: Make Answers Case-Insensitive\n",
    "-----------------------------------------------\n",
    "\n",
    "- yes/YES/yES are all valid answers for yes/no questions\n",
    "- a/A should both be accepted\n",
    "- No capitals for word answers should be allowed"
   ]
  },
  {
   "cell_type": "markdown",
   "metadata": {
    "slideshow": {
     "slide_type": "slide"
    }
   },
   "source": [
    "Step Six: Plot the Results Using ASCII\n",
    "---------------------------------------------\n",
    "\n",
    "- Note the types of questions the user got right\n",
    "- Write out a `*` for each answer they got right in that section"
   ]
  },
  {
   "cell_type": "markdown",
   "metadata": {
    "slideshow": {
     "slide_type": "slide"
    }
   },
   "source": [
    "Step Seven: *HARDCORE MODE* Use Object Oriented Programming to Refactor Your Code\n",
    "--------------------------------------------------------------------------------\n",
    "\n",
    "- Object Oriented Programming (OOP) will not be covered in this workshop, but you can try it as a challenge\n",
    "- Teach it to yourself using this exercises 40 to 44 from [this website](http://learnpythonthehardway.org/book/ex40.html)\n",
    "- Use it to re-write your quiz using an object for each question type\n",
    "- What are the disadvantages and advantages to OOP?"
   ]
  }
 ],
 "metadata": {
  "celltoolbar": "Slideshow",
  "kernelspec": {
   "display_name": "Python 2",
   "language": "python",
   "name": "python2"
  },
  "language_info": {
   "codemirror_mode": {
    "name": "ipython",
    "version": 2
   },
   "file_extension": ".py",
   "mimetype": "text/x-python",
   "name": "python",
   "nbconvert_exporter": "python",
   "pygments_lexer": "ipython2",
   "version": "2.7.6"
  }
 },
 "nbformat": 4,
 "nbformat_minor": 0
}
