{
 "cells": [
  {
   "cell_type": "markdown",
   "metadata": {
    "slideshow": {
     "slide_type": "slide"
    }
   },
   "source": [
    "# Python Programming Workshop for Beginners\n",
    "### Day 1: Turbo Intro\n",
    "### Friday, Jan 29, 2016\n",
    "### University of Waterloo\n",
    "<img src=\"./files/rollercoaster.jpg\" width=\"300\" \\>"
   ]
  },
  {
   "cell_type": "markdown",
   "metadata": {
    "slideshow": {
     "slide_type": "slide"
    }
   },
   "source": [
    "# Clarifications from yesterday...\n",
    "\n",
    "1. The difference between typing in the IPython and in a script\n",
    "\n",
    "2. Why do we want: \n",
    "```python \n",
    "print(\"Good evening!\")\n",
    "```\n",
    "when we can just type Good evening?\n",
    "\n",
    "3. Python vs. non-Python commands\n",
    "\n",
    "4. Additional explanation of **cd**\n",
    "\n",
    "5. How to find the title file addresses on the MAC?"
   ]
  },
  {
   "cell_type": "markdown",
   "metadata": {
    "slideshow": {
     "slide_type": "slide"
    }
   },
   "source": [
    "Welcome to Day 1\n",
    "=========\n",
    "\n",
    "**Here's what we're going to cover today:**\n",
    "- Review from yesterday\n",
    "- Data types\n",
    "- Putting data in boxes (variables)\n",
    "- Flow control\n",
    "- Getting to know lists (**`len()`** and **`range()`**)\n",
    "- Talking to the user using **`input()`**\n",
    "- Repeating steps with loops\n",
    "\n",
    "**It might look like a lot, but they're all really small topics and we're here to help!**\n",
    "**We are all very much in the same boat.**"
   ]
  },
  {
   "cell_type": "markdown",
   "metadata": {
    "slideshow": {
     "slide_type": "slide"
    }
   },
   "source": [
    "Slides available online at:\n",
    "- `http://uwpyb.github.io/materials/lectures/day_1.slides.html#/`\n",
    "\n",
    "Or if you want a shorter URL:\n",
    "- `http://goo.gl/7GtZqx`"
   ]
  },
  {
   "cell_type": "markdown",
   "metadata": {
    "slideshow": {
     "slide_type": "slide"
    }
   },
   "source": [
    "Math\n",
    "==="
   ]
  },
  {
   "cell_type": "code",
   "execution_count": 1,
   "metadata": {
    "collapsed": false
   },
   "outputs": [
    {
     "data": {
      "text/plain": [
       "11"
      ]
     },
     "execution_count": 1,
     "metadata": {},
     "output_type": "execute_result"
    }
   ],
   "source": [
    "5 + 6"
   ]
  },
  {
   "cell_type": "code",
   "execution_count": 2,
   "metadata": {
    "collapsed": false
   },
   "outputs": [
    {
     "data": {
      "text/plain": [
       "-6"
      ]
     },
     "execution_count": 2,
     "metadata": {},
     "output_type": "execute_result"
    }
   ],
   "source": [
    "-6"
   ]
  },
  {
   "cell_type": "code",
   "execution_count": 3,
   "metadata": {
    "collapsed": false
   },
   "outputs": [
    {
     "data": {
      "text/plain": [
       "3.0"
      ]
     },
     "execution_count": 3,
     "metadata": {},
     "output_type": "execute_result"
    }
   ],
   "source": [
    " ((2+5)*3)/7"
   ]
  },
  {
   "cell_type": "markdown",
   "metadata": {
    "slideshow": {
     "slide_type": "slide"
    }
   },
   "source": [
    "More Than Math\n",
    "========"
   ]
  },
  {
   "cell_type": "code",
   "execution_count": 4,
   "metadata": {
    "collapsed": false
   },
   "outputs": [
    {
     "name": "stdout",
     "output_type": "stream",
     "text": [
      "Hello\n"
     ]
    }
   ],
   "source": [
    "print(\"Hello\")"
   ]
  },
  {
   "cell_type": "code",
   "execution_count": 5,
   "metadata": {
    "collapsed": false
   },
   "outputs": [
    {
     "name": "stdout",
     "output_type": "stream",
     "text": [
      "Hello Waterloo\n"
     ]
    }
   ],
   "source": [
    "print(\"Hello \" + \"Waterloo\")"
   ]
  },
  {
   "cell_type": "markdown",
   "metadata": {
    "slideshow": {
     "slide_type": "slide"
    }
   },
   "source": [
    "This isn't going to work."
   ]
  },
  {
   "cell_type": "code",
   "execution_count": 6,
   "metadata": {
    "collapsed": false
   },
   "outputs": [
    {
     "ename": "TypeError",
     "evalue": "Can't convert 'int' object to str implicitly",
     "output_type": "error",
     "traceback": [
      "\u001b[1;31m---------------------------------------------------------------------------\u001b[0m",
      "\u001b[1;31mTypeError\u001b[0m                                 Traceback (most recent call last)",
      "\u001b[1;32m<ipython-input-6-ec90a5b2646e>\u001b[0m in \u001b[0;36m<module>\u001b[1;34m()\u001b[0m\n\u001b[1;32m----> 1\u001b[1;33m \u001b[0mprint\u001b[0m\u001b[1;33m(\u001b[0m\u001b[1;34m\"Hello\"\u001b[0m \u001b[1;33m+\u001b[0m \u001b[1;36m4\u001b[0m\u001b[1;33m)\u001b[0m\u001b[1;33m\u001b[0m\u001b[0m\n\u001b[0m",
      "\u001b[1;31mTypeError\u001b[0m: Can't convert 'int' object to str implicitly"
     ]
    }
   ],
   "source": [
    "print(\"Hello\" + 4)"
   ]
  },
  {
   "cell_type": "markdown",
   "metadata": {
    "slideshow": {
     "slide_type": "slide"
    }
   },
   "source": [
    "It didn't work because the type of data or information isn't compatible. That's why we got a **`TypeError`**.\n",
    "Use **`type()`** to figure out the type of data"
   ]
  },
  {
   "cell_type": "code",
   "execution_count": 7,
   "metadata": {
    "collapsed": false
   },
   "outputs": [
    {
     "data": {
      "text/plain": [
       "int"
      ]
     },
     "execution_count": 7,
     "metadata": {},
     "output_type": "execute_result"
    }
   ],
   "source": [
    "type(4)"
   ]
  },
  {
   "cell_type": "code",
   "execution_count": 8,
   "metadata": {
    "collapsed": false
   },
   "outputs": [
    {
     "data": {
      "text/plain": [
       "str"
      ]
     },
     "execution_count": 8,
     "metadata": {},
     "output_type": "execute_result"
    }
   ],
   "source": [
    "type(\"hello\")"
   ]
  },
  {
   "cell_type": "markdown",
   "metadata": {
    "collapsed": true,
    "slideshow": {
     "slide_type": "slide"
    }
   },
   "source": [
    "You can use **`int()`** and **`str()`** to convert between types."
   ]
  },
  {
   "cell_type": "code",
   "execution_count": 9,
   "metadata": {
    "collapsed": false
   },
   "outputs": [
    {
     "data": {
      "text/plain": [
       "str"
      ]
     },
     "execution_count": 9,
     "metadata": {},
     "output_type": "execute_result"
    }
   ],
   "source": [
    "type(str(4))"
   ]
  },
  {
   "cell_type": "markdown",
   "metadata": {
    "slideshow": {
     "slide_type": "slide"
    }
   },
   "source": [
    "What would we change in **`print(\"Hello\" + 4)`** to make it not throw an error anymore and output **`Hello4`**?<br>\n",
    "<p>\n",
    "a) **`print(int(\"Hello\") + 4)`**<br>\n",
    "b) **`print(str(\"Hello\") + 4)`**<br>\n",
    "c) **`print(\"Hello\" + str(4))`**"
   ]
  },
  {
   "cell_type": "markdown",
   "metadata": {
    "slideshow": {
     "slide_type": "slide"
    }
   },
   "source": [
    "Saving data into named boxes using variables\n",
    "========================\n",
    "\n",
    "<!---\n",
    "Do we show the difference between a reference and not a reference?\n",
    "-->"
   ]
  },
  {
   "cell_type": "code",
   "execution_count": 11,
   "metadata": {
    "collapsed": false
   },
   "outputs": [
    {
     "name": "stdout",
     "output_type": "stream",
     "text": [
      "3\n"
     ]
    }
   ],
   "source": [
    "box = 3\n",
    "print(box)"
   ]
  },
  {
   "cell_type": "code",
   "execution_count": 12,
   "metadata": {
    "collapsed": false
   },
   "outputs": [
    {
     "name": "stdout",
     "output_type": "stream",
     "text": [
      "6\n"
     ]
    }
   ],
   "source": [
    "double_box = box * 2\n",
    "print(double_box)"
   ]
  },
  {
   "cell_type": "code",
   "execution_count": 13,
   "metadata": {
    "collapsed": false
   },
   "outputs": [
    {
     "name": "stdout",
     "output_type": "stream",
     "text": [
      "9\n"
     ]
    }
   ],
   "source": [
    "number_box = 8\n",
    "number_box = number_box + 1\n",
    "print(number_box)"
   ]
  },
  {
   "cell_type": "code",
   "execution_count": 2,
   "metadata": {
    "collapsed": false
   },
   "outputs": [
    {
     "name": "stdout",
     "output_type": "stream",
     "text": [
      "kittens\n"
     ]
    }
   ],
   "source": [
    "box = \"kittens\"\n",
    "print(box)"
   ]
  },
  {
   "cell_type": "code",
   "execution_count": 3,
   "metadata": {
    "collapsed": false
   },
   "outputs": [
    {
     "name": "stdout",
     "output_type": "stream",
     "text": [
      "kittensloveyarn\n"
     ]
    }
   ],
   "source": [
    "box = \"kittens\" + \"love\" + \"yarn\"\n",
    "print(box)"
   ]
  },
  {
   "cell_type": "markdown",
   "metadata": {
    "slideshow": {
     "slide_type": "slide"
    }
   },
   "source": [
    "If I run the following code, what will be the final value of `b`?<br>\n",
    "```\n",
    "a = 1\n",
    "b = a * 5\n",
    "a = 2\n",
    "```\n",
    "<p>\n",
    "a) `5`<br>\n",
    "b) `1`<br>\n",
    "c) `10`"
   ]
  },
  {
   "cell_type": "markdown",
   "metadata": {
    "slideshow": {
     "slide_type": "slide"
    }
   },
   "source": [
    "Lists: a collection box\n",
    "======================="
   ]
  },
  {
   "cell_type": "code",
   "execution_count": 4,
   "metadata": {
    "collapsed": false
   },
   "outputs": [
    {
     "name": "stdout",
     "output_type": "stream",
     "text": [
      "['apples', 'cabbage', 'soylent']\n"
     ]
    }
   ],
   "source": [
    "groceries = [\"apples\", \"cabbage\", \"soylent\"]\n",
    "print(groceries)"
   ]
  },
  {
   "cell_type": "code",
   "execution_count": 16,
   "metadata": {
    "collapsed": false
   },
   "outputs": [
    {
     "name": "stdout",
     "output_type": "stream",
     "text": [
      "apples\n"
     ]
    }
   ],
   "source": [
    "print(groceries[0])"
   ]
  },
  {
   "cell_type": "code",
   "execution_count": 17,
   "metadata": {
    "collapsed": false
   },
   "outputs": [
    {
     "name": "stdout",
     "output_type": "stream",
     "text": [
      "soylent\n"
     ]
    }
   ],
   "source": [
    "print(groceries[2])"
   ]
  },
  {
   "cell_type": "code",
   "execution_count": 18,
   "metadata": {
    "collapsed": false
   },
   "outputs": [
    {
     "name": "stdout",
     "output_type": "stream",
     "text": [
      "soylent\n"
     ]
    }
   ],
   "source": [
    "print(groceries[-1])"
   ]
  },
  {
   "cell_type": "markdown",
   "metadata": {
    "slideshow": {
     "slide_type": "slide"
    }
   },
   "source": [
    "What is the result of running the code **`print(groceries[3])`**?\n",
    "<p>\n",
    "a) Error<br>\n",
    "b) Soylent<br>\n",
    "c) Apples"
   ]
  },
  {
   "cell_type": "markdown",
   "metadata": {
    "slideshow": {
     "slide_type": "slide"
    }
   },
   "source": [
    "**`len()`** is like **`type()`**, you can put stuff into it (in between the parentheses) to get stuff out. In this case, the total amount of items in the list."
   ]
  },
  {
   "cell_type": "code",
   "execution_count": 19,
   "metadata": {
    "collapsed": false
   },
   "outputs": [
    {
     "name": "stdout",
     "output_type": "stream",
     "text": [
      "3\n"
     ]
    }
   ],
   "source": [
    "length = len(groceries)\n",
    "print(length)"
   ]
  },
  {
   "cell_type": "markdown",
   "metadata": {},
   "source": [
    "You can also do stuff to lists using dots"
   ]
  },
  {
   "cell_type": "code",
   "execution_count": 20,
   "metadata": {
    "collapsed": false
   },
   "outputs": [
    {
     "name": "stdout",
     "output_type": "stream",
     "text": [
      "['apples', 'cabbage', 'soylent', 'tofu']\n"
     ]
    }
   ],
   "source": [
    "groceries.append(\"tofu\")\n",
    "print(groceries)"
   ]
  },
  {
   "cell_type": "markdown",
   "metadata": {},
   "source": [
    "You can use dots with strings too!"
   ]
  },
  {
   "cell_type": "code",
   "execution_count": 5,
   "metadata": {
    "collapsed": false
   },
   "outputs": [
    {
     "name": "stdout",
     "output_type": "stream",
     "text": [
      "KITTENS\n",
      "kittens\n"
     ]
    }
   ],
   "source": [
    "cat_box = \"kittens\"\n",
    "print(cat_box.upper())\n",
    "print(cat_box)"
   ]
  },
  {
   "cell_type": "code",
   "execution_count": 22,
   "metadata": {
    "collapsed": false,
    "slideshow": {
     "slide_type": "slide"
    }
   },
   "outputs": [
    {
     "name": "stdout",
     "output_type": "stream",
     "text": [
      "Variable     Type    Data/Info\n",
      "------------------------------\n",
      "box          str     kittens\n",
      "cat_box      str     kittens\n",
      "double_box   int     6\n",
      "groceries    list    n=4\n",
      "length       int     3\n",
      "number_box   int     9\n"
     ]
    }
   ],
   "source": [
    "whos"
   ]
  },
  {
   "cell_type": "markdown",
   "metadata": {
    "slideshow": {
     "slide_type": "slide"
    }
   },
   "source": [
    "Python finds out the truth\n",
    "==============="
   ]
  },
  {
   "cell_type": "code",
   "execution_count": 23,
   "metadata": {
    "collapsed": false
   },
   "outputs": [
    {
     "data": {
      "text/plain": [
       "True"
      ]
     },
     "execution_count": 23,
     "metadata": {},
     "output_type": "execute_result"
    }
   ],
   "source": [
    "5 > 3"
   ]
  },
  {
   "cell_type": "code",
   "execution_count": 24,
   "metadata": {
    "collapsed": false
   },
   "outputs": [
    {
     "data": {
      "text/plain": [
       "False"
      ]
     },
     "execution_count": 24,
     "metadata": {},
     "output_type": "execute_result"
    }
   ],
   "source": [
    "5 <= 2"
   ]
  },
  {
   "cell_type": "code",
   "execution_count": 25,
   "metadata": {
    "collapsed": false
   },
   "outputs": [
    {
     "data": {
      "text/plain": [
       "True"
      ]
     },
     "execution_count": 25,
     "metadata": {},
     "output_type": "execute_result"
    }
   ],
   "source": [
    "\"a\" in \"face\""
   ]
  },
  {
   "cell_type": "code",
   "execution_count": 26,
   "metadata": {
    "collapsed": false
   },
   "outputs": [
    {
     "data": {
      "text/plain": [
       "False"
      ]
     },
     "execution_count": 26,
     "metadata": {},
     "output_type": "execute_result"
    }
   ],
   "source": [
    "\"b\" in \"pants\""
   ]
  },
  {
   "cell_type": "code",
   "execution_count": 27,
   "metadata": {
    "collapsed": false
   },
   "outputs": [
    {
     "data": {
      "text/plain": [
       "False"
      ]
     },
     "execution_count": 27,
     "metadata": {},
     "output_type": "execute_result"
    }
   ],
   "source": [
    "\"pants\" == \"face\""
   ]
  },
  {
   "cell_type": "code",
   "execution_count": 28,
   "metadata": {
    "collapsed": false
   },
   "outputs": [
    {
     "data": {
      "text/plain": [
       "True"
      ]
     },
     "execution_count": 28,
     "metadata": {},
     "output_type": "execute_result"
    }
   ],
   "source": [
    "2 == 4/2.0"
   ]
  },
  {
   "cell_type": "markdown",
   "metadata": {
    "slideshow": {
     "slide_type": "slide"
    }
   },
   "source": [
    "What will be the result of:\n",
    "```python\n",
    "hands = 2\n",
    "handy_person = hands > 2\n",
    "print(handy_person)\n",
    "```\n",
    "<p>\n",
    "a) True<br>\n",
    "b) False<br>\n",
    "c) Error<br>"
   ]
  },
  {
   "cell_type": "markdown",
   "metadata": {
    "collapsed": true,
    "slideshow": {
     "slide_type": "slide"
    }
   },
   "source": [
    "Flow Control\n",
    "=======\n",
    "\n",
    "Programs have to be guided through multiple steps. They do this by checking what's *true* at every step."
   ]
  },
  {
   "cell_type": "markdown",
   "metadata": {},
   "source": [
    "How does Python read this?"
   ]
  },
  {
   "cell_type": "code",
   "execution_count": 1,
   "metadata": {
    "collapsed": false
   },
   "outputs": [
    {
     "name": "stdout",
     "output_type": "stream",
     "text": [
      "Pizza\n"
     ]
    }
   ],
   "source": [
    "today = \"Saturday\"\n",
    "if today == \"Saturday\":\n",
    "    print(\"Pizza\")\n",
    "else:\n",
    "    print(\"No Pizza\")"
   ]
  },
  {
   "cell_type": "markdown",
   "metadata": {},
   "source": [
    "What happens if you change the first line to **`today = \"Sunday\"`**?"
   ]
  },
  {
   "cell_type": "markdown",
   "metadata": {
    "slideshow": {
     "slide_type": "slide"
    }
   },
   "source": [
    "Talking to People\n",
    "================="
   ]
  },
  {
   "cell_type": "code",
   "execution_count": 31,
   "metadata": {
    "collapsed": false
   },
   "outputs": [
    {
     "name": "stdout",
     "output_type": "stream",
     "text": [
      "What's your name?Sean\n",
      "Hello Sean\n"
     ]
    }
   ],
   "source": [
    "name = input(\"What's your name?\")\n",
    "print(\"Hello \" + name)"
   ]
  },
  {
   "cell_type": "markdown",
   "metadata": {
    "slideshow": {
     "slide_type": "slide"
    }
   },
   "source": [
    "Why doesn't the follwing code work? And how can we fix it?"
   ]
  },
  {
   "cell_type": "code",
   "execution_count": null,
   "metadata": {
    "collapsed": false
   },
   "outputs": [],
   "source": [
    "age = input(\"How old are you?\")\n",
    "print(age + 7)"
   ]
  },
  {
   "cell_type": "markdown",
   "metadata": {
    "slideshow": {
     "slide_type": "slide"
    }
   },
   "source": [
    "Exercise: Cupcake Dispenser\n",
    "===============\n",
    "\n",
    "A person puts in the amount of cupcakes they want and your program returns the total amount they have to pay. The cupcakes are 1.25$ each and only 5 cupcakes can be made at a time!\n",
    "\n",
    "Here are the lines of code you'll need. Put them in the right order and with the right indentation!\n",
    "<p>\n",
    "-------\n",
    "```python\n",
    "amount = int(user_input)\n",
    "```\n",
    "-------\n",
    "```python\n",
    "user_input = input(\"Enter the amount of cupcakes you desire: \")\n",
    "```\n",
    "-------\n",
    "```python\n",
    "if amount <= 5:\n",
    "```\n",
    "-------\n",
    "```python\n",
    "print(\"We can only make 5 cupcakes at a time!\")\n",
    "```\n",
    "-------\n",
    "```python\n",
    "print(\"Your order costs\", cost)\n",
    "```\n",
    "-------\n",
    "```python\n",
    "cost = amount * 1.25\n",
    "```\n",
    "-------\n",
    "```python\n",
    "else:\n",
    "```\n",
    "-------\n",
    "The expected output should look like:\n",
    "```\n",
    "Enter the amount of cupcakes you desire: 6\n",
    "We can only make 5 cupcakes at a time!\n",
    "Enter the amount of cupcakes you desire: 2\n",
    "Your order costs 2.5\n",
    "```"
   ]
  },
  {
   "cell_type": "markdown",
   "metadata": {
    "slideshow": {
     "slide_type": "slide"
    }
   },
   "source": [
    "Repeating actions with loops\n",
    "================\n",
    "\n",
    "Problem: we want to do something a certain amount of times or we want to do something to each part of a list"
   ]
  },
  {
   "cell_type": "code",
   "execution_count": 33,
   "metadata": {
    "collapsed": false
   },
   "outputs": [],
   "source": [
    "names = [\"ron\", \"harry\", \"hermione\"]"
   ]
  },
  {
   "cell_type": "code",
   "execution_count": 34,
   "metadata": {
    "collapsed": false
   },
   "outputs": [
    {
     "name": "stdout",
     "output_type": "stream",
     "text": [
      "Hi Ron\n",
      "Hi Harry\n",
      "Hi Hermione\n"
     ]
    }
   ],
   "source": [
    "print(\"Hi \" + names[0].capitalize())\n",
    "print(\"Hi \" + names[1].capitalize())\n",
    "print(\"Hi \" + names[2].capitalize())"
   ]
  },
  {
   "cell_type": "markdown",
   "metadata": {},
   "source": [
    "Well, that was horrible. Surely there's a better way?"
   ]
  },
  {
   "cell_type": "code",
   "execution_count": 35,
   "metadata": {
    "collapsed": false
   },
   "outputs": [
    {
     "name": "stdout",
     "output_type": "stream",
     "text": [
      "Hi Ron\n",
      "Hi Harry\n",
      "Hi Hermione\n"
     ]
    }
   ],
   "source": [
    "for name in names:\n",
    "    print(\"Hi \" + name.capitalize())"
   ]
  },
  {
   "cell_type": "markdown",
   "metadata": {
    "slideshow": {
     "slide_type": "slide"
    }
   },
   "source": [
    "What if we want to do something a certain amount of times? Like make a certain amount of pies?"
   ]
  },
  {
   "cell_type": "code",
   "execution_count": 36,
   "metadata": {
    "collapsed": false
   },
   "outputs": [
    {
     "name": "stdout",
     "output_type": "stream",
     "text": [
      "0 pies\n",
      "1 pies\n",
      "2 pies\n",
      "3 pies\n",
      "4 pies\n"
     ]
    }
   ],
   "source": [
    "pie_num = 5\n",
    "for pie in range(pie_num):\n",
    "    print(str(pie) + \" pies\")"
   ]
  },
  {
   "cell_type": "code",
   "execution_count": 1,
   "metadata": {
    "collapsed": false
   },
   "outputs": [
    {
     "name": "stdout",
     "output_type": "stream",
     "text": [
      "Enter a number greater than 5 1\n",
      "Enter a number greater than 5 3\n",
      "Enter a number greater than 5 5\n",
      "Enter a number greater than 5 7\n",
      "You gave 7\n"
     ]
    }
   ],
   "source": [
    "given = 0\n",
    "while given <= 5:\n",
    "    ans = input(\"Enter a number greater than 5 \")\n",
    "    given = int(ans)\n",
    "print(\"You gave \" + ans)"
   ]
  },
  {
   "cell_type": "markdown",
   "metadata": {
    "slideshow": {
     "slide_type": "slide"
    }
   },
   "source": [
    "Exercise: Tweet validator\n",
    "==============\n",
    "\n",
    "Tweets are these messages you post on the Internet that have to be 140 characters long. How can we make sure that a given string is the appropriate length? Print out the length of the string and whether it is valid or not.\n",
    "\n",
    "For example, given **`tweet = \"OMG Python!\"`** the output should be:\n",
    "```\n",
    "11\n",
    "Valid\n",
    "```"
   ]
  },
  {
   "cell_type": "markdown",
   "metadata": {},
   "source": [
    "Fill in the `BLANK`s!"
   ]
  },
  {
   "cell_type": "code",
   "execution_count": null,
   "metadata": {
    "collapsed": true
   },
   "outputs": [],
   "source": [
    "tweet = \"OMG Python!\"\n",
    "count = 0\n",
    "for char in tweet:\n",
    "    BLANKBLANKBLANK\n",
    "print(count)\n",
    "if BLANKBLANKBLANK:\n",
    "    print(\"Valid\")\n",
    "else:\n",
    "    print(\"Invalid\")"
   ]
  },
  {
   "cell_type": "code",
   "execution_count": 47,
   "metadata": {
    "collapsed": false,
    "slideshow": {
     "slide_type": "slide"
    }
   },
   "outputs": [
    {
     "name": "stdout",
     "output_type": "stream",
     "text": [
      "11\n",
      "Valid\n"
     ]
    }
   ],
   "source": [
    "tweet = \"OMG Python!\"\n",
    "count = 0\n",
    "for char in tweet:\n",
    "    count = count + 1\n",
    "print(count)\n",
    "if count <= 140:\n",
    "    print(\"Valid\")\n",
    "else:\n",
    "    print(\"Invalid\")"
   ]
  },
  {
   "cell_type": "code",
   "execution_count": 45,
   "metadata": {
    "collapsed": false
   },
   "outputs": [
    {
     "name": "stdout",
     "output_type": "stream",
     "text": [
      "11\n",
      "Valid\n"
     ]
    }
   ],
   "source": [
    "count = len(tweet)\n",
    "print(count)\n",
    "if count <= 140:\n",
    "    print(\"Valid\")\n",
    "else:\n",
    "    print(\"Invalid\")"
   ]
  },
  {
   "cell_type": "markdown",
   "metadata": {
    "slideshow": {
     "slide_type": "slide"
    }
   },
   "source": [
    "Exercise: Processing Grades\n",
    "===============\n",
    "\n",
    "Given a list of grades, **`grades = [81, 70, 60, 91]`**, print the average and the number of grades above 80.\n",
    "In this case:\n",
    "```\n",
    "Average 75.5\n",
    "Number of good grades 2\n",
    "```\n"
   ]
  },
  {
   "cell_type": "code",
   "execution_count": 2,
   "metadata": {
    "collapsed": false,
    "slideshow": {
     "slide_type": "slide"
    }
   },
   "outputs": [
    {
     "name": "stdout",
     "output_type": "stream",
     "text": [
      "WOW! 81\n",
      "WOW! 91\n",
      "Average 75.5\n",
      "Number of good grades 2\n"
     ]
    }
   ],
   "source": [
    "# Python is great for data processing\n",
    "grades = [81, 70, 60, 91]\n",
    "good_grades = 0\n",
    "avg = 0\n",
    "for grade in grades:\n",
    "    if grade >= 80:\n",
    "        print(\"WOW! \" + str(grade))\n",
    "        good_grades = good_grades + 1\n",
    "    avg += grade\n",
    "avg = avg/len(grades)\n",
    "print(\"Average \" + str(avg))\n",
    "print(\"Number of good grades \" + str(good_grades))"
   ]
  },
  {
   "cell_type": "markdown",
   "metadata": {
    "slideshow": {
     "slide_type": "slide"
    }
   },
   "source": [
    "Dictionaries: Data types that store associations\n",
    "============================"
   ]
  },
  {
   "cell_type": "code",
   "execution_count": 3,
   "metadata": {
    "collapsed": false
   },
   "outputs": [
    {
     "data": {
      "text/plain": [
       "{'Canada': 'Ottawa', 'Croatia': 'Zagreb', 'Ontario': 'Toronto'}"
      ]
     },
     "execution_count": 3,
     "metadata": {},
     "output_type": "execute_result"
    }
   ],
   "source": [
    "capitals = {\"Ontario\":\"Toronto\", \"Canada\":\"Ottawa\", \"Croatia\":\"Zagreb\"}\n",
    "capitals"
   ]
  },
  {
   "cell_type": "markdown",
   "metadata": {},
   "source": [
    "<img src=\"./files/dictionary_capital.png\" width=\"300\" \\>"
   ]
  },
  {
   "cell_type": "code",
   "execution_count": 6,
   "metadata": {
    "collapsed": false,
    "scrolled": true,
    "slideshow": {
     "slide_type": "slide"
    }
   },
   "outputs": [
    {
     "name": "stdout",
     "output_type": "stream",
     "text": [
      "Toronto\n"
     ]
    }
   ],
   "source": [
    "print(capitals[\"Ontario\"])"
   ]
  },
  {
   "cell_type": "code",
   "execution_count": 10,
   "metadata": {
    "collapsed": false
   },
   "outputs": [
    {
     "ename": "KeyError",
     "evalue": "0",
     "output_type": "error",
     "traceback": [
      "\u001b[0;31m------------------------------------------------------------\u001b[0m",
      "\u001b[0;31mKeyError\u001b[0m                   Traceback (most recent call last)",
      "\u001b[0;32m<ipython-input-10-251e1839e597>\u001b[0m in \u001b[0;36m<module>\u001b[0;34m()\u001b[0m\n\u001b[0;32m----> 1\u001b[0;31m \u001b[0;32mprint\u001b[0m\u001b[0;34m(\u001b[0m\u001b[0mcapitals\u001b[0m\u001b[0;34m[\u001b[0m\u001b[0;36m0\u001b[0m\u001b[0;34m]\u001b[0m\u001b[0;34m)\u001b[0m\u001b[0;34m\u001b[0m\u001b[0m\n\u001b[0m",
      "\u001b[0;31mKeyError\u001b[0m: 0"
     ]
    }
   ],
   "source": [
    "print(capitals[0])"
   ]
  },
  {
   "cell_type": "code",
   "execution_count": 7,
   "metadata": {
    "collapsed": true,
    "slideshow": {
     "slide_type": "slide"
    }
   },
   "outputs": [],
   "source": [
    "capitals = {\"Ontario\":\"Toronto\", \"Canada\":\"Ottawa\", \"Croatia\":\"Zagreb\"}"
   ]
  },
  {
   "cell_type": "code",
   "execution_count": 8,
   "metadata": {
    "collapsed": false
   },
   "outputs": [
    {
     "name": "stdout",
     "output_type": "stream",
     "text": [
      "Canada\n",
      "Ontario\n",
      "Croatia\n"
     ]
    }
   ],
   "source": [
    "for place in capitals:\n",
    "    print(place)"
   ]
  },
  {
   "cell_type": "markdown",
   "metadata": {
    "slideshow": {
     "slide_type": "slide"
    }
   },
   "source": [
    "Exercise: Quiz the Capitals\n",
    "===============\n",
    "\n",
    "Given the capitals dictionary from before, make a flash card-like quiz, where every location is the question and the capitol is the answer.\n",
    "\n",
    "Your output, with the user entering the answers, should look like:\n",
    "```\n",
    "What is the capitol of Croatia? Zagreb\n",
    "Right answer!\n",
    "What is the capitol of Canada? Quebec\n",
    "Sorry, the answer was Ottawa\n",
    "```\n",
    "\n",
    "\n",
    "Fill in the `BLANK`s!"
   ]
  },
  {
   "cell_type": "code",
   "execution_count": null,
   "metadata": {
    "collapsed": false
   },
   "outputs": [],
   "source": [
    "for place in capitals:\n",
    "    answer = input(\"What is the capitol of \" + BLANKBLANKBLANK + \"? \")\n",
    "    if BLANKBLANKBLANK == answer:\n",
    "        print(\"Right answer!\")\n",
    "    else:\n",
    "        print(\"Sorry, the answer was \" + capitals[place])"
   ]
  },
  {
   "cell_type": "code",
   "execution_count": null,
   "metadata": {
    "collapsed": false,
    "slideshow": {
     "slide_type": "slide"
    }
   },
   "outputs": [],
   "source": [
    "for place in capitals:\n",
    "    answer = input(\"What is the capitol of \" + place + \"? \")\n",
    "    if capitals[place] == answer:\n",
    "        print(\"Right answer!\")\n",
    "    else:\n",
    "        print(\"Sorry, the answer was \" + capitals[place])"
   ]
  },
  {
   "cell_type": "markdown",
   "metadata": {
    "slideshow": {
     "slide_type": "slide"
    }
   },
   "source": [
    "What We Learned Today\n",
    "-------------------------\n",
    "\n",
    "- data types\n",
    "    - strings\n",
    "    - ints\n",
    "    - booleans\n",
    "    - lists\n",
    "    - dicts\n",
    "- if-statements\n",
    "- loops\n",
    "- Getting a attributes using **`.`**\n",
    "- The machines **`print()`**, **`input()`**, **`len()`**, **`type()`**"
   ]
  },
  {
   "cell_type": "code",
   "execution_count": null,
   "metadata": {
    "collapsed": true
   },
   "outputs": [],
   "source": []
  }
 ],
 "metadata": {
  "celltoolbar": "Slideshow",
  "kernelspec": {
   "display_name": "Python 2",
   "language": "python",
   "name": "python2"
  },
  "language_info": {
   "codemirror_mode": {
    "name": "ipython",
    "version": 2
   },
   "file_extension": ".py",
   "mimetype": "text/x-python",
   "name": "python",
   "nbconvert_exporter": "python",
   "pygments_lexer": "ipython2",
   "version": "2.7.12"
  }
 },
 "nbformat": 4,
 "nbformat_minor": 0
}
