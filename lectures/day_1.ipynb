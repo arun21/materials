{
 "cells": [
  {
   "cell_type": "markdown",
   "metadata": {
    "slideshow": {
     "slide_type": "slide"
    }
   },
   "source": [
    "Welcome to Day 1\n",
    "=========\n",
    "\n",
    "**Here's what we're going to cover today:**\n",
    "- Review from yesterday\n",
    "- Data types\n",
    "    - Numbers\n",
    "    - Strings of Characters (`\"hello!\"`)\n",
    "    - Lists (like grocery lists `[\"milk\", \"eggs\", \"bananas\"]`)\n",
    "- Putting data in boxes (variables)\n",
    "- Flow control\n",
    "    - if-statements\n",
    "    - booleans\n",
    "- Talking to the user using `input()`\n",
    "- Exercise: Cupcake Dispenser\n",
    "- Repeating steps with loops\n",
    "- Exercise: Tweet Validator\n",
    "- Exercise: Greeter\n",
    "- Getting to know lists (`len()` and `range()`)\n",
    "- One more data type: dictionaries\n",
    "- multi-line strings (for the project)\n",
    "\n",
    "**It might look like a lot, but they're all really small topics and we're here to help!**\n",
    "**We are all very much in the same boat.**"
   ]
  },
  {
   "cell_type": "markdown",
   "metadata": {
    "slideshow": {
     "slide_type": "slide"
    }
   },
   "source": [
    "Math\n",
    "==="
   ]
  },
  {
   "cell_type": "code",
   "execution_count": 3,
   "metadata": {
    "collapsed": false
   },
   "outputs": [
    {
     "data": {
      "text/plain": [
       "11"
      ]
     },
     "execution_count": 3,
     "metadata": {},
     "output_type": "execute_result"
    }
   ],
   "source": [
    "5 + 6"
   ]
  },
  {
   "cell_type": "code",
   "execution_count": 4,
   "metadata": {
    "collapsed": false
   },
   "outputs": [
    {
     "data": {
      "text/plain": [
       "-6"
      ]
     },
     "execution_count": 4,
     "metadata": {},
     "output_type": "execute_result"
    }
   ],
   "source": [
    "-6"
   ]
  },
  {
   "cell_type": "code",
   "execution_count": 5,
   "metadata": {
    "collapsed": false
   },
   "outputs": [
    {
     "data": {
      "text/plain": [
       "3.0"
      ]
     },
     "execution_count": 5,
     "metadata": {},
     "output_type": "execute_result"
    }
   ],
   "source": [
    " ((2+5)*3)/7"
   ]
  },
  {
   "cell_type": "markdown",
   "metadata": {
    "slideshow": {
     "slide_type": "slide"
    }
   },
   "source": [
    "More Than Math\n",
    "========"
   ]
  },
  {
   "cell_type": "code",
   "execution_count": 16,
   "metadata": {
    "collapsed": false
   },
   "outputs": [
    {
     "data": {
      "text/plain": [
       "'Hello'"
      ]
     },
     "execution_count": 16,
     "metadata": {},
     "output_type": "execute_result"
    }
   ],
   "source": [
    "\"Hello\""
   ]
  },
  {
   "cell_type": "code",
   "execution_count": 1,
   "metadata": {
    "collapsed": false
   },
   "outputs": [
    {
     "data": {
      "text/plain": [
       "'Hello Waterloo'"
      ]
     },
     "execution_count": 1,
     "metadata": {},
     "output_type": "execute_result"
    }
   ],
   "source": [
    "# Saying hello to everyone\n",
    "\"Hello \" + \"Waterloo\""
   ]
  },
  {
   "cell_type": "code",
   "execution_count": 7,
   "metadata": {
    "collapsed": false
   },
   "outputs": [
    {
     "ename": "TypeError",
     "evalue": "Can't convert 'int' object to str implicitly",
     "output_type": "error",
     "traceback": [
      "\u001b[1;31m---------------------------------------------------------------------------\u001b[0m",
      "\u001b[1;31mTypeError\u001b[0m                                 Traceback (most recent call last)",
      "\u001b[1;32m<ipython-input-7-8825736fe191>\u001b[0m in \u001b[0;36m<module>\u001b[1;34m()\u001b[0m\n\u001b[1;32m----> 1\u001b[1;33m \u001b[1;34m\"Hello\"\u001b[0m \u001b[1;33m+\u001b[0m \u001b[1;36m4\u001b[0m\u001b[1;33m\u001b[0m\u001b[0m\n\u001b[0m",
      "\u001b[1;31mTypeError\u001b[0m: Can't convert 'int' object to str implicitly"
     ]
    }
   ],
   "source": [
    "# This isn't going to work\n",
    "\"Hello\" + 4"
   ]
  },
  {
   "cell_type": "markdown",
   "metadata": {
    "slideshow": {
     "slide_type": "slide"
    }
   },
   "source": [
    "It didn't work because the type of data or information isn't compatible. That's why we got a `TypeError`.\n",
    "Use `type()` to figure out the type of data"
   ]
  },
  {
   "cell_type": "code",
   "execution_count": 8,
   "metadata": {
    "collapsed": false
   },
   "outputs": [
    {
     "data": {
      "text/plain": [
       "int"
      ]
     },
     "execution_count": 8,
     "metadata": {},
     "output_type": "execute_result"
    }
   ],
   "source": [
    "type(4)"
   ]
  },
  {
   "cell_type": "code",
   "execution_count": 6,
   "metadata": {
    "collapsed": false
   },
   "outputs": [
    {
     "data": {
      "text/plain": [
       "str"
      ]
     },
     "execution_count": 6,
     "metadata": {},
     "output_type": "execute_result"
    }
   ],
   "source": [
    "type(\"hello\")"
   ]
  },
  {
   "cell_type": "code",
   "execution_count": null,
   "metadata": {
    "collapsed": true
   },
   "outputs": [],
   "source": [
    "You can use `int()` and `str()` to convert between types."
   ]
  },
  {
   "cell_type": "markdown",
   "metadata": {
    "slideshow": {
     "slide_type": "slide"
    }
   },
   "source": [
    "Saving data into named boxes using variables\n",
    "========================\n",
    "\n",
    "<!---\n",
    "Do we show the difference between a reference and not a reference?\n",
    "-->"
   ]
  },
  {
   "cell_type": "code",
   "execution_count": 51,
   "metadata": {
    "collapsed": false
   },
   "outputs": [
    {
     "data": {
      "text/plain": [
       "3"
      ]
     },
     "execution_count": 51,
     "metadata": {},
     "output_type": "execute_result"
    }
   ],
   "source": [
    "box = 3\n",
    "box"
   ]
  },
  {
   "cell_type": "code",
   "execution_count": 52,
   "metadata": {
    "collapsed": false
   },
   "outputs": [
    {
     "data": {
      "text/plain": [
       "6"
      ]
     },
     "execution_count": 52,
     "metadata": {},
     "output_type": "execute_result"
    }
   ],
   "source": [
    "double_box = box * 2\n",
    "double_box"
   ]
  },
  {
   "cell_type": "code",
   "execution_count": 55,
   "metadata": {
    "collapsed": false
   },
   "outputs": [
    {
     "data": {
      "text/plain": [
       "9"
      ]
     },
     "execution_count": 55,
     "metadata": {},
     "output_type": "execute_result"
    }
   ],
   "source": [
    "number_box = 8\n",
    "number_box = number_box + 1\n",
    "number_box"
   ]
  },
  {
   "cell_type": "code",
   "execution_count": 56,
   "metadata": {
    "collapsed": false
   },
   "outputs": [
    {
     "data": {
      "text/plain": [
       "10"
      ]
     },
     "execution_count": 56,
     "metadata": {},
     "output_type": "execute_result"
    }
   ],
   "source": [
    "number_box += 1\n",
    "number_box"
   ]
  },
  {
   "cell_type": "code",
   "execution_count": 16,
   "metadata": {
    "collapsed": false
   },
   "outputs": [
    {
     "data": {
      "text/plain": [
       "'kittens'"
      ]
     },
     "execution_count": 16,
     "metadata": {},
     "output_type": "execute_result"
    }
   ],
   "source": [
    "box = \"kittens\"\n",
    "box"
   ]
  },
  {
   "cell_type": "code",
   "execution_count": 22,
   "metadata": {
    "collapsed": false
   },
   "outputs": [
    {
     "data": {
      "text/plain": [
       "['apples', 'cabbage', 'soylent']"
      ]
     },
     "execution_count": 22,
     "metadata": {},
     "output_type": "execute_result"
    }
   ],
   "source": [
    "groceries = [\"apples\", \"cabbage\", \"soylent\"]\n",
    "groceries"
   ]
  },
  {
   "cell_type": "code",
   "execution_count": 21,
   "metadata": {
    "collapsed": false
   },
   "outputs": [
    {
     "data": {
      "text/plain": [
       "'apples'"
      ]
     },
     "execution_count": 21,
     "metadata": {},
     "output_type": "execute_result"
    }
   ],
   "source": [
    "groceries[0]"
   ]
  },
  {
   "cell_type": "code",
   "execution_count": 24,
   "metadata": {
    "collapsed": false
   },
   "outputs": [
    {
     "data": {
      "text/plain": [
       "'soylent'"
      ]
     },
     "execution_count": 24,
     "metadata": {},
     "output_type": "execute_result"
    }
   ],
   "source": [
    "groceries[2]"
   ]
  },
  {
   "cell_type": "code",
   "execution_count": 25,
   "metadata": {
    "collapsed": false
   },
   "outputs": [
    {
     "data": {
      "text/plain": [
       "'soylent'"
      ]
     },
     "execution_count": 25,
     "metadata": {},
     "output_type": "execute_result"
    }
   ],
   "source": [
    "groceries[-1]"
   ]
  },
  {
   "cell_type": "code",
   "execution_count": 27,
   "metadata": {
    "collapsed": false
   },
   "outputs": [
    {
     "data": {
      "text/plain": [
       "3"
      ]
     },
     "execution_count": 27,
     "metadata": {},
     "output_type": "execute_result"
    }
   ],
   "source": [
    "# len is like type, you can put stuff into it to get stuff out\n",
    "len(groceries)"
   ]
  },
  {
   "cell_type": "code",
   "execution_count": 29,
   "metadata": {
    "collapsed": false
   },
   "outputs": [
    {
     "data": {
      "text/plain": [
       "['apples', 'cabbage', 'soylent', 'tofu', 'tofu']"
      ]
     },
     "execution_count": 29,
     "metadata": {},
     "output_type": "execute_result"
    }
   ],
   "source": [
    "# you can also do stuff lists using the dots\n",
    "groceries.append(\"tofu\")\n",
    "groceries"
   ]
  },
  {
   "cell_type": "code",
   "execution_count": 33,
   "metadata": {
    "collapsed": false
   },
   "outputs": [
    {
     "data": {
      "text/plain": [
       "'Kittens'"
      ]
     },
     "execution_count": 33,
     "metadata": {},
     "output_type": "execute_result"
    }
   ],
   "source": [
    "# you can do it with strings too!\n",
    "cat_box = \"kittens\"\n",
    "cat_box.capitalize()"
   ]
  },
  {
   "cell_type": "code",
   "execution_count": 28,
   "metadata": {
    "collapsed": false
   },
   "outputs": [
    {
     "name": "stdout",
     "output_type": "stream",
     "text": [
      "Variable     Type    Data/Info\n",
      "------------------------------\n",
      "box          str     kittens\n",
      "double_box   int     6\n"
     ]
    }
   ],
   "source": [
    "whos"
   ]
  },
  {
   "cell_type": "markdown",
   "metadata": {
    "collapsed": true,
    "slideshow": {
     "slide_type": "slide"
    }
   },
   "source": [
    "Flow Control\n",
    "=======\n",
    "\n",
    "Programs have to be guided through multiple steps. They do this by checking what's *true* at every step."
   ]
  },
  {
   "cell_type": "code",
   "execution_count": 3,
   "metadata": {
    "collapsed": false
   },
   "outputs": [
    {
     "data": {
      "text/plain": [
       "True"
      ]
     },
     "execution_count": 3,
     "metadata": {},
     "output_type": "execute_result"
    }
   ],
   "source": [
    "5 > 3"
   ]
  },
  {
   "cell_type": "code",
   "execution_count": 4,
   "metadata": {
    "collapsed": false
   },
   "outputs": [
    {
     "data": {
      "text/plain": [
       "False"
      ]
     },
     "execution_count": 4,
     "metadata": {},
     "output_type": "execute_result"
    }
   ],
   "source": [
    "5 <= 2"
   ]
  },
  {
   "cell_type": "code",
   "execution_count": 6,
   "metadata": {
    "collapsed": false
   },
   "outputs": [
    {
     "data": {
      "text/plain": [
       "True"
      ]
     },
     "execution_count": 6,
     "metadata": {},
     "output_type": "execute_result"
    }
   ],
   "source": [
    "'a' in 'face'"
   ]
  },
  {
   "cell_type": "code",
   "execution_count": 7,
   "metadata": {
    "collapsed": false
   },
   "outputs": [
    {
     "data": {
      "text/plain": [
       "False"
      ]
     },
     "execution_count": 7,
     "metadata": {},
     "output_type": "execute_result"
    }
   ],
   "source": [
    "'b' in 'pants'"
   ]
  },
  {
   "cell_type": "code",
   "execution_count": 8,
   "metadata": {
    "collapsed": false
   },
   "outputs": [
    {
     "data": {
      "text/plain": [
       "False"
      ]
     },
     "execution_count": 8,
     "metadata": {},
     "output_type": "execute_result"
    }
   ],
   "source": [
    "'pants' == 'face'"
   ]
  },
  {
   "cell_type": "code",
   "execution_count": 10,
   "metadata": {
    "collapsed": false
   },
   "outputs": [
    {
     "data": {
      "text/plain": [
       "True"
      ]
     },
     "execution_count": 10,
     "metadata": {},
     "output_type": "execute_result"
    }
   ],
   "source": [
    "2 == 4/2.0"
   ]
  },
  {
   "cell_type": "code",
   "execution_count": 12,
   "metadata": {
    "collapsed": false
   },
   "outputs": [
    {
     "name": "stdout",
     "output_type": "stream",
     "text": [
      "Pizza\n"
     ]
    }
   ],
   "source": [
    "# How does Python read this?\n",
    "today = 'Saturday'\n",
    "if today == 'Saturday':\n",
    "    print(\"Pizza\")\n",
    "else:\n",
    "    print(\"No Pizza\")"
   ]
  },
  {
   "cell_type": "markdown",
   "metadata": {},
   "source": [
    "What happens if you change the first line to `today = 'Sunday'`?"
   ]
  },
  {
   "cell_type": "markdown",
   "metadata": {
    "slideshow": {
     "slide_type": "slide"
    }
   },
   "source": [
    "Talking to People\n",
    "================="
   ]
  },
  {
   "cell_type": "code",
   "execution_count": 14,
   "metadata": {
    "collapsed": false
   },
   "outputs": [
    {
     "name": "stdout",
     "output_type": "stream",
     "text": [
      "What's your name?Sean\n",
      "Hello Sean\n"
     ]
    }
   ],
   "source": [
    "name = input(\"What's your name?\")\n",
    "print(\"Hello \" + name)"
   ]
  },
  {
   "cell_type": "markdown",
   "metadata": {
    "slideshow": {
     "slide_type": "slide"
    }
   },
   "source": [
    "Exercise: Cupcake Dispensor\n",
    "===============\n",
    "\n",
    "A person puts in the amount of cupcakes they want and your program returns the total amount they have to pay. The cupcakes are 1.25$ each and only 5 cupcakes can be made at a time!\n",
    "\n",
    "Here are the lines of code you'll need. Put them in the right order and with the right indentation!\n",
    "-------\n",
    "```python\n",
    "amount = int(user_input)\n",
    "```\n",
    "-------\n",
    "```python\n",
    "user_input = input(\"Enter the amount of cupcakes you desire: \")\n",
    "```\n",
    "-------\n",
    "```python\n",
    "if amount <= 5:\n",
    "```\n",
    "-------\n",
    "```python\n",
    "print(\"We can only make 5 cupcakes at a time!\")\n",
    "```\n",
    "-------\n",
    "```python\n",
    "print(\"Your order costs\", cost)\n",
    "```\n",
    "-------\n",
    "```python\n",
    "cost = amount * 1.25\n",
    "```\n",
    "-------\n",
    "```python\n",
    "else:\n",
    "```\n",
    "-------\n",
    "The expected output should look like:\n",
    "```python\n",
    "Enter the amount of cupcakes you desire: 6\n",
    "We can only make 5 cupcakes at a time!\n",
    "Enter the amount of cupcakes you desire: 2\n",
    "Your order costs 2.5\n",
    "```"
   ]
  },
  {
   "cell_type": "markdown",
   "metadata": {
    "slideshow": {
     "slide_type": "slide"
    }
   },
   "source": [
    "Repeating actions with loops\n",
    "================\n",
    "\n",
    "Problem: we want to do something a certain amount of times or we want to do something to each part of a list"
   ]
  },
  {
   "cell_type": "code",
   "execution_count": 42,
   "metadata": {
    "collapsed": false
   },
   "outputs": [],
   "source": [
    "names = [\"sean\", \"ivana\", \"sajed\", \"allan\"]"
   ]
  },
  {
   "cell_type": "code",
   "execution_count": 43,
   "metadata": {
    "collapsed": false
   },
   "outputs": [
    {
     "name": "stdout",
     "output_type": "stream",
     "text": [
      "Sean\n",
      "Ivana\n",
      "Sajed\n",
      "Allan\n"
     ]
    }
   ],
   "source": [
    "for name in names:\n",
    "    print(name.capitalize())"
   ]
  },
  {
   "cell_type": "code",
   "execution_count": 65,
   "metadata": {
    "collapsed": false
   },
   "outputs": [
    {
     "name": "stdout",
     "output_type": "stream",
     "text": [
      "name\n",
      "name\n",
      "name\n",
      "name\n",
      "name\n"
     ]
    }
   ],
   "source": [
    "# write the user's name a certain amount of times\n",
    "times = 5 # you could get this from input() if you wanted\n",
    "for num in range(times):\n",
    "    print(\"name\")"
   ]
  },
  {
   "cell_type": "code",
   "execution_count": null,
   "metadata": {
    "collapsed": true
   },
   "outputs": [],
   "source": [
    "count = 0\n",
    "while(count =< 5):\n",
    "    count = input(\"Enter a number greater than 5\")"
   ]
  },
  {
   "cell_type": "markdown",
   "metadata": {
    "slideshow": {
     "slide_type": "slide"
    }
   },
   "source": [
    "Exercise: Tweet validator\n",
    "=============="
   ]
  },
  {
   "cell_type": "code",
   "execution_count": 47,
   "metadata": {
    "collapsed": false
   },
   "outputs": [
    {
     "name": "stdout",
     "output_type": "stream",
     "text": [
      "11\n"
     ]
    }
   ],
   "source": [
    "# count the characters in a string\n",
    "tweet = \"OMG Python!\"\n",
    "count = 0\n",
    "for char in tweet:\n",
    "    count += 1\n",
    "print(count)"
   ]
  },
  {
   "cell_type": "code",
   "execution_count": 49,
   "metadata": {
    "collapsed": false
   },
   "outputs": [
    {
     "data": {
      "text/plain": [
       "11"
      ]
     },
     "execution_count": 49,
     "metadata": {},
     "output_type": "execute_result"
    }
   ],
   "source": [
    "len(tweet)"
   ]
  },
  {
   "cell_type": "markdown",
   "metadata": {
    "slideshow": {
     "slide_type": "slide"
    }
   },
   "source": [
    "Exercise: Processing Grades\n",
    "==============="
   ]
  },
  {
   "cell_type": "code",
   "execution_count": 60,
   "metadata": {
    "collapsed": false
   },
   "outputs": [
    {
     "name": "stdout",
     "output_type": "stream",
     "text": [
      "WOW!  80\n",
      "WOW!  91\n",
      "Average  75.25\n",
      "Number of good grades  2\n"
     ]
    }
   ],
   "source": [
    "# This is great for data processing\n",
    "grades = [80, 70, 60, 91]\n",
    "good_grades = 0\n",
    "avg = 0\n",
    "for grade in grades:\n",
    "    if grade >= 80:\n",
    "        print(\"WOW! \", grade)\n",
    "        good_grades += 1\n",
    "    avg += grade\n",
    "print(\"Average \", avg/len(grades))\n",
    "print(\"Number of good grades \", good_grades)"
   ]
  },
  {
   "cell_type": "code",
   "execution_count": 61,
   "metadata": {
    "collapsed": true
   },
   "outputs": [],
   "source": [
    "capitals = {\"Ontario\":\"Toronto\", \"Canada\":\"Ottawa\", \"Croatia\":\"Zagreb\"}"
   ]
  },
  {
   "cell_type": "markdown",
   "metadata": {
    "slideshow": {
     "slide_type": "slide"
    }
   },
   "source": [
    "Exercise: Quiz the Capitols\n",
    "==============="
   ]
  },
  {
   "cell_type": "code",
   "execution_count": 64,
   "metadata": {
    "collapsed": false
   },
   "outputs": [
    {
     "name": "stdout",
     "output_type": "stream",
     "text": [
      "What as the capitol of  Croatia\n",
      "What as the capitol of  Canada\n",
      "What as the capitol of  ON\n"
     ]
    }
   ],
   "source": [
    "for place in capitals:\n",
    "    answer = input(\"What as the capitol of \", place)\n",
    "    if capitals[place] == answer:\n",
    "        print(\"Right answer!\")\n",
    "    else:\n",
    "        print(\"Sorry, the answer was \", captials[place])"
   ]
  },
  {
   "cell_type": "markdown",
   "metadata": {
    "slideshow": {
     "slide_type": "slide"
    }
   },
   "source": [
    "Applied Laziness: functions\n",
    "===============\n",
    "\n",
    "Sometimes you need to reuse code in multiple places. Instead of copying and pasting you can use functions. Think of these as mini-scripts."
   ]
  },
  {
   "cell_type": "code",
   "execution_count": 67,
   "metadata": {
    "collapsed": false
   },
   "outputs": [
    {
     "name": "stdout",
     "output_type": "stream",
     "text": [
      "Your on-campus gossip source since 1998\n",
      "Your on-campus gossip source since 2008\n"
     ]
    }
   ],
   "source": [
    "def omguw(year):\n",
    "    print(\"Your on-campus gossip source since \" + year)\n",
    "omguw(\"1998\")\n",
    "omguw(\"2008\")"
   ]
  },
  {
   "cell_type": "markdown",
   "metadata": {
    "slideshow": {
     "slide_type": "slide"
    }
   },
   "source": [
    "Do you recognise those parentheses from before? You should! They're the same thing as `type()` and `len()` from before! Those were functions all along! And we used those things everywhere! So anytime you see a chunk of code being repeated in a bunch of places, think of a function! There's a lot more to functions than that, but that's all that we're going to cover here."
   ]
  },
  {
   "cell_type": "markdown",
   "metadata": {
    "slideshow": {
     "slide_type": "slide"
    }
   },
   "source": [
    "Project: Make Your Own Quiz!\n",
    "--------------------------------\n",
    "\n",
    "Let's make a Python quiz program! It will ask different types of questions via the console and tell you how well you did.\n",
    "\n",
    "INSERT SCREENSHOT\n",
    "\n",
    "The following slides are to be done at your own pace. They're formatted as: Step -> Hints. See if you can complete the step without the hints and even if you can predict what the next step might be. A big part of writing software is dividing up a big problem into simple enough steps to implement."
   ]
  },
  {
   "cell_type": "markdown",
   "metadata": {
    "slideshow": {
     "slide_type": "slide"
    }
   },
   "source": [
    "Step One: Think of Three Questions\n",
    "---------------------------------------\n",
    "\n",
    "- One yes/no question\n",
    "- One multiple choice\n",
    "- One question with a single number or word answer (like before)"
   ]
  },
  {
   "cell_type": "markdown",
   "metadata": {
    "slideshow": {
     "slide_type": "slide"
    }
   },
   "source": [
    "Hints\n",
    "===\n",
    "\n",
    "- How are the different types of questions going to make this project different from the exercise we did before?\n",
    "- To make a multi-line string use three end-quotes"
   ]
  },
  {
   "cell_type": "code",
   "execution_count": 68,
   "metadata": {
    "collapsed": false
   },
   "outputs": [
    {
     "name": "stdout",
     "output_type": "stream",
     "text": [
      "This is a really long line of text:\n",
      "- It's so long\n",
      "- Oh so very long\n",
      "- It's crazy\n",
      "\n"
     ]
    }
   ],
   "source": [
    "long_text = \"\"\"This is a really long line of text:\n",
    "- It's so long\n",
    "- Oh so very long\n",
    "- It's crazy\n",
    "\"\"\"\n",
    "print(long_text)"
   ]
  },
  {
   "cell_type": "code",
   "execution_count": 69,
   "metadata": {
    "collapsed": true
   },
   "outputs": [],
   "source": [
    "q1 = \"Does Sean have a face?\"\n",
    "q2 = \"\"\"What is the name of the spiciest pepper:\n",
    "a) the hotness\n",
    "b) carolina reaper\n",
    "c) ghost pepper\n",
    "\"\"\"\n",
    "q3 = \"What is the largest freshwater lake in the world?\""
   ]
  },
  {
   "cell_type": "markdown",
   "metadata": {
    "slideshow": {
     "slide_type": "slide"
    }
   },
   "source": [
    "Step Two: Write a Program That Asks Three Questions\n",
    "-----------------------------------------------------------\n",
    "\n",
    "Pro Tip: Try to reuse the input and output code from before."
   ]
  },
  {
   "cell_type": "markdown",
   "metadata": {
    "slideshow": {
     "slide_type": "slide"
    }
   },
   "source": [
    "Hints\n",
    "===\n",
    "\n",
    "**Remember:**\n",
    "- The function for getting input from the user is `raw_input()`.\n",
    "- The function for putting output onto the console is `print()`.\n",
    "- To check the answer, you need `if user_input == answer:`"
   ]
  },
  {
   "cell_type": "markdown",
   "metadata": {
    "slideshow": {
     "slide_type": "slide"
    }
   },
   "source": [
    "Step Three: Make Sure to Use a Loop\n",
    "-----------------------------------------\n",
    "\n",
    "What are you going to use to store the questions and answers?"
   ]
  },
  {
   "cell_type": "code",
   "execution_count": null,
   "metadata": {
    "collapsed": true,
    "slideshow": {
     "slide_type": "slide"
    }
   },
   "outputs": [],
   "source": [
    "questions = [q1, q2, q3]\n",
    "q_type = [\"yesno\", \"multi\", \"text\"]\n",
    "answers = [\"Yes\", \"b\", \"superior\"]\n",
    "count = 0\n",
    "\n",
    "for qs in questions:\n",
    "    ans = input(qs)\n",
    "    if ans == answers[count]:\n",
    "        print(\"Right answer!\")\n",
    "    else:\n",
    "        print(\"Sorry, the answer was \", answers[count])\n",
    "    count += 1\n",
    "\n",
    "# Bonus: look up what enumerate() does. How could you use it to eliminate the count variable?"
   ]
  },
  {
   "cell_type": "markdown",
   "metadata": {
    "slideshow": {
     "slide_type": "slide"
    }
   },
   "source": [
    "Step Four: Keep Track of the Number of Right Answers\n",
    "-------------------------------------------------------------\n",
    "\n",
    "Note every answer the user gets right and print it out at the end of the quiz."
   ]
  },
  {
   "cell_type": "markdown",
   "metadata": {
    "slideshow": {
     "slide_type": "slide"
    }
   },
   "source": [
    "Step Five: Make Answers Case-Insensitive\n",
    "-----------------------------------------------\n",
    "\n",
    "- yes/YES/yES are all valid answers for yes/no questions\n",
    "- a/A should both be accepted\n",
    "- No capitals for word answers should be allowed"
   ]
  },
  {
   "cell_type": "markdown",
   "metadata": {
    "slideshow": {
     "slide_type": "slide"
    }
   },
   "source": [
    "Step Six: Plot the Results Using ASCII\n",
    "---------------------------------------------\n",
    "\n",
    "- Note the types of questions the user got right\n",
    "- Write out a `*` for each answer they got right in that section"
   ]
  },
  {
   "cell_type": "markdown",
   "metadata": {
    "slideshow": {
     "slide_type": "slide"
    }
   },
   "source": [
    "Step Seven: *HARDCORE MODE* Use Object Oriented Programming to Refactor Your Code\n",
    "--------------------------------------------------------------------------------\n",
    "\n",
    "- Object Oriented Programming (OOP) will not be covered in this workshop, but you can try it as a challenge\n",
    "- Teach it to yourself using this exercises 40 to 44 from [this website](http://learnpythonthehardway.org/book/ex40.html)\n",
    "- Use it to re-write your quiz using an object for each question type\n",
    "- What are the disadvantages and advantages to OOP?"
   ]
  }
 ],
 "metadata": {
  "celltoolbar": "Slideshow",
  "kernelspec": {
   "display_name": "IPython (Python 3)",
   "language": "python",
   "name": "python3"
  },
  "language_info": {
   "codemirror_mode": {
    "name": "ipython",
    "version": 3
   },
   "file_extension": ".py",
   "mimetype": "text/x-python",
   "name": "python",
   "nbconvert_exporter": "python",
   "pygments_lexer": "ipython3",
   "version": "3.4.3"
  }
 },
 "nbformat": 4,
 "nbformat_minor": 0
}
