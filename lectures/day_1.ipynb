{
 "cells": [
  {
   "cell_type": "markdown",
   "metadata": {
    "slideshow": {
     "slide_type": "slide"
    }
   },
   "source": [
    "# Python Programming Workshop for Beginners\n",
    "### Day 1: Turbo Intro\n",
    "### Saturday, November 12, 2016\n",
    "### University of Waterloo\n",
    "<img src=\"./files/rollercoaster.jpg\" width=\"300\" \\>"
   ]
  },
  {
   "cell_type": "markdown",
   "metadata": {
    "slideshow": {
     "slide_type": "slide"
    }
   },
   "source": [
    "Welcome to Day 1\n",
    "=========\n",
    "\n",
    "**Here's what we're going to cover today:**\n",
    "- Review from yesterday\n",
    "- Data types\n",
    "- Putting data in boxes (variables)\n",
    "- Flow control\n",
    "- Getting to know lists (`len()` and `range()`)\n",
    "- Talking to the user using `input()`\n",
    "- Repeating steps with loops\n",
    "\n",
    "**It might look like a lot, but they're all really small topics and we're here to help!**\n",
    "**We are all very much in the same boat.**"
   ]
  },
  {
   "cell_type": "markdown",
   "metadata": {
    "slideshow": {
     "slide_type": "slide"
    }
   },
   "source": [
    "Slides available online at:\n",
    "\n",
    "- http://uwpyb.github.io/materials/lectures/day_1.slides"
   ]
  },
  {
   "cell_type": "markdown",
   "metadata": {
    "slideshow": {
     "slide_type": "slide"
    }
   },
   "source": [
    "Lists: a collection box\n",
    "======================="
   ]
  },
  {
   "cell_type": "code",
   "execution_count": 15,
   "metadata": {
    "collapsed": false
   },
   "outputs": [
    {
     "data": {
      "text/plain": [
       "['apples', 'cabbage', 'soylent']"
      ]
     },
     "execution_count": 15,
     "metadata": {},
     "output_type": "execute_result"
    }
   ],
   "source": [
    "groceries = [\"apples\", \"cabbage\", \"soylent\"]\n",
    "groceries"
   ]
  },
  {
   "cell_type": "code",
   "execution_count": 16,
   "metadata": {
    "collapsed": false
   },
   "outputs": [
    {
     "name": "stdout",
     "output_type": "stream",
     "text": [
      "apples\n"
     ]
    }
   ],
   "source": [
    "print(groceries[0])"
   ]
  },
  {
   "cell_type": "code",
   "execution_count": 17,
   "metadata": {
    "collapsed": false
   },
   "outputs": [
    {
     "name": "stdout",
     "output_type": "stream",
     "text": [
      "soylent\n"
     ]
    }
   ],
   "source": [
    "print(groceries[2])"
   ]
  },
  {
   "cell_type": "code",
   "execution_count": 18,
   "metadata": {
    "collapsed": false
   },
   "outputs": [
    {
     "name": "stdout",
     "output_type": "stream",
     "text": [
      "soylent\n"
     ]
    }
   ],
   "source": [
    "print(groceries[-1])"
   ]
  },
  {
   "cell_type": "markdown",
   "metadata": {
    "slideshow": {
     "slide_type": "slide"
    }
   },
   "source": [
    "What is the result of running the code `print(groceries[3])`?\n",
    "<p>\n",
    "a) Error<br>\n",
    "b) Soylent<br>\n",
    "c) Apples"
   ]
  },
  {
   "cell_type": "markdown",
   "metadata": {
    "slideshow": {
     "slide_type": "slide"
    }
   },
   "source": [
    "`len()` is like `type()`, you can put stuff into it (in between the parentheses) to get stuff out. In this case, the total amount of items in the list."
   ]
  },
  {
   "cell_type": "code",
   "execution_count": 19,
   "metadata": {
    "collapsed": false
   },
   "outputs": [
    {
     "name": "stdout",
     "output_type": "stream",
     "text": [
      "3\n"
     ]
    }
   ],
   "source": [
    "length = len(groceries)\n",
    "print(length)"
   ]
  },
  {
   "cell_type": "code",
   "execution_count": 20,
   "metadata": {
    "collapsed": false
   },
   "outputs": [
    {
     "name": "stdout",
     "output_type": "stream",
     "text": [
      "['apples', 'cabbage', 'soylent', 'tofu']\n"
     ]
    }
   ],
   "source": [
    "# you can also do stuff lists using the dots\n",
    "groceries.append(\"tofu\")\n",
    "print(groceries)"
   ]
  },
  {
   "cell_type": "code",
   "execution_count": 21,
   "metadata": {
    "collapsed": false
   },
   "outputs": [
    {
     "name": "stdout",
     "output_type": "stream",
     "text": [
      "Kittens\n",
      "kittens\n"
     ]
    }
   ],
   "source": [
    "# you can do it with strings too!\n",
    "cat_box = \"kittens\"\n",
    "print(cat_box.capitalize())\n",
    "print(cat_box)"
   ]
  },
  {
   "cell_type": "code",
   "execution_count": 22,
   "metadata": {
    "collapsed": false,
    "slideshow": {
     "slide_type": "slide"
    }
   },
   "outputs": [
    {
     "name": "stdout",
     "output_type": "stream",
     "text": [
      "Variable     Type    Data/Info\n",
      "------------------------------\n",
      "box          str     kittens\n",
      "cat_box      str     kittens\n",
      "double_box   int     6\n",
      "groceries    list    n=4\n",
      "length       int     3\n",
      "number_box   int     9\n"
     ]
    }
   ],
   "source": [
    "whos"
   ]
  },
  {
   "cell_type": "markdown",
   "metadata": {
    "slideshow": {
     "slide_type": "slide"
    }
   },
   "source": [
    "Python finds out the truth\n",
    "==============="
   ]
  },
  {
   "cell_type": "code",
   "execution_count": 23,
   "metadata": {
    "collapsed": false
   },
   "outputs": [
    {
     "data": {
      "text/plain": [
       "True"
      ]
     },
     "execution_count": 23,
     "metadata": {},
     "output_type": "execute_result"
    }
   ],
   "source": [
    "5 > 3"
   ]
  },
  {
   "cell_type": "code",
   "execution_count": 24,
   "metadata": {
    "collapsed": false
   },
   "outputs": [
    {
     "data": {
      "text/plain": [
       "False"
      ]
     },
     "execution_count": 24,
     "metadata": {},
     "output_type": "execute_result"
    }
   ],
   "source": [
    "5 <= 2"
   ]
  },
  {
   "cell_type": "code",
   "execution_count": 25,
   "metadata": {
    "collapsed": false
   },
   "outputs": [
    {
     "data": {
      "text/plain": [
       "True"
      ]
     },
     "execution_count": 25,
     "metadata": {},
     "output_type": "execute_result"
    }
   ],
   "source": [
    "'a' in 'face'"
   ]
  },
  {
   "cell_type": "code",
   "execution_count": 26,
   "metadata": {
    "collapsed": false
   },
   "outputs": [
    {
     "data": {
      "text/plain": [
       "False"
      ]
     },
     "execution_count": 26,
     "metadata": {},
     "output_type": "execute_result"
    }
   ],
   "source": [
    "'b' in 'pants'"
   ]
  },
  {
   "cell_type": "code",
   "execution_count": 27,
   "metadata": {
    "collapsed": false
   },
   "outputs": [
    {
     "data": {
      "text/plain": [
       "False"
      ]
     },
     "execution_count": 27,
     "metadata": {},
     "output_type": "execute_result"
    }
   ],
   "source": [
    "'pants' == 'face'"
   ]
  },
  {
   "cell_type": "code",
   "execution_count": 28,
   "metadata": {
    "collapsed": false
   },
   "outputs": [
    {
     "data": {
      "text/plain": [
       "True"
      ]
     },
     "execution_count": 28,
     "metadata": {},
     "output_type": "execute_result"
    }
   ],
   "source": [
    "2 == 4/2.0"
   ]
  },
  {
   "cell_type": "markdown",
   "metadata": {
    "collapsed": true,
    "slideshow": {
     "slide_type": "slide"
    }
   },
   "source": [
    "Flow Control\n",
    "=======\n",
    "\n",
    "Programs have to be guided through multiple steps. They do this by checking what's *true* at every step."
   ]
  },
  {
   "cell_type": "markdown",
   "metadata": {},
   "source": [
    "How does Python read this?"
   ]
  },
  {
   "cell_type": "code",
   "execution_count": 29,
   "metadata": {
    "collapsed": false
   },
   "outputs": [
    {
     "name": "stdout",
     "output_type": "stream",
     "text": [
      "Pizza\n"
     ]
    }
   ],
   "source": [
    "today = 'Saturday'\n",
    "if today == 'Saturday':\n",
    "    print(\"Pizza\")\n",
    "else:\n",
    "    print(\"No Pizza\")"
   ]
  },
  {
   "cell_type": "markdown",
   "metadata": {},
   "source": [
    "What happens if you change the first line to `today = 'Sunday'`?"
   ]
  },
  {
   "cell_type": "markdown",
   "metadata": {
    "slideshow": {
     "slide_type": "slide"
    }
   },
   "source": [
    "Talking to People\n",
    "================="
   ]
  },
  {
   "cell_type": "code",
   "execution_count": 31,
   "metadata": {
    "collapsed": false
   },
   "outputs": [
    {
     "name": "stdout",
     "output_type": "stream",
     "text": [
      "What's your name?Sean\n",
      "Hello Sean\n"
     ]
    }
   ],
   "source": [
    "name = input(\"What's your name?\")\n",
    "print(\"Hello \" + name)"
   ]
  },
  {
   "cell_type": "markdown",
   "metadata": {
    "slideshow": {
     "slide_type": "slide"
    }
   },
   "source": [
    "Why doesn't the follwing code work? And how can we fix it?"
   ]
  },
  {
   "cell_type": "code",
   "execution_count": null,
   "metadata": {
    "collapsed": false
   },
   "outputs": [],
   "source": [
    "age = input(\"How old are you?\")\n",
    "print(age + 7)"
   ]
  },
  {
   "cell_type": "markdown",
   "metadata": {
    "slideshow": {
     "slide_type": "slide"
    }
   },
   "source": [
    "Exercise: Cupcake Dispensor\n",
    "===============\n",
    "\n",
    "A person puts in the amount of cupcakes they want and your program returns the total amount they have to pay. The cupcakes are 1.25$ each and only 5 cupcakes can be made at a time!\n",
    "\n",
    "Here are the lines of code you'll need. Put them in the right order and with the right indentation!\n",
    "-------\n",
    "```python\n",
    "amount = int(user_input)\n",
    "```\n",
    "-------\n",
    "```python\n",
    "user_input = input(\"Enter the amount of cupcakes you desire: \")\n",
    "```\n",
    "-------\n",
    "```python\n",
    "if amount <= 5:\n",
    "```\n",
    "-------\n",
    "```python\n",
    "print(\"We can only make 5 cupcakes at a time!\")\n",
    "```\n",
    "-------\n",
    "```python\n",
    "print(\"Your order costs\", cost)\n",
    "```\n",
    "-------\n",
    "```python\n",
    "cost = amount * 1.25\n",
    "```\n",
    "-------\n",
    "```python\n",
    "else:\n",
    "```\n",
    "-------\n",
    "The expected output should look like:\n",
    "```python\n",
    "Enter the amount of cupcakes you desire: 6\n",
    "We can only make 5 cupcakes at a time!\n",
    "Enter the amount of cupcakes you desire: 2\n",
    "Your order costs 2.5\n",
    "```"
   ]
  },
  {
   "cell_type": "markdown",
   "metadata": {
    "slideshow": {
     "slide_type": "slide"
    }
   },
   "source": [
    "Repeating actions with loops\n",
    "================\n",
    "\n",
    "Problem: we want to do something a certain amount of times or we want to do something to each part of a list"
   ]
  },
  {
   "cell_type": "code",
   "execution_count": 33,
   "metadata": {
    "collapsed": false
   },
   "outputs": [],
   "source": [
    "names = [\"ron\", \"harry\", \"hermione\"]"
   ]
  },
  {
   "cell_type": "code",
   "execution_count": 34,
   "metadata": {
    "collapsed": false
   },
   "outputs": [
    {
     "name": "stdout",
     "output_type": "stream",
     "text": [
      "Hi Ron\n",
      "Hi Harry\n",
      "Hi Hermione\n"
     ]
    }
   ],
   "source": [
    "print(\"Hi \" + names[0].capitalize())\n",
    "print(\"Hi \" + names[1].capitalize())\n",
    "print(\"Hi \" + names[2].capitalize())"
   ]
  },
  {
   "cell_type": "markdown",
   "metadata": {},
   "source": [
    "Well, that was horrible. Surely there's a better way?"
   ]
  },
  {
   "cell_type": "code",
   "execution_count": 35,
   "metadata": {
    "collapsed": false
   },
   "outputs": [
    {
     "name": "stdout",
     "output_type": "stream",
     "text": [
      "Hi Ron\n",
      "Hi Harry\n",
      "Hi Hermione\n"
     ]
    }
   ],
   "source": [
    "for name in names:\n",
    "    print(\"Hi \" + name.capitalize())"
   ]
  },
  {
   "cell_type": "markdown",
   "metadata": {
    "slideshow": {
     "slide_type": "slide"
    }
   },
   "source": [
    "What if we want to do something a certain amount of times? Like make a certain amount of pies?"
   ]
  },
  {
   "cell_type": "code",
   "execution_count": 36,
   "metadata": {
    "collapsed": false
   },
   "outputs": [
    {
     "name": "stdout",
     "output_type": "stream",
     "text": [
      "0 pies\n",
      "1 pies\n",
      "2 pies\n",
      "3 pies\n",
      "4 pies\n"
     ]
    }
   ],
   "source": [
    "pie_num = 5\n",
    "for pie in range(pie_num):\n",
    "    print(str(pie) + \" pies\")"
   ]
  },
  {
   "cell_type": "code",
   "execution_count": 42,
   "metadata": {
    "collapsed": false
   },
   "outputs": [
    {
     "name": "stdout",
     "output_type": "stream",
     "text": [
      "Enter a number greater than 5 1\n",
      "Enter a number greater than 5 4\n",
      "Enter a number greater than 5 6\n",
      "You gave 6\n"
     ]
    }
   ],
   "source": [
    "given = 0\n",
    "while(given <= 5):\n",
    "    ans = input(\"Enter a number greater than 5 \")\n",
    "    given = int(ans)\n",
    "print(\"You gave \" + ans)"
   ]
  },
  {
   "cell_type": "markdown",
   "metadata": {
    "slideshow": {
     "slide_type": "slide"
    }
   },
   "source": [
    "Exercise: Tweet validator\n",
    "==============\n",
    "\n",
    "Tweets are these messages you post on the Internet that have to be 140 characters long. How can we make sure that a given string is the appropriate length? Print out the length of the string and whether it is valid or not.\n",
    "\n",
    "For example, given `tweet = \"OMG Python!\"` the output should be:\n",
    "```\n",
    "11\n",
    "Valid\n",
    "```"
   ]
  },
  {
   "cell_type": "markdown",
   "metadata": {},
   "source": [
    "Fill in the `BLANK`s!"
   ]
  },
  {
   "cell_type": "code",
   "execution_count": null,
   "metadata": {
    "collapsed": true
   },
   "outputs": [],
   "source": [
    "tweet = \"OMG Python!\"\n",
    "count = 0\n",
    "for char in tweet:\n",
    "    BLANKBLANKBLANK\n",
    "print(count)\n",
    "if BLANKBLANKBLANK:\n",
    "    print(\"Valid\")\n",
    "else:\n",
    "    print(\"Invalid\")"
   ]
  },
  {
   "cell_type": "code",
   "execution_count": 47,
   "metadata": {
    "collapsed": false,
    "slideshow": {
     "slide_type": "slide"
    }
   },
   "outputs": [
    {
     "name": "stdout",
     "output_type": "stream",
     "text": [
      "11\n",
      "Valid\n"
     ]
    }
   ],
   "source": [
    "tweet = \"OMG Python!\"\n",
    "count = 0\n",
    "for char in tweet:\n",
    "    count = count + 1\n",
    "print(count)\n",
    "if count <= 140:\n",
    "    print(\"Valid\")\n",
    "else:\n",
    "    print(\"Invalid\")"
   ]
  },
  {
   "cell_type": "code",
   "execution_count": 45,
   "metadata": {
    "collapsed": false
   },
   "outputs": [
    {
     "name": "stdout",
     "output_type": "stream",
     "text": [
      "11\n",
      "Valid\n"
     ]
    }
   ],
   "source": [
    "count = len(tweet)\n",
    "print(count)\n",
    "if count <= 140:\n",
    "    print(\"Valid\")\n",
    "else:\n",
    "    print(\"Invalid\")"
   ]
  },
  {
   "cell_type": "markdown",
   "metadata": {
    "slideshow": {
     "slide_type": "slide"
    }
   },
   "source": [
    "Exercise: Processing Grades\n",
    "===============\n",
    "\n",
    "Given a list of grades, `grades = [81, 70, 60, 91]`, print the average and the number of grades above 80.\n",
    "In this case:\n",
    "```\n",
    "Average 75.5\n",
    "Number of good grades 2\n",
    "```\n"
   ]
  },
  {
   "cell_type": "code",
   "execution_count": 48,
   "metadata": {
    "collapsed": false
   },
   "outputs": [
    {
     "name": "stdout",
     "output_type": "stream",
     "text": [
      "WOW!  81\n",
      "WOW!  91\n",
      "Average  75.5\n",
      "Number of good grades  2\n"
     ]
    }
   ],
   "source": [
    "# This is great for data processing\n",
    "grades = [81, 70, 60, 91]\n",
    "good_grades = 0\n",
    "avg = 0\n",
    "for grade in grades:\n",
    "    if grade >= 80:\n",
    "        print(\"WOW! \", grade)\n",
    "        good_grades = good_grades + 1\n",
    "    avg += grade\n",
    "print(\"Average \", avg/len(grades))\n",
    "print(\"Number of good grades \", good_grades)"
   ]
  },
  {
   "cell_type": "markdown",
   "metadata": {
    "slideshow": {
     "slide_type": "slide"
    }
   },
   "source": [
    "Dictionnaries: Data types that store associations\n",
    "============================"
   ]
  },
  {
   "cell_type": "code",
   "execution_count": 50,
   "metadata": {
    "collapsed": false
   },
   "outputs": [
    {
     "name": "stdout",
     "output_type": "stream",
     "text": [
      "Toronto\n"
     ]
    }
   ],
   "source": [
    "capitals = {\"Ontario\":\"Toronto\", \"Canada\":\"Ottawa\", \"Croatia\":\"Zagreb\"}\n",
    "print(capitals[\"Ontario\"])"
   ]
  },
  {
   "cell_type": "code",
   "execution_count": 53,
   "metadata": {
    "collapsed": false
   },
   "outputs": [
    {
     "name": "stdout",
     "output_type": "stream",
     "text": [
      "Canada\n",
      "Croatia\n",
      "Ontario\n"
     ]
    }
   ],
   "source": [
    "for place in capitals:\n",
    "    print(place)"
   ]
  },
  {
   "cell_type": "markdown",
   "metadata": {
    "slideshow": {
     "slide_type": "slide"
    }
   },
   "source": [
    "Exercise: Quiz the Capitols\n",
    "===============\n",
    "\n",
    "Given the capitals dictionary from before, make a flash card-like quiz, where every location is the question and the capitol is the answer.\n",
    "\n",
    "Your output, with the user entering the answers, should look like:\n",
    "```\n",
    "What is the capitol of Croatia? Zagreb\n",
    "Right answer!\n",
    "What is the capitol of Canada? Quebec\n",
    "Sorry, the answer was Ottawa\n",
    "```\n",
    "\n",
    "\n",
    "Fill in the `BLANK`s!"
   ]
  },
  {
   "cell_type": "code",
   "execution_count": null,
   "metadata": {
    "collapsed": false
   },
   "outputs": [],
   "source": [
    "for place in capitals:\n",
    "    answer = input(\"What is the capitol of \" + BLANKBLANKBLANK + \"? \")\n",
    "    if BLANKBLANKBLANK == answer:\n",
    "        print(\"Right answer!\")\n",
    "    else:\n",
    "        print(\"Sorry, the answer was \", capitals[place])"
   ]
  },
  {
   "cell_type": "code",
   "execution_count": null,
   "metadata": {
    "collapsed": false,
    "slideshow": {
     "slide_type": "slide"
    }
   },
   "outputs": [],
   "source": [
    "for place in capitals:\n",
    "    answer = input(\"What is the capitol of \" + place + \"? \")\n",
    "    if capitals[place] == answer:\n",
    "        print(\"Right answer!\")\n",
    "    else:\n",
    "        print(\"Sorry, the answer was \" + capitals[place])"
   ]
  },
  {
   "cell_type": "markdown",
   "metadata": {
    "slideshow": {
     "slide_type": "slide"
    }
   },
   "source": [
    "What We Learned Today\n",
    "-------------------------\n",
    "\n",
    "- data types\n",
    "    - strings\n",
    "    - ints\n",
    "    - booleans\n",
    "    - lists\n",
    "    - dicts\n",
    "- if-statements\n",
    "- loops\n",
    "- Getting a attributes using `.`\n",
    "- The machines `print()`, `input()`, `len()`, `type()`"
   ]
  }
 ],
 "metadata": {
  "celltoolbar": "Slideshow",
  "kernelspec": {
   "display_name": "Python 2",
   "language": "python",
   "name": "python2"
  },
  "language_info": {
   "codemirror_mode": {
    "name": "ipython",
    "version": 2
   },
   "file_extension": ".py",
   "mimetype": "text/x-python",
   "name": "python",
   "nbconvert_exporter": "python",
   "pygments_lexer": "ipython2",
   "version": "2.7.9"
  }
 },
 "nbformat": 4,
 "nbformat_minor": 0
}
