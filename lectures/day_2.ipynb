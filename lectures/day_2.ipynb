{
 "cells": [
  {
   "cell_type": "markdown",
   "metadata": {
    "slideshow": {
     "slide_type": "slide"
    }
   },
   "source": [
    "# Python Programming Workshop for Beginners\n",
    "### Day 2: Data Analysis\n",
    "### Friday, Jan 31, 2016\n",
    "### University of Waterloo\n",
    "<img src=\"./files/party.png\" width=\"100\" \\>\n"
   ]
  },
  {
   "cell_type": "markdown",
   "metadata": {
    "slideshow": {
     "slide_type": "slide"
    }
   },
   "source": [
    "## Welcome!\n",
    "Today's goals:\n",
    "- Learn what functions are, how they are used and write our own functions\n",
    "- Use functions other people created for us\n",
    "    - NumPy and Matplotlib\n",
    "- Analyze climate stats about Canada stored on our computer\n",
    "\n",
    "Project: Analyze and plot data about the climate for many other countries we grab from the internet!"
   ]
  },
  {
   "cell_type": "markdown",
   "metadata": {
    "slideshow": {
     "slide_type": "slide"
    }
   },
   "source": [
    "Slides available online at:\n",
    "\n",
    "- uwpyb.github.io/materials/lectures"
   ]
  },
  {
   "cell_type": "markdown",
   "metadata": {
    "slideshow": {
     "slide_type": "slide"
    }
   },
   "source": [
    "## Functions\n",
    "\n",
    "- a piece of code we want to run often"
   ]
  },
  {
   "cell_type": "code",
   "execution_count": 5,
   "metadata": {
    "collapsed": true
   },
   "outputs": [],
   "source": [
    "def say_hello_to(name):\n",
    "    print(\"Hello\", name)"
   ]
  },
  {
   "cell_type": "code",
   "execution_count": 49,
   "metadata": {
    "collapsed": false
   },
   "outputs": [
    {
     "name": "stdout",
     "output_type": "stream",
     "text": [
      "Hello Ivana!\n",
      "Hello everybody!\n",
      "Hello world in peace!\n"
     ]
    }
   ],
   "source": [
    "say_hello_to(\"Ivana!\")\n",
    "say_hello_to(\"everybody!\")\n",
    "say_hello_to(\"world in peace!\")"
   ]
  },
  {
   "cell_type": "markdown",
   "metadata": {
    "slideshow": {
     "slide_type": "slide"
    }
   },
   "source": [
    "### Counting letters in a word"
   ]
  },
  {
   "cell_type": "code",
   "execution_count": 10,
   "metadata": {
    "collapsed": true
   },
   "outputs": [],
   "source": [
    "word = 'ABSTENTIOUS'"
   ]
  },
  {
   "cell_type": "markdown",
   "metadata": {},
   "source": [
    "Exercise\n",
    "========\n",
    "Put following lines in the right order so that the variable `length` at the end contains the number of letters in the word 'ABSTENTIOUS' \n",
    "\n",
    "-------\n",
    "```python\n",
    "1. length = length + 1\n",
    "```\n",
    "-------\n",
    "```python\n",
    "2. length = 0\n",
    "```\n",
    "-------\n",
    "```python\n",
    "3. for letter in word:\n",
    "```\n",
    "-------\n"
   ]
  },
  {
   "cell_type": "code",
   "execution_count": 7,
   "metadata": {
    "collapsed": false,
    "slideshow": {
     "slide_type": "slide"
    }
   },
   "outputs": [],
   "source": [
    "def count_letters(word):\n",
    "    length = 0\n",
    "    for letter in word:\n",
    "        length = length + 1\n",
    "    return length"
   ]
  },
  {
   "cell_type": "markdown",
   "metadata": {},
   "source": [
    "Exercise\n",
    "========\n",
    "What will each of these lines return:\n",
    "\n",
    "```python\n",
    "1. count_letters('1')\n",
    "2. count_letterns('')\n",
    "3. count_letters(100)\n",
    "```"
   ]
  },
  {
   "cell_type": "markdown",
   "metadata": {
    "slideshow": {
     "slide_type": "slide"
    }
   },
   "source": [
    "### Moaar functions"
   ]
  },
  {
   "cell_type": "code",
   "execution_count": 19,
   "metadata": {
    "collapsed": false
   },
   "outputs": [
    {
     "name": "stdout",
     "output_type": "stream",
     "text": [
      "apples pears oranges\n"
     ]
    }
   ],
   "source": [
    "def fruit_salad(fruit1='apples',fruit2='pears',fruit3='oranges'):\n",
    "    your_fruit_salad = fruit1 +' ' + fruit2 + ' ' + fruit3\n",
    "    return your_fruit_salad\n",
    "print(fruit_salad())"
   ]
  },
  {
   "cell_type": "markdown",
   "metadata": {
    "slideshow": {
     "slide_type": "slide"
    }
   },
   "source": [
    "We can replace default fruits:"
   ]
  },
  {
   "cell_type": "code",
   "execution_count": 20,
   "metadata": {
    "collapsed": false
   },
   "outputs": [
    {
     "name": "stdout",
     "output_type": "stream",
     "text": [
      "apples cherries oranges\n"
     ]
    }
   ],
   "source": [
    "print(fruit_salad(fruit2='cherries'))"
   ]
  },
  {
   "cell_type": "markdown",
   "metadata": {},
   "source": [
    "And pass them in any order as long as we specify our fruits:"
   ]
  },
  {
   "cell_type": "code",
   "execution_count": 21,
   "metadata": {
    "collapsed": false
   },
   "outputs": [
    {
     "name": "stdout",
     "output_type": "stream",
     "text": [
      "kiwi pears melon\n"
     ]
    }
   ],
   "source": [
    "print(fruit_salad(fruit3='melon', fruit1='kiwi'))"
   ]
  },
  {
   "cell_type": "markdown",
   "metadata": {
    "slideshow": {
     "slide_type": "slide"
    }
   },
   "source": [
    "### Funtions we have used already\n",
    "- `raw_input`: to store whatever user types in on the keyboard in a variable\n",
    "- `type(x)`: ask Python about the data type of x\n",
    "- `len(x)`: ask Python to tell us the length of a variable x"
   ]
  },
  {
   "cell_type": "markdown",
   "metadata": {
    "slideshow": {
     "slide_type": "slide"
    }
   },
   "source": [
    "## Using functions other people wrote\n",
    "\n",
    "<img src='./files/cake.jpg' width=500>\n"
   ]
  },
  {
   "cell_type": "markdown",
   "metadata": {
    "slideshow": {
     "slide_type": "slide"
    }
   },
   "source": [
    "# NumPy\n",
    "- a collection of functions (and bunch of other things) for working with numbers in Python\n",
    "- numbers are stored in arrays"
   ]
  },
  {
   "cell_type": "code",
   "execution_count": 32,
   "metadata": {
    "collapsed": false
   },
   "outputs": [
    {
     "name": "stdout",
     "output_type": "stream",
     "text": [
      "[0 1 2 3 4 5 6 7 8 9]\n"
     ]
    }
   ],
   "source": [
    "import numpy as np\n",
    "\n",
    "numbers = np.arange(10)\n",
    "print(numbers)"
   ]
  },
  {
   "cell_type": "markdown",
   "metadata": {
    "slideshow": {
     "slide_type": "slide"
    }
   },
   "source": [
    "Similar handling like lists:"
   ]
  },
  {
   "cell_type": "code",
   "execution_count": 33,
   "metadata": {
    "collapsed": false
   },
   "outputs": [
    {
     "name": "stdout",
     "output_type": "stream",
     "text": [
      "The first element of numbers is: 0\n",
      "The last element of numbers is: 9\n",
      "The length of numbers is: 10\n"
     ]
    }
   ],
   "source": [
    "print('The first element of numbers is:', numbers[0])\n",
    "print('The last element of numbers is:', numbers[-1])\n",
    "print('The length of numbers is:', len(numbers))"
   ]
  },
  {
   "cell_type": "code",
   "execution_count": 34,
   "metadata": {
    "collapsed": false,
    "slideshow": {
     "slide_type": "slide"
    }
   },
   "outputs": [
    {
     "name": "stdout",
     "output_type": "stream",
     "text": [
      "Mean: 4.5\n",
      "Smallest element: 0\n"
     ]
    }
   ],
   "source": [
    "mean = np.mean(numbers)\n",
    "smallest_element = np.min(numbers)\n",
    "print('Mean:', mean)\n",
    "print('Smallest element:', smallest_element)"
   ]
  },
  {
   "cell_type": "markdown",
   "metadata": {},
   "source": [
    "Exercise\n",
    "========\n",
    "How would you get the largest element?"
   ]
  },
  {
   "cell_type": "markdown",
   "metadata": {
    "slideshow": {
     "slide_type": "slide"
    }
   },
   "source": [
    "### Let's load some data from our disk"
   ]
  },
  {
   "cell_type": "markdown",
   "metadata": {},
   "source": [
    "1. Create a directory called \"climate\" on your Desktop\n",
    "2. Go here: https://github.com/uwpyb/materials/tree/master/lectures\n",
    "3. Dowload two following files into your \"climate\" folder:\n",
    "    - `can_avg_pr.csv`\n",
    "    - `can_avg_temp.csv`\n",
    "    \n",
    "If you get stuck, raise your hand (or put a red sticky note) and a mentor will come to you!"
   ]
  },
  {
   "cell_type": "markdown",
   "metadata": {
    "slideshow": {
     "slide_type": "slide"
    }
   },
   "source": [
    "What are these `.csv` files?\n",
    "- CSV stands for comma-separated values (so we have two text files containing some data separated with commas)\n",
    "- the files are average ***percipitation*** per month and average ***temperature*** per month for Canada from 1901-2009 (from http://data.worldbank.org/developers/climate-data-api)\n",
    "\n",
    "### Let's peek into files!"
   ]
  },
  {
   "cell_type": "markdown",
   "metadata": {
    "slideshow": {
     "slide_type": "slide"
    }
   },
   "source": [
    "### Load temperature data"
   ]
  },
  {
   "cell_type": "code",
   "execution_count": 37,
   "metadata": {
    "collapsed": false
   },
   "outputs": [],
   "source": [
    "temperatures = np.loadtxt('can_avg_temp.csv', delimiter=',', skiprows=1)"
   ]
  },
  {
   "cell_type": "code",
   "execution_count": 39,
   "metadata": {
    "collapsed": false
   },
   "outputs": [
    {
     "name": "stdout",
     "output_type": "stream",
     "text": [
      "[[  0.         -24.66071701]\n",
      " [  1.         -23.69150162]\n",
      " [  2.         -19.1978035 ]\n",
      " [  3.         -10.45289135]\n",
      " [  4.          -0.9048363 ]\n",
      " [  5.           6.74043751]\n",
      " [  6.          10.75025368]\n",
      " [  7.           9.16687775]\n",
      " [  8.           3.31145859]\n",
      " [  9.          -4.6569581 ]\n",
      " [ 10.         -14.34275818]\n",
      " [ 11.         -21.15771103]]\n"
     ]
    }
   ],
   "source": [
    "print(temperatures)"
   ]
  },
  {
   "cell_type": "markdown",
   "metadata": {},
   "source": [
    "Similar to the numbers before but now we don't have just one row, instead we have 12 rows and 2 colums"
   ]
  },
  {
   "cell_type": "markdown",
   "metadata": {
    "slideshow": {
     "slide_type": "slide"
    }
   },
   "source": [
    "To get the first row:"
   ]
  },
  {
   "cell_type": "code",
   "execution_count": 40,
   "metadata": {
    "collapsed": false
   },
   "outputs": [
    {
     "data": {
      "text/plain": [
       "array([  0.        , -24.66071701])"
      ]
     },
     "execution_count": 40,
     "metadata": {},
     "output_type": "execute_result"
    }
   ],
   "source": [
    "temperatures[0]"
   ]
  },
  {
   "cell_type": "markdown",
   "metadata": {},
   "source": [
    "To get the temperature for January:"
   ]
  },
  {
   "cell_type": "code",
   "execution_count": 44,
   "metadata": {
    "collapsed": false
   },
   "outputs": [
    {
     "name": "stdout",
     "output_type": "stream",
     "text": [
      "Temperature in January: -24.6607170105\n"
     ]
    }
   ],
   "source": [
    "print('Temperature in January:', temperatures[0, 1])"
   ]
  },
  {
   "cell_type": "markdown",
   "metadata": {
    "slideshow": {
     "slide_type": "slide"
    }
   },
   "source": [
    "Exercise\n",
    "========\n",
    "How would you get the temperature in December?"
   ]
  },
  {
   "cell_type": "markdown",
   "metadata": {
    "slideshow": {
     "slide_type": "notes"
    }
   },
   "source": [
    "To get all rows in the second column use `:`:"
   ]
  },
  {
   "cell_type": "code",
   "execution_count": 47,
   "metadata": {
    "collapsed": false
   },
   "outputs": [
    {
     "data": {
      "text/plain": [
       "array([-24.66071701, -23.69150162, -19.1978035 , -10.45289135,\n",
       "        -0.9048363 ,   6.74043751,  10.75025368,   9.16687775,\n",
       "         3.31145859,  -4.6569581 , -14.34275818, -21.15771103])"
      ]
     },
     "execution_count": 47,
     "metadata": {},
     "output_type": "execute_result"
    }
   ],
   "source": [
    "temperatures[:, 1]"
   ]
  },
  {
   "cell_type": "markdown",
   "metadata": {
    "slideshow": {
     "slide_type": "slide"
    }
   },
   "source": [
    "Exercise\n",
    "========\n",
    "Load the percipitation data stored in `can_avg_pr.csv` in a variable `percipitation`. Print the average percipitation as we have done it with the temperature."
   ]
  },
  {
   "cell_type": "markdown",
   "metadata": {
    "slideshow": {
     "slide_type": "slide"
    }
   },
   "source": [
    "It's good to have these numbers... but we would be able to see much more if somwhow we could nicely draw these numbers and then see month-to-month changes."
   ]
  },
  {
   "cell_type": "code",
   "execution_count": null,
   "metadata": {
    "collapsed": true,
    "slideshow": {
     "slide_type": "slide"
    }
   },
   "outputs": [],
   "source": [
    "# Matplotlib"
   ]
  }
 ],
 "metadata": {
  "celltoolbar": "Slideshow",
  "kernelspec": {
   "display_name": "Python 3",
   "language": "python",
   "name": "python3"
  },
  "language_info": {
   "codemirror_mode": {
    "name": "ipython",
    "version": 3
   },
   "file_extension": ".py",
   "mimetype": "text/x-python",
   "name": "python",
   "nbconvert_exporter": "python",
   "pygments_lexer": "ipython3",
   "version": "3.4.2"
  }
 },
 "nbformat": 4,
 "nbformat_minor": 0
}
