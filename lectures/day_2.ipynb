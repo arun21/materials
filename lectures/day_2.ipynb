{
 "cells": [
  {
   "cell_type": "markdown",
   "metadata": {
    "slideshow": {
     "slide_type": "slide"
    }
   },
   "source": [
    "# Python Programming Workshop for Beginners\n",
    "### Day 2: Data Analysis\n",
    "### Friday, Jan 31, 2016\n",
    "### University of Waterloo\n",
    "<img src=\"./files/party.png\" width=\"100\" \\>\n"
   ]
  },
  {
   "cell_type": "markdown",
   "metadata": {
    "slideshow": {
     "slide_type": "slide"
    }
   },
   "source": [
    "## Welcome!\n",
    "Today's goals:\n",
    "- Learn what functions are, how they are used and write our own functions\n",
    "- Use functions other people created for us\n",
    "    - NumPy and Matplotlib\n",
    "- Analyze climate stats about Canada stored on our computer\n",
    "\n",
    "Project: Analzye the climate data we grabbed from the Internet for many other countries"
   ]
  },
  {
   "cell_type": "markdown",
   "metadata": {
    "slideshow": {
     "slide_type": "slide"
    }
   },
   "source": [
    "Slides available online at:\n",
    "\n",
    "- http://uwpyb.github.io/materials/lectures/day_2.slides"
   ]
  },
  {
   "cell_type": "markdown",
   "metadata": {
    "slideshow": {
     "slide_type": "slide"
    }
   },
   "source": [
    "## Functions\n",
    "\n",
    "- a piece of code we want to run often"
   ]
  },
  {
   "cell_type": "code",
   "execution_count": 5,
   "metadata": {
    "collapsed": true
   },
   "outputs": [],
   "source": [
    "def say_hello_to(name):\n",
    "    print(\"Hello\", name)"
   ]
  },
  {
   "cell_type": "code",
   "execution_count": 49,
   "metadata": {
    "collapsed": false
   },
   "outputs": [
    {
     "name": "stdout",
     "output_type": "stream",
     "text": [
      "Hello Ivana!\n",
      "Hello everybody!\n",
      "Hello world in peace!\n"
     ]
    }
   ],
   "source": [
    "say_hello_to(\"Ivana!\")\n",
    "say_hello_to(\"everybody!\")\n",
    "say_hello_to(\"world in peace!\")"
   ]
  },
  {
   "cell_type": "markdown",
   "metadata": {
    "slideshow": {
     "slide_type": "slide"
    }
   },
   "source": [
    "### Counting letters in a word"
   ]
  },
  {
   "cell_type": "code",
   "execution_count": 10,
   "metadata": {
    "collapsed": true
   },
   "outputs": [],
   "source": [
    "word = 'ABSTENTIOUS'"
   ]
  },
  {
   "cell_type": "markdown",
   "metadata": {},
   "source": [
    "Exercise\n",
    "========\n",
    "Put following lines in the right order so that the variable `length` at the end contains the number of letters in the word 'ABSTENTIOUS' \n",
    "\n",
    "-------\n",
    "```python\n",
    "1. length = length + 1\n",
    "```\n",
    "-------\n",
    "```python\n",
    "2. length = 0\n",
    "```\n",
    "-------\n",
    "```python\n",
    "3. for letter in word:\n",
    "```\n",
    "-------\n"
   ]
  },
  {
   "cell_type": "code",
   "execution_count": 7,
   "metadata": {
    "collapsed": false,
    "slideshow": {
     "slide_type": "slide"
    }
   },
   "outputs": [],
   "source": [
    "def count_letters(word):\n",
    "    length = 0\n",
    "    for letter in word:\n",
    "        length = length + 1\n",
    "    return length"
   ]
  },
  {
   "cell_type": "markdown",
   "metadata": {},
   "source": [
    "Exercise\n",
    "========\n",
    "What will each of these lines return:\n",
    "\n",
    "```python\n",
    "1. count_letters('1')\n",
    "2. count_letterns('')\n",
    "3. count_letters(100)\n",
    "```"
   ]
  },
  {
   "cell_type": "markdown",
   "metadata": {
    "slideshow": {
     "slide_type": "slide"
    }
   },
   "source": [
    "### Moaar functions"
   ]
  },
  {
   "cell_type": "code",
   "execution_count": 298,
   "metadata": {
    "collapsed": false
   },
   "outputs": [
    {
     "name": "stdout",
     "output_type": "stream",
     "text": [
      "apples pears oranges\n"
     ]
    }
   ],
   "source": [
    "def fruit_salad(fruit1='apples',fruit2='pears',fruit3='oranges'):\n",
    "    your_fruit_salad = ' '.join((fruit1, fruit2, fruit3))\n",
    "    return your_fruit_salad\n",
    "print(fruit_salad())"
   ]
  },
  {
   "cell_type": "markdown",
   "metadata": {
    "slideshow": {
     "slide_type": "slide"
    }
   },
   "source": [
    "We can replace default fruits:"
   ]
  },
  {
   "cell_type": "code",
   "execution_count": 20,
   "metadata": {
    "collapsed": false
   },
   "outputs": [
    {
     "name": "stdout",
     "output_type": "stream",
     "text": [
      "apples cherries oranges\n"
     ]
    }
   ],
   "source": [
    "print(fruit_salad(fruit2='cherries'))"
   ]
  },
  {
   "cell_type": "markdown",
   "metadata": {},
   "source": [
    "And pass them in any order as long as we specify our fruits:"
   ]
  },
  {
   "cell_type": "code",
   "execution_count": 21,
   "metadata": {
    "collapsed": false
   },
   "outputs": [
    {
     "name": "stdout",
     "output_type": "stream",
     "text": [
      "kiwi pears melon\n"
     ]
    }
   ],
   "source": [
    "print(fruit_salad(fruit3='melon', fruit1='kiwi'))"
   ]
  },
  {
   "cell_type": "markdown",
   "metadata": {
    "slideshow": {
     "slide_type": "slide"
    }
   },
   "source": [
    "### Funtions we have used already\n",
    "- `raw_input`: to store whatever user types in on the keyboard in a variable\n",
    "- `type(x)`: ask Python about the data type of x\n",
    "- `len(x)`: ask Python to tell us the length of a variable x"
   ]
  },
  {
   "cell_type": "markdown",
   "metadata": {
    "slideshow": {
     "slide_type": "slide"
    }
   },
   "source": [
    "## Using functions other people wrote\n",
    "\n",
    "<img src='./files/cake.jpg' width=500>\n"
   ]
  },
  {
   "cell_type": "markdown",
   "metadata": {
    "slideshow": {
     "slide_type": "slide"
    }
   },
   "source": [
    "## Using functions other people wrote\n",
    "\n",
    "- ready-to-use functions are stored in packages called libraries\n",
    "    - when we want to use a certain set of function we `import` that library\n",
    "- usually you would install what you need on your computer (not everyone wants to make brownies!)"
   ]
  },
  {
   "cell_type": "markdown",
   "metadata": {
    "slideshow": {
     "slide_type": "slide"
    }
   },
   "source": [
    "We will use:\n",
    "- Numpy: for dealing with sequences of numbers\n",
    "- Matplotlib: for plotting these sequences"
   ]
  },
  {
   "cell_type": "markdown",
   "metadata": {
    "slideshow": {
     "slide_type": "slide"
    }
   },
   "source": [
    "# NumPy\n",
    "- a collection of functions (and bunch of other things) for working with numbers in Python\n",
    "- numbers are stored in arrays"
   ]
  },
  {
   "cell_type": "code",
   "execution_count": 32,
   "metadata": {
    "collapsed": false
   },
   "outputs": [
    {
     "name": "stdout",
     "output_type": "stream",
     "text": [
      "[0 1 2 3 4 5 6 7 8 9]\n"
     ]
    }
   ],
   "source": [
    "import numpy as np\n",
    "\n",
    "numbers = np.arange(10)\n",
    "print(numbers)"
   ]
  },
  {
   "cell_type": "markdown",
   "metadata": {
    "slideshow": {
     "slide_type": "slide"
    }
   },
   "source": [
    "NumPy arrays can look very much like lists, but they are used for different things:"
   ]
  },
  {
   "cell_type": "code",
   "execution_count": 290,
   "metadata": {
    "collapsed": false
   },
   "outputs": [
    {
     "name": "stdout",
     "output_type": "stream",
     "text": [
      "[0 1 2 3 4]  is  <class 'numpy.ndarray'>\n",
      "[0, 1, 2, 3, 4] is <class 'list'>\n"
     ]
    }
   ],
   "source": [
    "array = np.arange(5)\n",
    "li = [0, 1, 2, 3, 4]\n",
    "\n",
    "print(array, ' is ', type(array))\n",
    "print(li, 'is', type(li))"
   ]
  },
  {
   "cell_type": "markdown",
   "metadata": {
    "slideshow": {
     "slide_type": "slide"
    }
   },
   "source": [
    "Similar handling like lists:"
   ]
  },
  {
   "cell_type": "code",
   "execution_count": 33,
   "metadata": {
    "collapsed": false
   },
   "outputs": [
    {
     "name": "stdout",
     "output_type": "stream",
     "text": [
      "The first element of numbers is: 0\n",
      "The last element of numbers is: 9\n",
      "The length of numbers is: 10\n"
     ]
    }
   ],
   "source": [
    "print('The first element of numbers is:', numbers[0])\n",
    "print('The last element of numbers is:', numbers[-1])\n",
    "print('The length of numbers is:', len(numbers))"
   ]
  },
  {
   "cell_type": "code",
   "execution_count": 34,
   "metadata": {
    "collapsed": false,
    "slideshow": {
     "slide_type": "slide"
    }
   },
   "outputs": [
    {
     "name": "stdout",
     "output_type": "stream",
     "text": [
      "Mean: 4.5\n",
      "Smallest element: 0\n"
     ]
    }
   ],
   "source": [
    "mean = np.mean(numbers)\n",
    "smallest_element = np.min(numbers)\n",
    "print('Mean:', mean)\n",
    "print('Smallest element:', smallest_element)"
   ]
  },
  {
   "cell_type": "markdown",
   "metadata": {},
   "source": [
    "Exercise\n",
    "========\n",
    "How would you get the largest element?"
   ]
  },
  {
   "cell_type": "markdown",
   "metadata": {
    "slideshow": {
     "slide_type": "slide"
    }
   },
   "source": [
    "### Let's load some data from our disk"
   ]
  },
  {
   "cell_type": "markdown",
   "metadata": {},
   "source": [
    "1. Create a directory called \"climate\" on your Desktop\n",
    "2. Go here: https://github.com/uwpyb/materials/tree/master/lectures\n",
    "3. Dowload two following files into your \"climate\" folder:\n",
    "    - `can_avg_pr.csv`\n",
    "    - `can_avg_temp.csv`\n",
    "    \n",
    "If you get stuck, raise your hand (or put a red sticky note) and a mentor will come to you!"
   ]
  },
  {
   "cell_type": "markdown",
   "metadata": {
    "slideshow": {
     "slide_type": "slide"
    }
   },
   "source": [
    "## What are these `.csv` files?\n",
    "- CSV stands for comma-separated values (so we have two text files containing some data separated with commas)\n",
    "- the files are average ***precipitation*** per month and average ***temperature*** per month for Canada from 1901-2009 (from http://data.worldbank.org/developers/climate-data-api)\n",
    "\n",
    "### Let's peek into files!"
   ]
  },
  {
   "cell_type": "markdown",
   "metadata": {
    "slideshow": {
     "slide_type": "slide"
    }
   },
   "source": [
    "### Load temperature data"
   ]
  },
  {
   "cell_type": "code",
   "execution_count": 114,
   "metadata": {
    "collapsed": false
   },
   "outputs": [],
   "source": [
    "temperatures = np.loadtxt('can_avg_temp.csv', delimiter=',', skiprows=1)"
   ]
  },
  {
   "cell_type": "code",
   "execution_count": 115,
   "metadata": {
    "collapsed": false
   },
   "outputs": [
    {
     "name": "stdout",
     "output_type": "stream",
     "text": [
      "[[  0.         -24.66071701]\n",
      " [  1.         -23.69150162]\n",
      " [  2.         -19.1978035 ]\n",
      " [  3.         -10.45289135]\n",
      " [  4.          -0.9048363 ]\n",
      " [  5.           6.74043751]\n",
      " [  6.          10.75025368]\n",
      " [  7.           9.16687775]\n",
      " [  8.           3.31145859]\n",
      " [  9.          -4.6569581 ]\n",
      " [ 10.         -14.34275818]\n",
      " [ 11.         -21.15771103]]\n"
     ]
    }
   ],
   "source": [
    "print(temperatures)"
   ]
  },
  {
   "cell_type": "markdown",
   "metadata": {},
   "source": [
    "Similar to the numbers before but now we don't have just one row, instead we have 12 rows and 2 colums"
   ]
  },
  {
   "cell_type": "markdown",
   "metadata": {
    "slideshow": {
     "slide_type": "slide"
    }
   },
   "source": [
    "To get the first row:"
   ]
  },
  {
   "cell_type": "code",
   "execution_count": 116,
   "metadata": {
    "collapsed": false
   },
   "outputs": [
    {
     "data": {
      "text/plain": [
       "array([  0.        , -24.66071701])"
      ]
     },
     "execution_count": 116,
     "metadata": {},
     "output_type": "execute_result"
    }
   ],
   "source": [
    "temperatures[0]"
   ]
  },
  {
   "cell_type": "markdown",
   "metadata": {},
   "source": [
    "To get the temperature for January:"
   ]
  },
  {
   "cell_type": "code",
   "execution_count": 117,
   "metadata": {
    "collapsed": false
   },
   "outputs": [
    {
     "name": "stdout",
     "output_type": "stream",
     "text": [
      "Temperature in January: -24.6607170105\n"
     ]
    }
   ],
   "source": [
    "print('Temperature in January:', temperatures[0, 1])"
   ]
  },
  {
   "cell_type": "markdown",
   "metadata": {
    "slideshow": {
     "slide_type": "slide"
    }
   },
   "source": [
    "Exercise\n",
    "========\n",
    "How would you get the average temperature in Canada in December?"
   ]
  },
  {
   "cell_type": "markdown",
   "metadata": {
    "slideshow": {
     "slide_type": "slide"
    }
   },
   "source": [
    "To get all rows in the second column use a colon symbol  `:`"
   ]
  },
  {
   "cell_type": "code",
   "execution_count": 118,
   "metadata": {
    "collapsed": false
   },
   "outputs": [
    {
     "data": {
      "text/plain": [
       "array([-24.66071701, -23.69150162, -19.1978035 , -10.45289135,\n",
       "        -0.9048363 ,   6.74043751,  10.75025368,   9.16687775,\n",
       "         3.31145859,  -4.6569581 , -14.34275818, -21.15771103])"
      ]
     },
     "execution_count": 118,
     "metadata": {},
     "output_type": "execute_result"
    }
   ],
   "source": [
    "temperatures[:, 1]"
   ]
  },
  {
   "cell_type": "markdown",
   "metadata": {
    "slideshow": {
     "slide_type": "slide"
    }
   },
   "source": [
    "Exercise\n",
    "========\n",
    "- Load the percipitation data stored in `can_avg_pr.csv` in a variable `percipitation`\n",
    "- Print the average percipitation (the same thing we have done with the temperature)\n",
    "\n",
    "After you've loaded the data, use the command `whos` to check your variables. Among them you should see something like this:\n",
    "```\n",
    "Variable           Type        Data/Info\n",
    "----------------------------------------\n",
    "precipitation      ndarray     12x2: 24 elems, type `float64`, 192 bytes\n",
    "temperatures       ndarray     12x2: 24 elems, type `float64`, 192 bytes\n",
    "```\n",
    "\n",
    "If you can't see these two lines among your `whos` output, call the closest mentor next to you! We will need these two variables for the next part of the lesson."
   ]
  },
  {
   "cell_type": "markdown",
   "metadata": {
    "slideshow": {
     "slide_type": "slide"
    }
   },
   "source": [
    "## So far... we have this:"
   ]
  },
  {
   "cell_type": "code",
   "execution_count": 119,
   "metadata": {
    "collapsed": false,
    "slideshow": {
     "slide_type": "-"
    }
   },
   "outputs": [
    {
     "name": "stdout",
     "output_type": "stream",
     "text": [
      "[[  0.         -24.66071701]\n",
      " [  1.         -23.69150162]\n",
      " [  2.         -19.1978035 ]\n",
      " [  3.         -10.45289135]\n",
      " [  4.          -0.9048363 ]\n",
      " [  5.           6.74043751]\n",
      " [  6.          10.75025368]\n",
      " [  7.           9.16687775]\n",
      " [  8.           3.31145859]\n",
      " [  9.          -4.6569581 ]\n",
      " [ 10.         -14.34275818]\n",
      " [ 11.         -21.15771103]]\n",
      "[[  0.          28.13116074]\n",
      " [  1.          22.92080307]\n",
      " [  2.          25.24941254]\n",
      " [  3.          24.39587593]\n",
      " [  4.          30.9199276 ]\n",
      " [  5.          45.02510834]\n",
      " [  6.          54.6108284 ]\n",
      " [  7.          52.90974808]\n",
      " [  8.          46.73321152]\n",
      " [  9.          40.91476822]\n",
      " [ 10.          36.40774155]\n",
      " [ 11.          31.38933182]]\n"
     ]
    }
   ],
   "source": [
    "print(temperatures)\n",
    "print(precipitation)"
   ]
  },
  {
   "cell_type": "markdown",
   "metadata": {
    "slideshow": {
     "slide_type": "slide"
    }
   },
   "source": [
    "## But we want this! (or at least something like this)"
   ]
  },
  {
   "cell_type": "markdown",
   "metadata": {
    "slideshow": {
     "slide_type": "-"
    }
   },
   "source": [
    "<img src='./files/canada_climate.jpg' width=600>\n",
    "\n",
    "<small> Image from: http://mbslibrary.typepad.com/canadageography/step-1b-geography-of-canada.html </small>"
   ]
  },
  {
   "cell_type": "markdown",
   "metadata": {
    "slideshow": {
     "slide_type": "slide"
    }
   },
   "source": [
    "# Matplotlib\n",
    "- our friend for visualizing data in Python!"
   ]
  },
  {
   "cell_type": "code",
   "execution_count": 196,
   "metadata": {
    "collapsed": false
   },
   "outputs": [],
   "source": [
    "import matplotlib.pyplot as plt\n",
    "# you don't have to copy this line\n",
    "%matplotlib inline     "
   ]
  },
  {
   "cell_type": "markdown",
   "metadata": {
    "slideshow": {
     "slide_type": "slide"
    }
   },
   "source": [
    "# Plotting squares"
   ]
  },
  {
   "cell_type": "code",
   "execution_count": 197,
   "metadata": {
    "collapsed": false,
    "slideshow": {
     "slide_type": "-"
    }
   },
   "outputs": [
    {
     "name": "stdout",
     "output_type": "stream",
     "text": [
      "[ 0  1  4  9 16]\n"
     ]
    }
   ],
   "source": [
    "line = np.arange(5)\n",
    "print(line**2)"
   ]
  },
  {
   "cell_type": "code",
   "execution_count": 198,
   "metadata": {
    "collapsed": false,
    "slideshow": {
     "slide_type": "slide"
    }
   },
   "outputs": [
    {
     "data": {
      "image/png": "[encoded data removed]",
      "text/plain": [
       "<matplotlib.figure.Figure at 0x7fc59109ab00>"
      ]
     },
     "metadata": {},
     "output_type": "display_data"
    }
   ],
   "source": [
    "plt.figure()\n",
    "plt.title('Squares')\n",
    "plt.plot(line, line**2)\n",
    "plt.xlabel('x')\n",
    "plt.ylabel('x squared')\n",
    "plt.show()"
   ]
  },
  {
   "cell_type": "markdown",
   "metadata": {
    "slideshow": {
     "slide_type": "slide"
    }
   },
   "source": [
    "## Plotting temperatues"
   ]
  },
  {
   "cell_type": "code",
   "execution_count": 199,
   "metadata": {
    "collapsed": false
   },
   "outputs": [
    {
     "name": "stdout",
     "output_type": "stream",
     "text": [
      "[[  0.         -24.66071701]\n",
      " [  1.         -23.69150162]\n",
      " [  2.         -19.1978035 ]\n",
      " [  3.         -10.45289135]\n",
      " [  4.          -0.9048363 ]\n",
      " [  5.           6.74043751]\n",
      " [  6.          10.75025368]\n",
      " [  7.           9.16687775]\n",
      " [  8.           3.31145859]\n",
      " [  9.          -4.6569581 ]\n",
      " [ 10.         -14.34275818]\n",
      " [ 11.         -21.15771103]]\n"
     ]
    }
   ],
   "source": [
    "print(temperatures)"
   ]
  },
  {
   "cell_type": "code",
   "execution_count": 200,
   "metadata": {
    "collapsed": false,
    "slideshow": {
     "slide_type": "slide"
    }
   },
   "outputs": [
    {
     "data": {
      "image/png": "[encoded data removed]",
      "text/plain": [
       "<matplotlib.figure.Figure at 0x7fc591480320>"
      ]
     },
     "metadata": {},
     "output_type": "display_data"
    }
   ],
   "source": [
    "plt.figure()\n",
    "plt.plot(temperatures[:, 0], temperatures[:, 1])\n",
    "plt.show()"
   ]
  },
  {
   "cell_type": "code",
   "execution_count": 201,
   "metadata": {
    "collapsed": false,
    "slideshow": {
     "slide_type": "slide"
    }
   },
   "outputs": [
    {
     "data": {
      "image/png": "[encoded data removed]",
      "text/plain": [
       "<matplotlib.figure.Figure at 0x7fc591573390>"
      ]
     },
     "metadata": {},
     "output_type": "display_data"
    }
   ],
   "source": [
    "plt.figure()\n",
    "plt.title('Temperatures')\n",
    "plt.plot(temperatures[:, 0], temperatures[:, 1], marker='o')\n",
    "plt.show()"
   ]
  },
  {
   "cell_type": "code",
   "execution_count": 202,
   "metadata": {
    "collapsed": false,
    "slideshow": {
     "slide_type": "slide"
    }
   },
   "outputs": [],
   "source": [
    "months = ['Jan', 'Feb', 'Mar', 'Apr', 'May', 'Jun', 'Jul', 'Aug', 'Sep', 'Oct', 'Nov', 'Dec']"
   ]
  },
  {
   "cell_type": "code",
   "execution_count": 203,
   "metadata": {
    "collapsed": false
   },
   "outputs": [
    {
     "data": {
      "image/png": "[encoded data removed]",
      "text/plain": [
       "<matplotlib.figure.Figure at 0x7fc5914b7208>"
      ]
     },
     "metadata": {},
     "output_type": "display_data"
    }
   ],
   "source": [
    "plt.figure()\n",
    "plt.title('Temperatures')\n",
    "plt.plot(temperatures[:, 0], temperatures[:, 1], marker='o')\n",
    "plt.xticks(temperatures[:, 0], months)    # put month names instead of number on x-axis\n",
    "plt.xlim(-1, 12)                           # set limits on what is shown on x-axis\n",
    "plt.show()"
   ]
  },
  {
   "cell_type": "markdown",
   "metadata": {
    "slideshow": {
     "slide_type": "slide"
    }
   },
   "source": [
    "## Ok, we have our temperatures\n",
    "\n",
    "- let's plot precipitation as a bar plot\n",
    "- barplot: the value is the height of the bar"
   ]
  },
  {
   "cell_type": "markdown",
   "metadata": {
    "slideshow": {
     "slide_type": "slide"
    }
   },
   "source": [
    "## Plot line values as a bar plot"
   ]
  },
  {
   "cell_type": "code",
   "execution_count": 204,
   "metadata": {
    "collapsed": false
   },
   "outputs": [
    {
     "data": {
      "image/png": "[encoded data removed]",
      "text/plain": [
       "<matplotlib.figure.Figure at 0x7fc591573748>"
      ]
     },
     "metadata": {},
     "output_type": "display_data"
    }
   ],
   "source": [
    "line = np.arange(10)\n",
    "\n",
    "plt.figure()\n",
    "plt.bar(line, line)\n",
    "plt.show()"
   ]
  },
  {
   "cell_type": "markdown",
   "metadata": {
    "slideshow": {
     "slide_type": "slide"
    }
   },
   "source": [
    "## Plotting precipitation"
   ]
  },
  {
   "cell_type": "code",
   "execution_count": 254,
   "metadata": {
    "collapsed": false
   },
   "outputs": [
    {
     "data": {
      "image/png": "[encoded data removed]",
      "text/plain": [
       "<matplotlib.figure.Figure at 0x7fc594d3bda0>"
      ]
     },
     "metadata": {},
     "output_type": "display_data"
    }
   ],
   "source": [
    "plt.figure()\n",
    "plt.bar(precipitation[:, 0], precipitation[:, 1])\n",
    "plt.show()"
   ]
  },
  {
   "cell_type": "markdown",
   "metadata": {
    "slideshow": {
     "slide_type": "slide"
    }
   },
   "source": [
    "## Plotting precipitation and the temperature"
   ]
  },
  {
   "cell_type": "markdown",
   "metadata": {},
   "source": [
    "- somehow, we need to merge two plots\n",
    "- there are two different ranges of values:\n",
    "\n",
    "    - one for temperatures\n",
    "    - one for precipitation"
   ]
  },
  {
   "cell_type": "markdown",
   "metadata": {
    "slideshow": {
     "slide_type": "slide"
    }
   },
   "source": [
    "## Working with axes"
   ]
  },
  {
   "cell_type": "code",
   "execution_count": 291,
   "metadata": {
    "collapsed": false,
    "slideshow": {
     "slide_type": "-"
    }
   },
   "outputs": [
    {
     "data": {
      "image/png": "[encoded data removed]",
      "text/plain": [
       "<matplotlib.figure.Figure at 0x7fc591494668>"
      ]
     },
     "metadata": {},
     "output_type": "display_data"
    }
   ],
   "source": [
    "fig, ax1 = plt.subplots()\n",
    "\n",
    "ax1.bar(precipitation[:, 0], precipitation[:, 1], align='center')\n",
    "ax1.set_ylabel('Temperature in C')\n",
    "\n",
    "ax1.set_xlabel('Months')\n",
    "\n",
    "plt.show()"
   ]
  },
  {
   "cell_type": "code",
   "execution_count": 284,
   "metadata": {
    "collapsed": false,
    "slideshow": {
     "slide_type": "slide"
    }
   },
   "outputs": [
    {
     "data": {
      "image/png": "[encoded data removed]",
      "text/plain": [
       "<matplotlib.figure.Figure at 0x7fc5911f27b8>"
      ]
     },
     "metadata": {},
     "output_type": "display_data"
    }
   ],
   "source": [
    "fig, ax1 = plt.subplots()\n",
    "\n",
    "ax2 = ax1.twinx()\n",
    "\n",
    "ax1.bar(precipitation[:, 0], precipitation[:, 1])\n",
    "ax2.plot(temperatures[:, 0], temperatures[:, 1], marker='o')\n",
    "\n",
    "ax1.set_ylabel('Precipitation in mm')\n",
    "ax2.set_ylabel('Temperature in C')\n",
    "plt.xticks(temperatures[:, 0], months)\n",
    "\n",
    "ax1.set_xlabel('Months')\n",
    "\n",
    "plt.show()"
   ]
  },
  {
   "cell_type": "markdown",
   "metadata": {
    "slideshow": {
     "slide_type": "slide"
    }
   },
   "source": [
    "## Pepping it up!\n",
    "\n",
    "Live coding demonstration"
   ]
  },
  {
   "cell_type": "code",
   "execution_count": null,
   "metadata": {
    "collapsed": false,
    "slideshow": {
     "slide_type": "notes"
    }
   },
   "outputs": [],
   "source": [
    "fig, ax1 = plt.subplots()\n",
    "\n",
    "ax2 = ax1.twinx()\n",
    "ax1.set_axis_bgcolor('grey')\n",
    "\n",
    "ax1.bar(precipitation[:, 0], precipitation[:, 1], color='r', width=0.6, align='center', label='AvgPre')\n",
    "ax2.plot(temperatures[:, 0], temperatures[:, 1], marker='o' , color='b', label='AvgTemp')\n",
    "\n",
    "ax1.set_ylabel('Precipitation in mm', color ='r')\n",
    "ax2.set_ylabel('Temperature in C', color='b')\n",
    "plt.xticks(temperatures[:, 0], months)\n",
    "plt.xlim(-1, 12)\n",
    "\n",
    "ax1.legend(numpoints=1, loc='upper left')\n",
    "ax2.legend(numpoints=1, loc='upper right')\n",
    "\n",
    "\n",
    "ax1.set_xlabel('Months')"
   ]
  },
  {
   "cell_type": "markdown",
   "metadata": {
    "slideshow": {
     "slide_type": "slide"
    }
   },
   "source": [
    "<div style=\"width:500 px\">\n",
    "<div style=\"float:left; width:100 px\"><img src=\"./files/canada_climate.jpg\" width=430></a></div>\n",
    "<div style=\"float:left; width:100 px\"><img src=\"./files/final.png\"></a></div>\n",
    "\n",
    "<div style=\"clear:both\"></div>\n",
    "</div>"
   ]
  },
  {
   "cell_type": "markdown",
   "metadata": {
    "slideshow": {
     "slide_type": "slide"
    }
   },
   "source": [
    "## What's next?\n",
    "\n",
    "1. Lunch\n",
    "2. Project work: more climate data analysis: \"Can we detect global warming?\" \n",
    "\n",
    "References:\n",
    "Matplotlib gallery with examples of different plots and the code that produces them:\n",
    "- http://matplotlib.org/gallery.html\n",
    "\n",
    "Exercises of varying difficulty for practicing efficient manipulations with NumPy arrays:\n",
    "- http://www.labri.fr/perso/nrougier/teaching/numpy/numpy.html"
   ]
  },
  {
   "cell_type": "code",
   "execution_count": null,
   "metadata": {
    "collapsed": true
   },
   "outputs": [],
   "source": []
  }
 ],
 "metadata": {
  "celltoolbar": "Slideshow",
  "kernelspec": {
   "display_name": "Python 3",
   "language": "python",
   "name": "python3"
  },
  "language_info": {
   "codemirror_mode": {
    "name": "ipython",
    "version": 3
   },
   "file_extension": ".py",
   "mimetype": "text/x-python",
   "name": "python",
   "nbconvert_exporter": "python",
   "pygments_lexer": "ipython3",
   "version": "3.4.2"
  }
 },
 "nbformat": 4,
 "nbformat_minor": 0
}
