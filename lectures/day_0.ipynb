{
 "cells": [
  {
   "cell_type": "markdown",
   "metadata": {
    "slideshow": {
     "slide_type": "slide"
    }
   },
   "source": [
    "# Programming Workshop for Beginners\n",
    "### Day 0: Install fest and first steps\n",
    "### Friday, Nov 11, 2016\n",
    "### University of Waterloo\n",
    "<img src=\"./files/party.png\" width=\"100\" \\>\n"
   ]
  },
  {
   "cell_type": "markdown",
   "metadata": {
    "slideshow": {
     "slide_type": "slide"
    }
   },
   "source": [
    "##  Who are we?\n",
    "\n",
    "- We are all students!\n",
    "    - Instructors: Ivana, Mariah, Jasmine\n",
    "    - Mentors: Alan, Irish, Ryan, Sajed, Stacy"
   ]
  },
  {
   "cell_type": "markdown",
   "metadata": {
    "slideshow": {
     "slide_type": "slide"
    }
   },
   "source": [
    "## Who are you? :)"
   ]
  },
  {
   "cell_type": "markdown",
   "metadata": {
    "slideshow": {
     "slide_type": "slide"
    }
   },
   "source": [
    "## Admin\n",
    "\n",
    "- All materials are online: `https://github.com/uwpyb/materials/`\n",
    "    - and so are these slides: `http://goo.gl/N5Q025`\n",
    "- Mailing list: `python-workshop@lists.uwaterloo.ca`\n",
    "- Interactive lecture\n",
    "- Red and green sticky notes"
   ]
  },
  {
   "cell_type": "markdown",
   "metadata": {
    "slideshow": {
     "slide_type": "slide"
    }
   },
   "source": [
    "## Agenda for today\n",
    "- install, run the software and make sure it works\n",
    "- familiarize ourselves with the programming workflow\n",
    "- first programming steps with variables"
   ]
  },
  {
   "cell_type": "markdown",
   "metadata": {
    "slideshow": {
     "slide_type": "slide"
    }
   },
   "source": [
    "## Installation instructions for Windows\n",
    "\n",
    "1. Open http://continuum.io/downloads with your web browser.\n",
    "2. Download the Python 3.5 installer for Windows.\n",
    "3. Install Python 3.5 using all of the defaults for installation except make sure to check Make Anaconda the default Python."
   ]
  },
  {
   "cell_type": "markdown",
   "metadata": {
    "slideshow": {
     "slide_type": "slide"
    }
   },
   "source": [
    "## Installation instructions for Mac OS X\n",
    "\n",
    "1. Open http://continuum.io/downloads with your web browser.\n",
    "2. Download the Python 3.5 installer for OS X.\n",
    "3. Install Python 3.5 using all of the defaults for installation."
   ]
  },
  {
   "cell_type": "markdown",
   "metadata": {
    "slideshow": {
     "slide_type": "slide"
    }
   },
   "source": [
    "# Setup\n",
    "\n",
    "1. Install the files you have downloaded\n",
    "    - Anaconda\n",
    "    - Sublime Text\n",
    "\n",
    "2. Put the <font color='red'>red</font> sticky note if: you don't have the files OR something does not look right during the installation process OR you're totally lost and have no idea what is going on\n",
    "\n",
    "3. After successfully installing everything, run the program IPython\n",
    "4. Put up a <font color='green'>green</font> sticky note if you see something like this:\n",
    "<img src=\"./files/ipython.png\">\n"
   ]
  },
  {
   "cell_type": "markdown",
   "metadata": {
    "slideshow": {
     "slide_type": "slide"
    }
   },
   "source": [
    "# First steps\n",
    "<img src=\"./files/followme.png\" width=\"400\">"
   ]
  },
  {
   "cell_type": "markdown",
   "metadata": {
    "slideshow": {
     "slide_type": "slide"
    }
   },
   "source": [
    "## Python as a calculator\n"
   ]
  },
  {
   "cell_type": "code",
   "execution_count": 1,
   "metadata": {
    "collapsed": false
   },
   "outputs": [
    {
     "data": {
      "text/plain": [
       "15"
      ]
     },
     "execution_count": 1,
     "metadata": {},
     "output_type": "execute_result"
    }
   ],
   "source": [
    "10+5"
   ]
  },
  {
   "cell_type": "code",
   "execution_count": 2,
   "metadata": {
    "collapsed": false
   },
   "outputs": [
    {
     "data": {
      "text/plain": [
       "200"
      ]
     },
     "execution_count": 2,
     "metadata": {},
     "output_type": "execute_result"
    }
   ],
   "source": [
    "10*20"
   ]
  },
  {
   "cell_type": "code",
   "execution_count": 3,
   "metadata": {
    "collapsed": false
   },
   "outputs": [
    {
     "data": {
      "text/plain": [
       "5"
      ]
     },
     "execution_count": 3,
     "metadata": {},
     "output_type": "execute_result"
    }
   ],
   "source": [
    "10-(2+3)"
   ]
  },
  {
   "cell_type": "markdown",
   "metadata": {
    "slideshow": {
     "slide_type": "slide"
    }
   },
   "source": [
    "## Python saying 'hi'"
   ]
  },
  {
   "cell_type": "code",
   "execution_count": 4,
   "metadata": {
    "collapsed": false
   },
   "outputs": [
    {
     "name": "stdout",
     "output_type": "stream",
     "text": [
      "Good evening everyone!\n"
     ]
    }
   ],
   "source": [
    "print(\"Good evening everyone!\")"
   ]
  },
  {
   "cell_type": "code",
   "execution_count": 1,
   "metadata": {
    "collapsed": false
   },
   "outputs": [
    {
     "name": "stdout",
     "output_type": "stream",
     "text": [
      "Good eveningat 8 pm!\n"
     ]
    }
   ],
   "source": [
    "print(\"Good evening\" + \"at 8 pm!\")"
   ]
  },
  {
   "cell_type": "markdown",
   "metadata": {
    "slideshow": {
     "slide_type": "slide"
    }
   },
   "source": [
    "## Creating a Python script\n",
    "- script: a file containing commands written in Python language"
   ]
  },
  {
   "cell_type": "markdown",
   "metadata": {
    "slideshow": {
     "slide_type": "slide"
    }
   },
   "source": [
    "## Task: Your first script!\n",
    "1. Create a folder called **workshop** on your Desktop\n",
    "2. Open Sublime Text and write two following lines in the editor:\n",
    "```python\n",
    "print(\"Good evening everyone!\")\n",
    "print(\"Good evening at 8pm!\")\n",
    "```\n",
    "3. Save that file as **hello.py** in the **workshop** folder\n",
    "4. Put up a green sticky note if you see **hello.py** in the workshop folder, or a red one if you don't see anything or only see **hello** (without **.py**)"
   ]
  },
  {
   "cell_type": "markdown",
   "metadata": {
    "slideshow": {
     "slide_type": "slide"
    }
   },
   "source": [
    "## Command Line (CMD)\n",
    "\n",
    "2 ways of navigating through the content of your disk:\n",
    "- clicking: moving arond by clicking on icons in *Graphical User Inteface (GUI)*\n",
    "- typing: giving navigation commands in the *command line (CMD)*"
   ]
  },
  {
   "cell_type": "markdown",
   "metadata": {
    "slideshow": {
     "slide_type": "slide"
    }
   },
   "source": [
    "# Navigation by typing\n",
    "\n",
    "- **pwd**: print working directory\n",
    "- **cd**: change directory\n",
    "- **ls**: list files\n",
    "\n",
    "In IPython:"
   ]
  },
  {
   "cell_type": "code",
   "execution_count": 1,
   "metadata": {
    "collapsed": false
   },
   "outputs": [
    {
     "name": "stdout",
     "output_type": "stream",
     "text": [
      "/home/ivana\n"
     ]
    }
   ],
   "source": [
    "cd"
   ]
  },
  {
   "cell_type": "code",
   "execution_count": 2,
   "metadata": {
    "collapsed": false
   },
   "outputs": [
    {
     "name": "stdout",
     "output_type": "stream",
     "text": [
      "/home/ivana/Desktop\n"
     ]
    }
   ],
   "source": [
    "cd Desktop"
   ]
  },
  {
   "cell_type": "code",
   "execution_count": 3,
   "metadata": {
    "collapsed": false
   },
   "outputs": [
    {
     "name": "stdout",
     "output_type": "stream",
     "text": [
      "[Errno 2] No such file or directory: 'workshop'\n",
      "/home/ivana/Desktop\n"
     ]
    }
   ],
   "source": [
    "cd workshop"
   ]
  },
  {
   "cell_type": "code",
   "execution_count": 4,
   "metadata": {
    "collapsed": false,
    "slideshow": {
     "slide_type": "skip"
    }
   },
   "outputs": [
    {
     "name": "stdout",
     "output_type": "stream",
     "text": [
      "225355_Kajic_Manuscript(1).PDF\r\n",
      "\u001b[0m\u001b[01;35m3372c54f0b997d5c54c232f141e17513.jpg\u001b[0m\r\n",
      "Artificial intelligence- Deep neural reasoning - Nature - Nature Research.pdf\r\n",
      "\u001b[01;34mcaplja\u001b[0m/\r\n",
      "\u001b[01;34mcogsci\u001b[0m/\r\n",
      "fbinary_google_symmetric_simulations.csv\r\n",
      "frontiers-resp.pdf\r\n",
      "javascript_the_good_parts.pdf\r\n",
      "nature20101_Wayne.pdf\r\n",
      "ogs-qeii-gsst_application_2017-2018_fill.pdf\r\n",
      "\u001b[01;34mpeso\u001b[0m/\r\n",
      "\u001b[01;34mracuni\u001b[0m/\r\n",
      "repo_cleanup\r\n",
      "repo_cleanup~\r\n",
      "ResearchProposal.pdf\r\n",
      "Singer_W_et_al_Neuronal_assemblies_necessity_signa.pdf\r\n",
      "\u001b[01;34mstakor\u001b[0m/\r\n",
      "TODO\r\n",
      "uw_fall_16\r\n",
      "\u001b[01;34mWed19Oct_Amath740\u001b[0m/\r\n"
     ]
    }
   ],
   "source": [
    "ls"
   ]
  },
  {
   "cell_type": "markdown",
   "metadata": {
    "slideshow": {
     "slide_type": "slide"
    }
   },
   "source": [
    "## Running a script\n",
    "\n",
    "`1.` Run **pwd** to check where you are. It should end with  **workshop**:"
   ]
  },
  {
   "cell_type": "code",
   "execution_count": 10,
   "metadata": {
    "collapsed": false
   },
   "outputs": [
    {
     "data": {
      "text/plain": [
       "u'c:\\\\Users\\\\Sean Aubin\\\\Desktop\\\\workshop'"
      ]
     },
     "execution_count": 10,
     "metadata": {},
     "output_type": "execute_result"
    }
   ],
   "source": [
    "pwd"
   ]
  },
  {
   "cell_type": "markdown",
   "metadata": {},
   "source": [
    "`2.` Check that there is a script called **hello.py**:"
   ]
  },
  {
   "cell_type": "code",
   "execution_count": 11,
   "metadata": {
    "collapsed": false
   },
   "outputs": [
    {
     "name": "stdout",
     "output_type": "stream",
     "text": [
      " Volume in drive C has no label.\n",
      " Volume Serial Number is 0E88-D7BC\n",
      "\n",
      " Directory of c:\\Users\\Sean Aubin\\Desktop\\workshop\n",
      "\n",
      "01/29/2016  02:23 PM    <DIR>          .\n",
      "01/29/2016  02:23 PM    <DIR>          ..\n",
      "01/29/2016  02:24 PM                62 hello.py\n",
      "               1 File(s)             62 bytes\n",
      "               2 Dir(s)  130,430,922,752 bytes free\n"
     ]
    }
   ],
   "source": [
    "ls"
   ]
  },
  {
   "cell_type": "markdown",
   "metadata": {},
   "source": [
    "`3.` Run the script:"
   ]
  },
  {
   "cell_type": "code",
   "execution_count": 12,
   "metadata": {
    "collapsed": false
   },
   "outputs": [
    {
     "name": "stdout",
     "output_type": "stream",
     "text": [
      "Good evening everyone!\n",
      "Good evening at 8pm!\n"
     ]
    }
   ],
   "source": [
    "run hello.py"
   ]
  },
  {
   "cell_type": "markdown",
   "metadata": {
    "slideshow": {
     "slide_type": "slide"
    }
   },
   "source": [
    "### Learned so far:\n",
    "- Python commands: \n",
    "    -  math commands\n",
    "    - **print**: tell Python to print to the screen\n",
    "- Other commands: \n",
    "    - **pwd**: print working directory\n",
    "    - **cd**: change directory\n",
    "    - **ls**: list files\n",
    "    - **run**: run the script"
   ]
  },
  {
   "cell_type": "markdown",
   "metadata": {
    "slideshow": {
     "slide_type": "slide"
    }
   },
   "source": [
    "## Data Types\n",
    "\n",
    "<img src=\"./files/types.png\" width=\"600\">"
   ]
  },
  {
   "cell_type": "markdown",
   "metadata": {
    "slideshow": {
     "slide_type": "slide"
    }
   },
   "source": [
    "## Data Types "
   ]
  },
  {
   "cell_type": "code",
   "execution_count": 6,
   "metadata": {
    "collapsed": false,
    "slideshow": {
     "slide_type": "-"
    }
   },
   "outputs": [
    {
     "name": "stdout",
     "output_type": "stream",
     "text": [
      "Hello!\n"
     ]
    }
   ],
   "source": [
    "print(\"Hello!\")"
   ]
  },
  {
   "cell_type": "code",
   "execution_count": 16,
   "metadata": {
    "collapsed": false
   },
   "outputs": [
    {
     "data": {
      "text/plain": [
       "str"
      ]
     },
     "execution_count": 16,
     "metadata": {},
     "output_type": "execute_result"
    }
   ],
   "source": [
    "type(\"Hello!\")"
   ]
  },
  {
   "cell_type": "code",
   "execution_count": 10,
   "metadata": {
    "collapsed": false
   },
   "outputs": [
    {
     "data": {
      "text/plain": [
       "int"
      ]
     },
     "execution_count": 10,
     "metadata": {},
     "output_type": "execute_result"
    }
   ],
   "source": [
    "type(1)"
   ]
  },
  {
   "cell_type": "code",
   "execution_count": 14,
   "metadata": {
    "collapsed": false
   },
   "outputs": [
    {
     "data": {
      "text/plain": [
       "float"
      ]
     },
     "execution_count": 14,
     "metadata": {},
     "output_type": "execute_result"
    }
   ],
   "source": [
    "type(1.1)"
   ]
  },
  {
   "cell_type": "markdown",
   "metadata": {
    "slideshow": {
     "slide_type": "slide"
    }
   },
   "source": [
    "## What is the output of:"
   ]
  },
  {
   "cell_type": "code",
   "execution_count": null,
   "metadata": {
    "collapsed": false
   },
   "outputs": [],
   "source": [
    "type(\"-2.0\")"
   ]
  },
  {
   "cell_type": "markdown",
   "metadata": {},
   "source": [
    "a) int\n",
    "\n",
    "b) str\n",
    "\n",
    "c) float"
   ]
  },
  {
   "cell_type": "markdown",
   "metadata": {
    "slideshow": {
     "slide_type": "slide"
    }
   },
   "source": [
    "## What is the output of:"
   ]
  },
  {
   "cell_type": "code",
   "execution_count": null,
   "metadata": {
    "collapsed": false,
    "slideshow": {
     "slide_type": "-"
    }
   },
   "outputs": [],
   "source": [
    "print(\"Hello\" + 123)"
   ]
  },
  {
   "cell_type": "markdown",
   "metadata": {},
   "source": [
    "a) Error\n",
    "\n",
    "b) Hello123\n",
    "\n",
    "c) Hello 123"
   ]
  },
  {
   "cell_type": "markdown",
   "metadata": {
    "slideshow": {
     "slide_type": "slide"
    }
   },
   "source": [
    "## Hint\n",
    "\n",
    "To convert an integer into a string, we can use casting:"
   ]
  },
  {
   "cell_type": "code",
   "execution_count": 3,
   "metadata": {
    "collapsed": false
   },
   "outputs": [
    {
     "data": {
      "text/plain": [
       "'4'"
      ]
     },
     "execution_count": 3,
     "metadata": {},
     "output_type": "execute_result"
    }
   ],
   "source": [
    "str(4)"
   ]
  },
  {
   "cell_type": "markdown",
   "metadata": {
    "slideshow": {
     "slide_type": "slide"
    }
   },
   "source": [
    "What would we change in the code below to make it not throw an error anymore and output `Hello4`?<br>\n",
    "\n",
    "`print(\"Hello\"+4)`\n",
    "\n",
    "a) `print(int(\"Hello\")+4)`\n",
    "\n",
    "b) `print(str(\"Hello\")+4)`\n",
    "\n",
    "c) `print(\"Hello\"+str(4))`"
   ]
  },
  {
   "cell_type": "markdown",
   "metadata": {
    "slideshow": {
     "slide_type": "slide"
    }
   },
   "source": [
    "## More power: variables"
   ]
  },
  {
   "cell_type": "markdown",
   "metadata": {
    "collapsed": true
   },
   "source": [
    "- variables let you save data and manipulate them"
   ]
  },
  {
   "cell_type": "code",
   "execution_count": 4,
   "metadata": {
    "collapsed": false
   },
   "outputs": [
    {
     "name": "stdout",
     "output_type": "stream",
     "text": [
      "3\n"
     ]
    }
   ],
   "source": [
    "box = 3\n",
    "print(box)"
   ]
  },
  {
   "cell_type": "code",
   "execution_count": 5,
   "metadata": {
    "collapsed": false
   },
   "outputs": [
    {
     "name": "stdout",
     "output_type": "stream",
     "text": [
      "6\n"
     ]
    }
   ],
   "source": [
    "double_box = box * 2\n",
    "print(double_box)"
   ]
  },
  {
   "cell_type": "code",
   "execution_count": 6,
   "metadata": {
    "collapsed": false
   },
   "outputs": [
    {
     "name": "stdout",
     "output_type": "stream",
     "text": [
      "9\n"
     ]
    }
   ],
   "source": [
    "number_box = 8\n",
    "number_box = number_box + 1\n",
    "print(number_box)"
   ]
  },
  {
   "cell_type": "code",
   "execution_count": null,
   "metadata": {
    "collapsed": true,
    "slideshow": {
     "slide_type": "slide"
    }
   },
   "outputs": [],
   "source": [
    "box = \"kittens\"\n",
    "print(box)"
   ]
  },
  {
   "cell_type": "markdown",
   "metadata": {
    "slideshow": {
     "slide_type": "slide"
    }
   },
   "source": [
    "## Question\n",
    "\n",
    "If I run the following code, what will be the final value of `b`?\n",
    "\n",
    "```\n",
    "a = 1\n",
    "b = a * 5\n",
    "a = 2\n",
    "```\n",
    "\n",
    "a) `5`\n",
    "\n",
    "b) `1`\n",
    "\n",
    "c) `10`"
   ]
  },
  {
   "cell_type": "markdown",
   "metadata": {
    "slideshow": {
     "slide_type": "slide"
    }
   },
   "source": [
    "### Exercises\n",
    "\n",
    "Use the IPython to answer following questions:\n",
    "\n",
    "1. How much is 1234 CAD in EUR? And in GBP? Use the print command to print the message nicely. (1 CAD = 0.65 EUR, 1 CAD = 0.49 GBP)\n",
    "\n",
    "2. What do you expect to see when you type following divisions in IPython? Try guessing first!\n",
    "    - 1/3\n",
    "    - 1/0\n",
    "3. Make a script plus.py containing following lines:\n",
    "```python\n",
    "10-43\n",
    "print(\"I'm done!\")\n",
    "```\n",
    "What do you expect to see when you run the script? After running the script, change it so it also prints the result of subtraction!"
   ]
  },
  {
   "cell_type": "markdown",
   "metadata": {
    "slideshow": {
     "slide_type": "slide"
    }
   },
   "source": [
    "## Done!\n",
    "\n",
    "- Coffee will be here at 9:30am tomorrow. The lecture starts at 10:00am (at noon break for lunch)\n",
    "- Before you leave, write on your sticky notes:\n",
    "    - green: something you liked about todays lecture\n",
    "    - red: something that can be improved or something that was hard to understand"
   ]
  },
  {
   "cell_type": "code",
   "execution_count": null,
   "metadata": {
    "collapsed": true
   },
   "outputs": [],
   "source": []
  }
 ],
 "metadata": {
  "celltoolbar": "Slideshow",
  "kernelspec": {
   "display_name": "Python 2",
   "language": "python",
   "name": "python2"
  },
  "language_info": {
   "codemirror_mode": {
    "name": "ipython",
    "version": 2
   },
   "file_extension": ".py",
   "mimetype": "text/x-python",
   "name": "python",
   "nbconvert_exporter": "python",
   "pygments_lexer": "ipython2",
   "version": "2.7.9"
  }
 },
 "nbformat": 4,
 "nbformat_minor": 0
}
