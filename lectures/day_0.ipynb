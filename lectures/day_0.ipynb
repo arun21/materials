{
 "cells": [
  {
   "cell_type": "markdown",
   "metadata": {
    "slideshow": {
     "slide_type": "slide"
    }
   },
   "source": [
    "# Python Programming Workshop for Beginners\n",
    "### Day 0: Install fest\n",
    "### Friday, Jan 29, 2016\n",
    "### University of Waterloo\n",
    "<img src=\"./files/party.png\" width=\"100\" \\>\n"
   ]
  },
  {
   "cell_type": "markdown",
   "metadata": {
    "slideshow": {
     "slide_type": "slide"
    }
   },
   "source": [
    "##  Who are we?\n",
    "\n",
    "- We are all students!\n",
    "    - Instructors: Ivana and Sean\n",
    "    - Mentors: Alan, Deepak, Irish, Mariah, Sajed and Xuan"
   ]
  },
  {
   "cell_type": "markdown",
   "metadata": {
    "slideshow": {
     "slide_type": "skip"
    }
   },
   "source": [
    "## Who are you? :)"
   ]
  },
  {
   "cell_type": "markdown",
   "metadata": {
    "slideshow": {
     "slide_type": "slide"
    }
   },
   "source": [
    "## Admin\n",
    "\n",
    "- All materials are online: `https://github.com/uwpyb/materials/`\n",
    "    - these slides: `http://goo.gl/N5Q025`\n",
    "- Mailing list: `python-workshop@lists.uwaterloo.ca`\n",
    "- Interactive lecture\n",
    "- Red and green sticky notes"
   ]
  },
  {
   "cell_type": "markdown",
   "metadata": {
    "slideshow": {
     "slide_type": "slide"
    }
   },
   "source": [
    "## Installation instructions for Windows\n",
    "\n",
    "1. Open http://continuum.io/downloads with your web browser.\n",
    "2. Download the Python 3.5 installer for Windows.\n",
    "3. Install Python 3.5 using all of the defaults for installation except make sure to check Make Anaconda the default Python."
   ]
  },
  {
   "cell_type": "markdown",
   "metadata": {
    "slideshow": {
     "slide_type": "slide"
    }
   },
   "source": [
    "## Installation instructions for Mac OS X\n",
    "\n",
    "1. Open http://continuum.io/downloads with your web browser.\n",
    "2. Download the Python 3.5 installer for OS X.\n",
    "3. Install Python 3.5 using all of the defaults for installation."
   ]
  },
  {
   "cell_type": "markdown",
   "metadata": {
    "slideshow": {
     "slide_type": "slide"
    }
   },
   "source": [
    "# Setup\n",
    "\n",
    "1. Install the files you have downloaded\n",
    "    - Anaconda\n",
    "    - Sublime Text\n",
    "\n",
    "2. Put the <font color='red'>red</font> sticky note if: you don't have the files OR something does not look right during the installation process\n",
    "\n",
    "3. After successfully installing everything, run the program IPython\n",
    "4. Put up a <font color='green'>green</font> sticky note if you see something like this:\n",
    "<img src=\"./files/ipython.png\">\n"
   ]
  },
  {
   "cell_type": "markdown",
   "metadata": {
    "slideshow": {
     "slide_type": "slide"
    }
   },
   "source": [
    "# First steps\n",
    "<img src=\"./files/followme.png\" width=\"400\">"
   ]
  },
  {
   "cell_type": "markdown",
   "metadata": {
    "slideshow": {
     "slide_type": "slide"
    }
   },
   "source": [
    "## Python as a calculator\n"
   ]
  },
  {
   "cell_type": "code",
   "execution_count": 1,
   "metadata": {
    "collapsed": false
   },
   "outputs": [
    {
     "data": {
      "text/plain": [
       "15"
      ]
     },
     "execution_count": 1,
     "metadata": {},
     "output_type": "execute_result"
    }
   ],
   "source": [
    "10+5"
   ]
  },
  {
   "cell_type": "code",
   "execution_count": 2,
   "metadata": {
    "collapsed": false
   },
   "outputs": [
    {
     "data": {
      "text/plain": [
       "200"
      ]
     },
     "execution_count": 2,
     "metadata": {},
     "output_type": "execute_result"
    }
   ],
   "source": [
    "10*20"
   ]
  },
  {
   "cell_type": "code",
   "execution_count": 3,
   "metadata": {
    "collapsed": false
   },
   "outputs": [
    {
     "data": {
      "text/plain": [
       "5"
      ]
     },
     "execution_count": 3,
     "metadata": {},
     "output_type": "execute_result"
    }
   ],
   "source": [
    "10-(2+3)"
   ]
  },
  {
   "cell_type": "markdown",
   "metadata": {
    "slideshow": {
     "slide_type": "slide"
    }
   },
   "source": [
    "## Python saying 'hi'"
   ]
  },
  {
   "cell_type": "code",
   "execution_count": 4,
   "metadata": {
    "collapsed": false
   },
   "outputs": [
    {
     "name": "stdout",
     "output_type": "stream",
     "text": [
      "Good evening everyone!\n"
     ]
    }
   ],
   "source": [
    "print(\"Good evening everyone!\")"
   ]
  },
  {
   "cell_type": "code",
   "execution_count": 5,
   "metadata": {
    "collapsed": false
   },
   "outputs": [
    {
     "name": "stdout",
     "output_type": "stream",
     "text": [
      "Good evening at 8 pm\n"
     ]
    }
   ],
   "source": [
    "print(\"Good evening at 8 pm!\")"
   ]
  },
  {
   "cell_type": "markdown",
   "metadata": {
    "slideshow": {
     "slide_type": "slide"
    }
   },
   "source": [
    "## Creating a Python script\n",
    "- script: a file containing commands written in Python language"
   ]
  },
  {
   "cell_type": "markdown",
   "metadata": {
    "slideshow": {
     "slide_type": "slide"
    }
   },
   "source": [
    "## Task: Your first script!\n",
    "1. Create a folder called `workshop` on your Desktop\n",
    "2. Open Sublime Text and write two following lines in the editor:\n",
    "```\n",
    "print(\"Good evening everyone!\")\n",
    "print(\"Good evening at 8pm!\")\n",
    "```\n",
    "3. Save that file as `hello.py` in the `workshop` folder\n",
    "4. Put up a green sticky note if you see `hello.py` in the workshop folder, or a red one if you don't see anything or only see `hello` (without `.py`)"
   ]
  },
  {
   "cell_type": "markdown",
   "metadata": {
    "slideshow": {
     "slide_type": "slide"
    }
   },
   "source": [
    "## Command Line (CMD)\n",
    "\n",
    "2 ways of navigating through the content of your disk:\n",
    "- clicking: moving arond by clicking on icons in *Graphical User Inteface (GUI)*\n",
    "- typing: giving navigation commands in the *command line (CMD)*"
   ]
  },
  {
   "cell_type": "markdown",
   "metadata": {
    "slideshow": {
     "slide_type": "slide"
    }
   },
   "source": [
    "# Navigation by typing\n",
    "\n",
    "- `pwd`: print working directory\n",
    "- `cd`: change directory\n",
    "- `ls`: list files\n",
    "\n",
    "In IPython:"
   ]
  },
  {
   "cell_type": "code",
   "execution_count": 6,
   "metadata": {
    "collapsed": false
   },
   "outputs": [
    {
     "name": "stdout",
     "output_type": "stream",
     "text": [
      "/home/ivana\n"
     ]
    }
   ],
   "source": [
    "cd"
   ]
  },
  {
   "cell_type": "code",
   "execution_count": 7,
   "metadata": {
    "collapsed": false
   },
   "outputs": [
    {
     "name": "stdout",
     "output_type": "stream",
     "text": [
      "/home/ivana/Desktop\n"
     ]
    }
   ],
   "source": [
    "cd Desktop/"
   ]
  },
  {
   "cell_type": "code",
   "execution_count": 8,
   "metadata": {
    "collapsed": false
   },
   "outputs": [
    {
     "name": "stdout",
     "output_type": "stream",
     "text": [
      "/home/ivana/Desktop/workshop\n"
     ]
    }
   ],
   "source": [
    "cd workshop/"
   ]
  },
  {
   "cell_type": "code",
   "execution_count": 9,
   "metadata": {
    "collapsed": false
   },
   "outputs": [
    {
     "name": "stdout",
     "output_type": "stream",
     "text": [
      "hello.py\r\n"
     ]
    }
   ],
   "source": [
    "ls"
   ]
  },
  {
   "cell_type": "markdown",
   "metadata": {
    "slideshow": {
     "slide_type": "slide"
    }
   },
   "source": [
    "## Running a script\n",
    "\n",
    "`1.` Run `pwd` to check where you are. It should end with  ` workshop`:"
   ]
  },
  {
   "cell_type": "code",
   "execution_count": 13,
   "metadata": {
    "collapsed": false
   },
   "outputs": [
    {
     "data": {
      "text/plain": [
       "'/home/ivana/Desktop/workshop'"
      ]
     },
     "execution_count": 13,
     "metadata": {},
     "output_type": "execute_result"
    }
   ],
   "source": [
    "pwd"
   ]
  },
  {
   "cell_type": "markdown",
   "metadata": {},
   "source": [
    "`2.` Check that there is a script called `hello.py`:"
   ]
  },
  {
   "cell_type": "code",
   "execution_count": 14,
   "metadata": {
    "collapsed": false
   },
   "outputs": [
    {
     "name": "stdout",
     "output_type": "stream",
     "text": [
      "hello.py  hello.py~\r\n"
     ]
    }
   ],
   "source": [
    "ls"
   ]
  },
  {
   "cell_type": "markdown",
   "metadata": {},
   "source": [
    "`3.` Run the script:"
   ]
  },
  {
   "cell_type": "code",
   "execution_count": 15,
   "metadata": {
    "collapsed": false
   },
   "outputs": [
    {
     "name": "stdout",
     "output_type": "stream",
     "text": [
      "Good evening everyone\n",
      "Good evening at 8pm!\n"
     ]
    }
   ],
   "source": [
    "run hello.py"
   ]
  },
  {
   "cell_type": "markdown",
   "metadata": {
    "slideshow": {
     "slide_type": "slide"
    }
   },
   "source": [
    "### Learned today:\n",
    "- Python commands: \n",
    "    -  math commands\n",
    "    - `print`: tell Python to print to the screen\n",
    "- Other commands: \n",
    "    - `pwd`: print working directory\n",
    "    - `cd`: change directory\n",
    "    - `ls`: list files\n",
    "    - `run`: run the script"
   ]
  },
  {
   "cell_type": "markdown",
   "metadata": {
    "slideshow": {
     "slide_type": "slide"
    }
   },
   "source": [
    "## Done!\n",
    "\n",
    "- Coffee will be here at 9:30am tomorrow. The lecture starts at 10:00am (at noon break for lunch)\n",
    "- Before you leave, write on your sticky notes:\n",
    "    - green: something you liked about todays lecture\n",
    "    - red: something that can be improved or something that was hard to understand"
   ]
  },
  {
   "cell_type": "markdown",
   "metadata": {
    "slideshow": {
     "slide_type": "slide"
    }
   },
   "source": [
    "### Homework (optional)\n",
    "\n",
    "Use the IPython to answer following questions:\n",
    "\n",
    "1. How much is 1234 CAD in EUR? And in GBP? Use the print command to print the message nicely. (1 CAD = 0.65 EUR, 1 CAD = 0.49 GBP)\n",
    "\n",
    "2. What do you expect to see when you type following divisions in IPython? Try guessing first!\n",
    "    - 1/3\n",
    "    - 1/0\n",
    "3. Make a script plus.py containing following lines:\n",
    "```python\n",
    "10-43\n",
    "print(\"I'm done!\")\n",
    "```\n",
    "What do you expect to see when you run the script? After running the script, change it so it also prints the result of subtraction!"
   ]
  }
 ],
 "metadata": {
  "celltoolbar": "Slideshow",
  "kernelspec": {
   "display_name": "Python 3",
   "language": "python",
   "name": "python3"
  },
  "language_info": {
   "codemirror_mode": {
    "name": "ipython",
    "version": 3
   },
   "file_extension": ".py",
   "mimetype": "text/x-python",
   "name": "python",
   "nbconvert_exporter": "python",
   "pygments_lexer": "ipython3",
   "version": "3.4.2"
  }
 },
 "nbformat": 4,
 "nbformat_minor": 0
}
