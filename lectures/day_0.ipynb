{
 "cells": [
  {
   "cell_type": "markdown",
   "metadata": {
    "slideshow": {
     "slide_type": "slide"
    }
   },
   "source": [
    "# Python Programming Workshop for Beginners\n",
    "### Day 0: Install fest\n",
    "### Friday, Jan 29, 2016\n",
    "### University of Waterloo\n",
    "<img src=\"./files/party.png\" width=\"100\" \\>\n"
   ]
  },
  {
   "cell_type": "markdown",
   "metadata": {
    "slideshow": {
     "slide_type": "slide"
    }
   },
   "source": [
    "##  Who are we?\n",
    "\n",
    "- We are all students!\n",
    "    - Instructors: Ivana and Sean\n",
    "    - Mentors: Alan, Deepak, Irish, Mariah, Sajed and Xuan"
   ]
  },
  {
   "cell_type": "markdown",
   "metadata": {
    "slideshow": {
     "slide_type": "skip"
    }
   },
   "source": [
    "## Who are you? :)"
   ]
  },
  {
   "cell_type": "markdown",
   "metadata": {
    "slideshow": {
     "slide_type": "slide"
    }
   },
   "source": [
    "## Admin\n",
    "\n",
    "- All materials are online: `https://github.com/uwpyb/materials/`\n",
    "    - these slides: `http://goo.gl/N5Q025`\n",
    "\n",
    "- Interactive lecture\n",
    "- Red and green sticky notes"
   ]
  },
  {
   "cell_type": "markdown",
   "metadata": {
    "slideshow": {
     "slide_type": "slide"
    }
   },
   "source": [
    "## Installation instructions for Windows\n",
    "\n",
    "1. Open http://continuum.io/downloads with your web browser.\n",
    "2. Download the Python 3.5 installer for Windows.\n",
    "3. Install Python 3.5 using all of the defaults for installation except make sure to check Make Anaconda the default Python."
   ]
  },
  {
   "cell_type": "markdown",
   "metadata": {
    "slideshow": {
     "slide_type": "slide"
    }
   },
   "source": [
    "## Installation instructions for Mac OS X\n",
    "\n",
    "1. Open http://continuum.io/downloads with your web browser.\n",
    "2. Download the Python 3.5 installer for OS X.\n",
    "3. Install Python 3.5 using all of the defaults for installation."
   ]
  },
  {
   "cell_type": "markdown",
   "metadata": {
    "slideshow": {
     "slide_type": "slide"
    }
   },
   "source": [
    "# Setup\n",
    "\n",
    "1. Install the files you have downloaded\n",
    "    - Anaconda\n",
    "    - Sublime Text\n",
    "\n",
    "2. Put the <font color='red'>red</font> sticky note if: you don't have the files OR something does not look right during the installation process\n",
    "\n",
    "3. After successfully installing everything, run the program IPython\n",
    "4. Put up a <font color='green'>green</font> sticky note if you see something like this:\n",
    "<img src=\"./files/ipython.png\">\n"
   ]
  },
  {
   "cell_type": "markdown",
   "metadata": {
    "slideshow": {
     "slide_type": "slide"
    }
   },
   "source": [
    "# First steps"
   ]
  },
  {
   "cell_type": "markdown",
   "metadata": {
    "slideshow": {
     "slide_type": "slide"
    }
   },
   "source": [
    "## Command Line (CMD)\n",
    "\n",
    "2 ways of navigating through the content of your disk:\n",
    "- clicking: moving arond by clicking on icons in *Graphical User Inteface (GUI)*\n",
    "- typing: giving navigation commands in the *command line (CMD)*"
   ]
  },
  {
   "cell_type": "markdown",
   "metadata": {
    "collapsed": false,
    "slideshow": {
     "slide_type": "slide"
    }
   },
   "source": [
    "<img src=\"./files/followme.png\" width=\"400\">"
   ]
  },
  {
   "cell_type": "markdown",
   "metadata": {
    "slideshow": {
     "slide_type": "slide"
    }
   },
   "source": [
    "# Navigation by clicking"
   ]
  },
  {
   "cell_type": "markdown",
   "metadata": {
    "slideshow": {
     "slide_type": "slide"
    }
   },
   "source": [
    "# Navigation by typing\n",
    "\n",
    "- `pwd`: print working directory\n",
    "- `cd`: change directory\n",
    "- `ls`: list files"
   ]
  },
  {
   "cell_type": "markdown",
   "metadata": {
    "slideshow": {
     "slide_type": "slide"
    }
   },
   "source": [
    "## Using Python as a calculator\n"
   ]
  },
  {
   "cell_type": "markdown",
   "metadata": {
    "slideshow": {
     "slide_type": "slide"
    }
   },
   "source": [
    "## Commands"
   ]
  },
  {
   "cell_type": "code",
   "execution_count": 2,
   "metadata": {
    "collapsed": false
   },
   "outputs": [
    {
     "data": {
      "text/plain": [
       "15"
      ]
     },
     "execution_count": 2,
     "metadata": {},
     "output_type": "execute_result"
    }
   ],
   "source": [
    "10+5"
   ]
  },
  {
   "cell_type": "code",
   "execution_count": 3,
   "metadata": {
    "collapsed": false
   },
   "outputs": [
    {
     "data": {
      "text/plain": [
       "5"
      ]
     },
     "execution_count": 3,
     "metadata": {},
     "output_type": "execute_result"
    }
   ],
   "source": [
    "10*20"
   ]
  },
  {
   "cell_type": "code",
   "execution_count": 4,
   "metadata": {
    "collapsed": false
   },
   "outputs": [
    {
     "data": {
      "text/plain": [
       "5"
      ]
     },
     "execution_count": 4,
     "metadata": {},
     "output_type": "execute_result"
    }
   ],
   "source": [
    "10-(2+3)"
   ]
  },
  {
   "cell_type": "markdown",
   "metadata": {
    "slideshow": {
     "slide_type": "slide"
    }
   },
   "source": [
    "## Python saying 'hi'"
   ]
  },
  {
   "cell_type": "code",
   "execution_count": 1,
   "metadata": {
    "collapsed": false
   },
   "outputs": [
    {
     "name": "stdout",
     "output_type": "stream",
     "text": [
      "Good evening Ivana!\n"
     ]
    }
   ],
   "source": [
    "print('Good evening everyone!')"
   ]
  },
  {
   "cell_type": "code",
   "execution_count": 2,
   "metadata": {
    "collapsed": false
   },
   "outputs": [
    {
     "name": "stdout",
     "output_type": "stream",
     "text": [
      "Good evening at 8 pm\n"
     ]
    }
   ],
   "source": [
    "print('Good evening at 8 pm')"
   ]
  },
  {
   "cell_type": "markdown",
   "metadata": {
    "slideshow": {
     "slide_type": "slide"
    }
   },
   "source": [
    "### Homework (optional)\n",
    "\n",
    "Use Python interpreter to answer following questions:\n",
    "\n",
    "1. How much is 1234 CAD in EUR? And in GBP? Use the print command to print the message nicely. (1 CAD = 0.65 EUR, 1 CAD = 0.49 GBP)\n",
    "\n",
    "2. You invited two friends to your house and you are splitting a cake with them so everyone gets an equally big slice. Use Python to see how much of a cake everyone gets. How would you explain all the 3s in the output?"
   ]
  }
 ],
 "metadata": {
  "celltoolbar": "Slideshow",
  "kernelspec": {
   "display_name": "Python 3",
   "language": "python",
   "name": "python3"
  },
  "language_info": {
   "codemirror_mode": {
    "name": "ipython",
    "version": 3
   },
   "file_extension": ".py",
   "mimetype": "text/x-python",
   "name": "python",
   "nbconvert_exporter": "python",
   "pygments_lexer": "ipython3",
   "version": "3.4.2"
  }
 },
 "nbformat": 4,
 "nbformat_minor": 0
}
