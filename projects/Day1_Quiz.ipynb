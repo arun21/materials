{
 "cells": [
  {
   "cell_type": "markdown",
   "metadata": {},
   "source": [
    "#  Project: Make your own Quiz\n",
    "### Python for Beginners Workshop\n",
    "### University of Waterloo, Jan 2016\n",
    "authors: Ivana Kajić, Sean Aubin\n",
    "\n",
    "\n",
    "## Introduction\n",
    "The goal of this project is to create a simple quiz that asks different types of questions and tells the user how well they did. The user will be given a question, and should type their input. The program will check whether what they've typed is correct and prints the feedback.\n",
    "\n",
    "\n",
    "The following is an example of a quiz (the responses a user gave via the keyboard are surrounded by stars `**` for clarity):"
   ]
  },
  {
   "cell_type": "markdown",
   "metadata": {},
   "source": [
    "```\n",
    "What is the largest city in Africa? *Cairo*\n",
    "Correct! Cairo is the largest city in Africa.\n",
    "\n",
    "```\n",
    "\n",
    "```\n",
    "\n",
    "Does Vitamin F exit? [y/n] *n*\n",
    "Incorrect! Essential fatty acids are commonly referred to as Vitamin F.\n",
    "\n",
    "```\n",
    "\n",
    "```\n",
    "\n",
    "Type a word that fills the gap: ______ is the capital of New Zealand. \n",
    "*Wellington*\n",
    "Correct!\n",
    "```\n",
    "\n",
    "```\n",
    "\n",
    "What is the name of the spiciest pepper:\n",
    "a) Habanero\n",
    "b) Jalapeno\n",
    "c) Carolina Reaper\n",
    "*a*\n",
    "Incorrect! The correct answer is c.\n",
    "```\n"
   ]
  },
  {
   "cell_type": "markdown",
   "metadata": {
    "slideshow": {
     "slide_type": "slide"
    }
   },
   "source": [
    "The following slides are to be done at your own pace. They're formatted as: \n",
    "- **Steps:** A description of the next step to complete\n",
    "- **Hints:** Some hints on how to complete the next step\n",
    "\n",
    "See if you can complete the step without the hints and even if you can predict what the next step might be. A big part of writing software is dividing up a big problem into simple enough steps to implement."
   ]
  },
  {
   "cell_type": "markdown",
   "metadata": {
    "slideshow": {
     "slide_type": "slide"
    }
   },
   "source": [
    "Slides available online at:\n",
    "- http://uwpyb.github.io/materials/projects/quiz.slides.html#/\n",
    "\n",
    "Or if you want a shorter URL:\n",
    "- http://goo.gl/NDmi1x"
   ]
  },
  {
   "cell_type": "markdown",
   "metadata": {
    "slideshow": {
     "slide_type": "slide"
    }
   },
   "source": [
    "1. Think of Three Questions\n",
    "---\n",
    "\n",
    "First, think of three questions on any topic (either something that interests you or something new, so you can learn new things). Here is a suggestion for three kinds of questions you might want to think about:\n",
    "- One yes/no question\n",
    "- One multiple choice\n",
    "- One question with a single number or word answer (like before)\n",
    "\n",
    "You might want to write your questions and answers and save them in a text/Word doc file, so you don't forget the questions (and answers) as you work on your program. "
   ]
  },
  {
   "cell_type": "markdown",
   "metadata": {},
   "source": [
    "2. Store your questions\n",
    "---\n",
    "\n",
    "Now we got three questions, let's store them in variables so we can display them on the program. Create a file called `quiz.py` in your workshop folder and store your questions like this:\n",
    "\n",
    "```python\n",
    "q1 = \"...\"\n",
    "q2 = \"...\"\n",
    "q3 = \"...\"\n",
    "```\n",
    "\n",
    "where \"...\" is the actual text of your question. If the text of your question has several lines use triple quotes:\n",
    "\n",
    "```python\n",
    "long_text = \"\"\"This is a really long line of text:\n",
    "- It's so lonooooooooooooooooooooooooooooooooooooooog\n",
    "- Oh so very long\n",
    "- It's crazy\n",
    "\"\"\"\n",
    "print(long_text)\n",
    "```"
   ]
  },
  {
   "cell_type": "markdown",
   "metadata": {},
   "source": [
    "3. Store your answers\n",
    "---\n",
    "Now, it's time to store the answers. We need these answers to compare them to the answers that the user gives us, and return feedback on whether the user gave a correct or wrong response.\n",
    "\n",
    "```python\n",
    "a1 = \"...\"\n",
    "a2 = \"...\"\n",
    "a3 = \"...\"\n",
    "```"
   ]
  },
  {
   "cell_type": "markdown",
   "metadata": {
    "slideshow": {
     "slide_type": "slide"
    }
   },
   "source": [
    "\n",
    "4. Putting everything together\n",
    "---\n",
    "\n",
    "Now, we have questions and answers but we need to put everything togehter. This is the algorithm:\n",
    "\n",
    "1. Display the question\n",
    "2. Get the answer from the user\n",
    "3. Compare the answer user gave with the correct one\n",
    "4. Display the appropriate message (incorrect/correct)\n",
    "\n",
    "Try implementing these steps and running the quiz. Use hints below if you get stuck.\n",
    "\n",
    "- The function for getting input from the user is `input()`.\n",
    "- The function for putting output onto the console is `print()`.\n",
    "- To check the answer, you need to compare `if user_input == answer:`"
   ]
  },
  {
   "cell_type": "markdown",
   "metadata": {
    "slideshow": {
     "slide_type": "slide"
    }
   },
   "source": [
    "5. Making things more efficient\n",
    "--- \n",
    "\n",
    "You've probably noticed that your code is looking a bit like spaghetti-code, it's long and there are things being repeated. To avoid repetition and make the code more efficient, we can use a **for loop** to repeat the things for us, which should make it easier to add more questions and answers in the future. \n",
    "\n",
    "First, take a moment to think about what are the things that are being repeated for each question. Then, think about the variable and its data type that you are going to use to store the questions and answers. Should you store both of them in one variable, or create two separate ones?\n",
    "\n",
    "If your plan sounds like this pseudo-code (code which is not specific to a programming language, but conveys the idea) then you're good to start coding:\n",
    "\n",
    "```\n",
    "for question in questions\n",
    "    ask quesion\n",
    "    get answer\n",
    "    evaluate answer\n",
    "```\n",
    "\n",
    "If you're still stuck, feel free to look at the hints below to help you:"
   ]
  },
  {
   "cell_type": "markdown",
   "metadata": {
    "slideshow": {
     "slide_type": "slide"
    }
   },
   "source": [
    "### Hint\n",
    "Your code will look something like this:"
   ]
  },
  {
   "cell_type": "code",
   "execution_count": null,
   "metadata": {
    "collapsed": false,
    "slideshow": {
     "slide_type": "-"
    }
   },
   "outputs": [],
   "source": [
    "# q1, q2 and q3 are the variables I've used to save my variable\n",
    "questions = [q1, q2, q3]\n",
    "answers = [\"Yes\", \"b\", \"superior\"]\n",
    "index = 0\n",
    "\n",
    "for qs in questions:\n",
    "    ans = input(qs)\n",
    "    if ans == answers[index]:\n",
    "        # print something\n",
    "    index += 1"
   ]
  },
  {
   "cell_type": "markdown",
   "metadata": {},
   "source": [
    "This code won't run, but it should give you a start if you're stuck and let you check if you're on the right track.\n",
    "\n",
    "### Bonus \n",
    "\n",
    "Look up what enumerate() does. How could you use it to eliminate the count variable?"
   ]
  },
  {
   "cell_type": "markdown",
   "metadata": {
    "slideshow": {
     "slide_type": "slide"
    }
   },
   "source": [
    "6. Keep Track of the Number of Right Answers\n",
    "---\n",
    "\n",
    "Note every answer the user gets right and print it out at the end of the quiz."
   ]
  },
  {
   "cell_type": "markdown",
   "metadata": {
    "slideshow": {
     "slide_type": "slide"
    }
   },
   "source": [
    "Step Five: Make Answers Case-Insensitive\n",
    "-----------------------------------------------\n",
    "\n",
    "- yes/YES/yES are all valid answers for yes/no questions\n",
    "- a/A should both be accepted\n",
    "- No capitals for word answers should be allowed. For example, `Superior` would be incrrect, but `superior` would be correct."
   ]
  },
  {
   "cell_type": "markdown",
   "metadata": {},
   "source": [
    "Hints\n",
    "===\n",
    "\n",
    "**Remember:**\n",
    "Strings have special attributes, like `uppercase()` that you can find using the dot character. For example, what will this code produce?\n",
    "```\n",
    "ans = \"holy moly\"\n",
    "print(ans.uppercase())\n",
    "```"
   ]
  },
  {
   "cell_type": "markdown",
   "metadata": {
    "slideshow": {
     "slide_type": "slide"
    }
   },
   "source": [
    "Step Six: Visualise the results\n",
    "---------------------------------------------\n",
    "\n",
    "- Write out a `*` for each answer the use got right. For example, if they got three answers right, print out `***`"
   ]
  },
  {
   "cell_type": "markdown",
   "metadata": {
    "slideshow": {
     "slide_type": "slide"
    }
   },
   "source": [
    "Step Seven: Stuff We Aren't Covering in this Workshop\n",
    "--------------------------------------------------------------\n",
    "\n",
    "To broaden your knowledge of Python, check out these topics if you've finished everything else:\n",
    "- What is `elif`?\n",
    "- What's the difference between a `float` and an `int`?\n",
    "- How do you read and write from a file in Python?"
   ]
  }
 ],
 "metadata": {
  "kernelspec": {
   "display_name": "Python 2",
   "language": "python",
   "name": "python2"
  },
  "language_info": {
   "codemirror_mode": {
    "name": "ipython",
    "version": 2
   },
   "file_extension": ".py",
   "mimetype": "text/x-python",
   "name": "python",
   "nbconvert_exporter": "python",
   "pygments_lexer": "ipython2",
   "version": "2.7.9"
  }
 },
 "nbformat": 4,
 "nbformat_minor": 0
}
