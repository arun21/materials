{
 "cells": [
  {
   "cell_type": "markdown",
   "metadata": {
    "slideshow": {
     "slide_type": "slide"
    }
   },
   "source": [
    "Project: Make Your Own Quiz!\n",
    "--------------------------------\n",
    "\n",
    "Let's make a Python quiz program! It will ask different types of questions via the console and tell you how well you did.\n",
    "\n",
    "Your output (with the user input) will look like:\n",
    "```\n",
    "Does Sean have a face? Yes\n",
    "Right answer!\n",
    "What is the name of the spiciest pepper:\n",
    "a) the hotness\n",
    "b) carolina reaper\n",
    "c) ghost pepper\n",
    " a       \n",
    "Sorry, the answer was b\n",
    "What is the largest freshwater lake in the world? superior\n",
    "Right answer!\n",
    "```\n",
    "\n",
    "The following slides are to be done at your own pace. They're formatted as: \n",
    "- **Steps:** A description of the next step to complete\n",
    "- **Hints:** Some hints on how to complete the next step\n",
    "\n",
    "See if you can complete the step without the hints and even if you can predict what the next step might be. A big part of writing software is dividing up a big problem into simple enough steps to implement."
   ]
  },
  {
   "cell_type": "code",
   "execution_count": 1,
   "metadata": {
    "collapsed": false,
    "slideshow": {
     "slide_type": "slide"
    }
   },
   "outputs": [
    {
     "ename": "SyntaxError",
     "evalue": "invalid syntax (<ipython-input-1-25a2ae65861e>, line 1)",
     "output_type": "error",
     "traceback": [
      "\u001b[1;36m  File \u001b[1;32m\"<ipython-input-1-25a2ae65861e>\"\u001b[1;36m, line \u001b[1;32m1\u001b[0m\n\u001b[1;33m    Slides available online at:\u001b[0m\n\u001b[1;37m                   ^\u001b[0m\n\u001b[1;31mSyntaxError\u001b[0m\u001b[1;31m:\u001b[0m invalid syntax\n"
     ]
    }
   ],
   "source": [
    "Slides available online at:\n",
    "- http://uwpyb.github.io/materials/projects/quiz.slides.html#/\n",
    "\n",
    "Or if you want a shorter URL:\n",
    "- http://goo.gl/NDmi1x"
   ]
  },
  {
   "cell_type": "markdown",
   "metadata": {
    "slideshow": {
     "slide_type": "slide"
    }
   },
   "source": [
    "Step One: Think of Three Questions\n",
    "---------------------------------------\n",
    "\n",
    "- One yes/no question\n",
    "- One multiple choice\n",
    "- One question with a single number or word answer (like before)\n",
    "\n",
    "Store the questions and the answers in variables."
   ]
  },
  {
   "cell_type": "markdown",
   "metadata": {
    "slideshow": {
     "slide_type": "slide"
    }
   },
   "source": [
    "Hints\n",
    "===\n",
    "\n",
    "- How are the different types of questions going to make this project different from the \"capitals\" exercise we did before?\n",
    "- To make a multi-line string use three end-quotes"
   ]
  },
  {
   "cell_type": "code",
   "execution_count": 1,
   "metadata": {
    "collapsed": false
   },
   "outputs": [
    {
     "name": "stdout",
     "output_type": "stream",
     "text": [
      "This is a really long line of text:\n",
      "- It's so long\n",
      "- Oh so very long\n",
      "- It's crazy\n",
      "\n"
     ]
    }
   ],
   "source": [
    "long_text = \"\"\"This is a really long line of text:\n",
    "- It's so long\n",
    "- Oh so very long\n",
    "- It's crazy\n",
    "\"\"\"\n",
    "print(long_text)"
   ]
  },
  {
   "cell_type": "markdown",
   "metadata": {
    "slideshow": {
     "slide_type": "slide"
    }
   },
   "source": [
    "Step Two: Write a Program That Asks Three Questions And Checks the Answer\n",
    "------------------------------------------------------------------------------------\n",
    "\n",
    "Pro Tip: Try to reuse the input and output code from before."
   ]
  },
  {
   "cell_type": "markdown",
   "metadata": {
    "slideshow": {
     "slide_type": "slide"
    }
   },
   "source": [
    "Hints\n",
    "===\n",
    "\n",
    "**Remember:**\n",
    "- The function for getting input from the user is `input()`.\n",
    "- The function for putting output onto the console is `print()`.\n",
    "- To check the answer, you need `if user_input == answer:`"
   ]
  },
  {
   "cell_type": "markdown",
   "metadata": {
    "slideshow": {
     "slide_type": "slide"
    }
   },
   "source": [
    "Step Three: Make Sure to Use a Loop\n",
    "-----------------------------------------\n",
    "\n",
    "If you aren't already using a for-loop to go through your answers, make a new file and use a for-loop instead of repeated code. What are you going to use to store the questions and answers?"
   ]
  },
  {
   "cell_type": "markdown",
   "metadata": {
    "slideshow": {
     "slide_type": "slide"
    }
   },
   "source": [
    "Hints\n",
    "===\n",
    "\n",
    "Your code will look something like this:"
   ]
  },
  {
   "cell_type": "code",
   "execution_count": null,
   "metadata": {
    "collapsed": false,
    "slideshow": {
     "slide_type": "-"
    }
   },
   "outputs": [],
   "source": [
    "# q1, q2 and q3 are the variables I've used to save my variable\n",
    "questions = [q1, q2, q3]\n",
    "answers = [\"Yes\", \"b\", \"superior\"]\n",
    "count = 0\n",
    "\n",
    "for qs in questions:\n",
    "    ans = input(qs)\n",
    "    if ans == answers[count]:\n",
    "        # print something\n",
    "    count += 1"
   ]
  },
  {
   "cell_type": "markdown",
   "metadata": {},
   "source": [
    "This code won't run, but it should give you a start if you're stuck and let you check if you're on the right track.\n",
    "\n",
    "**Bonus:** look up what enumerate() does. How could you use it to eliminate the count variable?"
   ]
  },
  {
   "cell_type": "markdown",
   "metadata": {
    "slideshow": {
     "slide_type": "slide"
    }
   },
   "source": [
    "Step Four: Keep Track of the Number of Right Answers\n",
    "-------------------------------------------------------------\n",
    "\n",
    "Note every answer the user gets right and print it out at the end of the quiz."
   ]
  },
  {
   "cell_type": "markdown",
   "metadata": {
    "slideshow": {
     "slide_type": "slide"
    }
   },
   "source": [
    "Step Five: Make Answers Case-Insensitive\n",
    "-----------------------------------------------\n",
    "\n",
    "- yes/YES/yES are all valid answers for yes/no questions\n",
    "- a/A should both be accepted\n",
    "- No capitals for word answers should be allowed. For example, `Superior` would be incrrect, but `superior` would be correct."
   ]
  },
  {
   "cell_type": "markdown",
   "metadata": {},
   "source": [
    "Hints\n",
    "===\n",
    "\n",
    "**Remember:**\n",
    "Strings have special attributes, like `uppercase()` that you can find using the dot character. For example, what will this code produce?\n",
    "```\n",
    "ans = \"holy moly\"\n",
    "print(ans.uppercase())\n",
    "```"
   ]
  },
  {
   "cell_type": "markdown",
   "metadata": {
    "slideshow": {
     "slide_type": "slide"
    }
   },
   "source": [
    "Step Six: Visualise the results\n",
    "---------------------------------------------\n",
    "\n",
    "- Write out a `*` for each answer the use got right. For example, if they got three answers right, print out `***`"
   ]
  },
  {
   "cell_type": "markdown",
   "metadata": {
    "slideshow": {
     "slide_type": "slide"
    }
   },
   "source": [
    "Step Seven: Stuff We Aren't Covering in this Workshop\n",
    "--------------------------------------------------------------\n",
    "\n",
    "To broaden your knowledge of Python, check out these topics if you've finished everything else:\n",
    "- What is `elif`?\n",
    "- What's the difference between a `float` and an `int`?\n",
    "- How do you read and write from a file in Python?"
   ]
  }
 ],
 "metadata": {
  "celltoolbar": "Slideshow",
  "kernelspec": {
   "display_name": "IPython (Python 3)",
   "language": "python",
   "name": "python3"
  },
  "language_info": {
   "codemirror_mode": {
    "name": "ipython",
    "version": 3
   },
   "file_extension": ".py",
   "mimetype": "text/x-python",
   "name": "python",
   "nbconvert_exporter": "python",
   "pygments_lexer": "ipython3",
   "version": "3.4.3"
  }
 },
 "nbformat": 4,
 "nbformat_minor": 0
}
