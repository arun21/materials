{
 "cells": [
  {
   "cell_type": "markdown",
   "metadata": {},
   "source": [
    "#  Data Analysis Project: Analyzing climate statistics\n",
    "### Python for Beginners Workshop at University of Waterloo, Jan 2016\n",
    "author: Ivana Kajić \n"
   ]
  },
  {
   "cell_type": "markdown",
   "metadata": {},
   "source": [
    "## Introduction"
   ]
  },
  {
   "cell_type": "markdown",
   "metadata": {},
   "source": [
    "This project is a continuation of the lecture [Python Workshop for Beginners: Data Analysis](http://uwpyb.github.io/materials/lectures/day_2.slides). \n",
    "There are several parts to this project:\n",
    "\n",
    "1. Learning how to fetch CSV files from the internet\n",
    "\n",
    "2. Load fetched data into the memory of our computer\n",
    "\n",
    "3. Making nice plots that allow us to answer some questions about the data\n",
    "\n",
    "\n",
    "These parts can be also done individually (e.g. instead of fetching the data from the internet you can just use what you have stored on your computer) and are meant to be done at your own, individual pace. "
   ]
  },
  {
   "cell_type": "markdown",
   "metadata": {},
   "source": [
    "## Data"
   ]
  },
  {
   "cell_type": "markdown",
   "metadata": {},
   "source": [
    "We will be accessing the climate data provided by the [World Bank’s Climate Change Knowledge Portal](http://data.worldbank.org/topic/climate-change). The datasets we will be using contain historical precipitation and temperature data for a period of time starting from 1901 to 2009 for every country in the world.\n",
    "\n",
    "In the lecture we have used average monthly values for temperature and precipitation for Canada which can be downloaded either by directly right-clickling on links below and selecting \"Save as...\" or by going to a website and then right-clicking \"Save as...\":\n",
    "\n",
    "<p>Temperature: http://climatedataapi.worldbank.org/climateweb/rest/v1/country/cru/tas/month/CAN.csv </p>\n",
    "<p>Precipitation: http://climatedataapi.worldbank.org/climateweb/rest/v1/country/cru/pr/month/CAN.csv</p>\n"
   ]
  },
  {
   "cell_type": "markdown",
   "metadata": {},
   "source": [
    "## 1. Fetching the data\n",
    "Instead of manually downloading these data sets like we have done in the lecture, we can fetch them directly from the Internet in our Python code! This is a very common practice in programming and is possible because the source of our data (in our case the World's Bank website) provides information on how to access their data.This is called Application Programming Interface (API). \n",
    "\n",
    "Let's write a Python script that fetches historical temperature values for Canada. For that, we will need another new library called `requests`, which knows how to deal with websites.\n",
    "\n",
    "First, create a script called `climate_stats.py` and import the requests package:"
   ]
  },
  {
   "cell_type": "code",
   "execution_count": 128,
   "metadata": {
    "collapsed": true
   },
   "outputs": [],
   "source": [
    "import requests"
   ]
  },
  {
   "cell_type": "markdown",
   "metadata": {},
   "source": [
    "The following line will fetch the temperatures for Canada:"
   ]
  },
  {
   "cell_type": "code",
   "execution_count": 155,
   "metadata": {
    "collapsed": false
   },
   "outputs": [
    {
     "name": "stdout",
     "output_type": "stream",
     "text": [
      "Getting the data from: http://climatedataapi.worldbank.org/climateweb/rest/v1/country/cru/tas/year/CAN.csv\n"
     ]
    }
   ],
   "source": [
    "url = \"http://climatedataapi.worldbank.org/climateweb/rest/v1/country/cru/tas/year/CAN.csv\"\n",
    "print('Getting the data from:', url)\n",
    "resp = requests.get(url)"
   ]
  },
  {
   "cell_type": "markdown",
   "metadata": {},
   "source": [
    "What happened here? URL, also known as the link, is the text you usually write in your address bar in your browser to go to a certain website. For example, `https://www.google.ca/` is a valid URL and so is `https://www.youtube.com/watch?v=2XID_W4neJo`. Notice how the link to the youtube video is specified by a sequence of characters `2XID_W4neJo` after the equals sign `=` in the link (`https://www.youtube.com/watch?v=2XID_W4neJo`, another video would have a different sequence of characters). \n",
    "\n",
    "Similarly, the link we have defined to get the data set contains two pieces of text that specify:\n",
    "`https://climatedataapi.worldbank.org/climateweb/rest/v1/country/cru/tas/year/CAN.csv`\n",
    "\n",
    "- tas: we want temperatures\n",
    "- CAN: for Canada\n",
    "\n",
    "To see what is it that we wanted to download, simply open your web-browser and copy and paste that link. You can also get number for other countries by replacing CAN with other country codes (e.g. DEU for Germany or HRV for Croatia.)"
   ]
  },
  {
   "cell_type": "markdown",
   "metadata": {},
   "source": [
    "Then, in the next line:\n",
    "```python\n",
    "resp = requests.get(url)\n",
    "```\n",
    "we have used function `get` from `requests` and gave it the link as a parameter. This function knows how to get the data at the website with a given URL. There is a simple way to check if everything went well:"
   ]
  },
  {
   "cell_type": "code",
   "execution_count": 130,
   "metadata": {
    "collapsed": false
   },
   "outputs": [
    {
     "name": "stdout",
     "output_type": "stream",
     "text": [
      "200\n"
     ]
    }
   ],
   "source": [
    "print(\"Response from the website (200 is OK):\", resp.status_code)"
   ]
  },
  {
   "cell_type": "markdown",
   "metadata": {},
   "source": [
    "Status codes are messages exchanged among programs on the Internet. Sometimes when you try to open a website in your browser you might get a message: `404 Page not found`. The 404 number is a status code meant to tell your web-browser \"Hey, you requested something I don't have... here's a 404 for you\". Luckily, we are all good here because 200 means \"OK\".\n",
    "\n",
    "To access the data we have received from the website, we can look into the variable `resp.text`. Let's make sure that this is indeed text:"
   ]
  },
  {
   "cell_type": "code",
   "execution_count": 131,
   "metadata": {
    "collapsed": false
   },
   "outputs": [
    {
     "data": {
      "text/plain": [
       "str"
      ]
     },
     "execution_count": 131,
     "metadata": {},
     "output_type": "execute_result"
    }
   ],
   "source": [
    "type(resp.text)"
   ]
  },
  {
   "cell_type": "markdown",
   "metadata": {},
   "source": [
    "Let's print first 100 characters to peek into the content:"
   ]
  },
  {
   "cell_type": "code",
   "execution_count": 132,
   "metadata": {
    "collapsed": false
   },
   "outputs": [
    {
     "name": "stdout",
     "output_type": "stream",
     "text": [
      "year,data\n",
      "1901,-7.67241907119751\n",
      "1902,-7.862711429595947\n",
      "1903,-7.910782814025879\n",
      "1904,-8.15572929382\n"
     ]
    }
   ],
   "source": [
    "print(resp.text[:100])"
   ]
  },
  {
   "cell_type": "markdown",
   "metadata": {},
   "source": [
    "If you are still skeptical (and in programming it's good to be skeptical!), there is an easy way to check that what we have have seen on the website is indeed what we have on our computer now. Go to the website:\n",
    "\n",
    "```\n",
    "http://climatedataapi.worldbank.org/climateweb/rest/v1/country/cru/tas/year/CAN.csv\n",
    "```\n",
    "\n",
    "and compare the first few lines there and the first few lines in your code. Convinced now? Good! Let's convert this into an array that we can plot and then analyse what we see."
   ]
  },
  {
   "cell_type": "markdown",
   "metadata": {},
   "source": [
    "## 2. Converting the data into NumPy array \n",
    "\n",
    "Now, like we have done it in the lecture, we can again use numpy to convert this text into an array of numbers that we can plot. In the lecture, we have done this\n",
    "```python\n",
    "temperatures = np.loadtxt('can_avg_temp.csv', delimiter=',', skiprows=1)\n",
    "```\n",
    "Where `can_avg_temp.csv` was a file stored on our computer (reminder: `delimiter=1` told numpy that the data in the file is separated by commas and `skiprows=1` said to numpy to skip the first line in the data). Now, instead of giving numpy a file stored on our computer we will give it the text stored in the variable `read.text`. There is a little catch to keep in mind here, we need to tell NumPy where new lines are in this text file. To do this, we can just split the text in `resp.text` into chunks where each chunk is a new row:"
   ]
  },
  {
   "cell_type": "code",
   "execution_count": 104,
   "metadata": {
    "collapsed": true
   },
   "outputs": [],
   "source": [
    "import numpy as np"
   ]
  },
  {
   "cell_type": "code",
   "execution_count": 105,
   "metadata": {
    "collapsed": false
   },
   "outputs": [
    {
     "data": {
      "text/plain": [
       "['year,data',\n",
       " '1901,-7.67241907119751',\n",
       " '1902,-7.862711429595947',\n",
       " '1903,-7.910782814025879',\n",
       " '1904,-8.155729293823242']"
      ]
     },
     "execution_count": 105,
     "metadata": {},
     "output_type": "execute_result"
    }
   ],
   "source": [
    "rows = resp.text.split('\\n')\n",
    "rows[:5]"
   ]
  },
  {
   "cell_type": "markdown",
   "metadata": {},
   "source": [
    "We recognize the data from before, right? The only difference is now how we organized it. Now, we have a list where every element is a row from our `resp.text`. And `numpy.loadtxt` knows how to read this now:"
   ]
  },
  {
   "cell_type": "code",
   "execution_count": 106,
   "metadata": {
    "collapsed": false
   },
   "outputs": [],
   "source": [
    "temperatures = np.loadtxt(rows, delimiter=',', skiprows=1)"
   ]
  },
  {
   "cell_type": "markdown",
   "metadata": {},
   "source": [
    "Question: How many rows and columns are there in our new array `temperatures`? (Hint: use `temperatures.shape` to find out)"
   ]
  },
  {
   "cell_type": "code",
   "execution_count": 107,
   "metadata": {
    "collapsed": false
   },
   "outputs": [
    {
     "data": {
      "text/plain": [
       "(112, 2)"
      ]
     },
     "execution_count": 107,
     "metadata": {},
     "output_type": "execute_result"
    }
   ],
   "source": [
    "temperatures.shape"
   ]
  },
  {
   "cell_type": "markdown",
   "metadata": {},
   "source": [
    "In the output we see two numbers, the first one is number of rows and the second one is the number of columns. Seems like we have yearly averages for 111 years, that's a lot of data. You might be asking yourself why 111 years and not 112 like it's written in the output. If you look carefully at the rows we have printed just a few lines above, you will see that the first row does not contain any years but just a string with column labels `year,data`. \n",
    "\n",
    "Also, you have might noticed the round brackets `()` we have not seen before. We have seen square brackets for lists `[]` and curly brackets for dictionaries `{}`. The round brackets stand for tuples, another data type very similar to lists, and the elements of a tuple can be accessed in the same way:"
   ]
  },
  {
   "cell_type": "code",
   "execution_count": 134,
   "metadata": {
    "collapsed": false
   },
   "outputs": [
    {
     "name": "stdout",
     "output_type": "stream",
     "text": [
      "Number of rows in temperatures: 112\n"
     ]
    }
   ],
   "source": [
    "print('Number of rows in temperatures:', temperatures.shape[0])"
   ]
  },
  {
   "cell_type": "markdown",
   "metadata": {},
   "source": [
    "Let's find out the year with the highest average using `np.max`:"
   ]
  },
  {
   "cell_type": "code",
   "execution_count": 110,
   "metadata": {
    "collapsed": false
   },
   "outputs": [
    {
     "data": {
      "text/plain": [
       "2012.0"
      ]
     },
     "execution_count": 110,
     "metadata": {},
     "output_type": "execute_result"
    }
   ],
   "source": [
    "np.max(temperatures)"
   ]
  },
  {
   "cell_type": "markdown",
   "metadata": {},
   "source": [
    "Uh, if 2012 was the maximal temperature we would be all dead by now! 2012 is the maximal number in our whole data set, and we need a way to tell numpy to look for the maximal values of temperatures only (and not years!). Since our temperatures are stored in the second column we can get the maximum and the minimum by acessing that column only:"
   ]
  },
  {
   "cell_type": "code",
   "execution_count": 115,
   "metadata": {
    "collapsed": false
   },
   "outputs": [],
   "source": [
    "max_temp = np.max(temperatures[:, 1])\n",
    "min_temp = np.min(temperatures[:, 1])"
   ]
  },
  {
   "cell_type": "code",
   "execution_count": 149,
   "metadata": {
    "collapsed": false
   },
   "outputs": [
    {
     "name": "stdout",
     "output_type": "stream",
     "text": [
      "Lowest yearly average temperature in Canada over last 112 years was: -9.52518749237\n",
      "Highest yearly average temperature in Canada over last 112 years was: -4.70364952087\n"
     ]
    }
   ],
   "source": [
    "print('Lowest yearly average temperature in Canada over last 112 years was:', min_temp)\n",
    "print('Highest yearly average temperature in Canada over last 112 years was:', max_temp)"
   ]
  },
  {
   "cell_type": "markdown",
   "metadata": {},
   "source": [
    "It would be neat to find out when these maximal and minimal temperatures happened! One way of course would be to print again our temperatures and find the year with these values. But there is a much better way to do it with `np.where`:"
   ]
  },
  {
   "cell_type": "code",
   "execution_count": 150,
   "metadata": {
    "collapsed": true
   },
   "outputs": [],
   "source": [
    "min_year = np.where(temperatures[:, 1] == min_temp)\n",
    "max_year = np.where(temperatures[:, 1] == max_temp)"
   ]
  },
  {
   "cell_type": "markdown",
   "metadata": {},
   "source": [
    "These two lines ask numpy to tell us the row number of the minimal and maximal temperature. Let's take a look at the output of one of them:"
   ]
  },
  {
   "cell_type": "code",
   "execution_count": 151,
   "metadata": {
    "collapsed": false
   },
   "outputs": [
    {
     "name": "stdout",
     "output_type": "stream",
     "text": [
      "(array([71]),)\n"
     ]
    }
   ],
   "source": [
    "print(min_year)"
   ]
  },
  {
   "cell_type": "markdown",
   "metadata": {},
   "source": [
    "Ok, so we see a number there which looks like it could be the row index, but it's wrapped in all sorts of symbols: there are brackets `()` and the `array()`. Let's try to understand what this means: outer brackets stand there for a tuple, whose elements we can access like the elements of a list:"
   ]
  },
  {
   "cell_type": "code",
   "execution_count": 152,
   "metadata": {
    "collapsed": false
   },
   "outputs": [
    {
     "name": "stdout",
     "output_type": "stream",
     "text": [
      "[71]\n"
     ]
    }
   ],
   "source": [
    "min_year_index = min_year[0]\n",
    "print(min_year_index)"
   ]
  },
  {
   "cell_type": "markdown",
   "metadata": {},
   "source": [
    "But the brackets say we got a list, so again we need to access the first element in the list:"
   ]
  },
  {
   "cell_type": "code",
   "execution_count": 153,
   "metadata": {
    "collapsed": false
   },
   "outputs": [],
   "source": [
    "min_year_index = min_year_index[0]"
   ]
  },
  {
   "cell_type": "markdown",
   "metadata": {},
   "source": [
    "Finally we have the index of a row which contains the year with the lowest temperature:"
   ]
  },
  {
   "cell_type": "code",
   "execution_count": 156,
   "metadata": {
    "collapsed": false
   },
   "outputs": [
    {
     "name": "stdout",
     "output_type": "stream",
     "text": [
      "Lowest average temperature was in: [ 1972.            -9.52518749]\n"
     ]
    }
   ],
   "source": [
    "print('Lowest average temperature was in:', temperatures[min_year_index])"
   ]
  },
  {
   "cell_type": "markdown",
   "metadata": {},
   "source": [
    "**Exercise**: Get the row containing the year with the highest average temperatures!\n",
    "\n",
    "To store all the commands we have used in our data analysis, create a `climate_stats.py` script contain the steps we have done so far:"
   ]
  },
  {
   "cell_type": "markdown",
   "metadata": {},
   "source": [
    "```python\n",
    "import requests\n",
    "import numpy as np\n",
    "\n",
    "url = \"http://climatedataapi.worldbank.org/climateweb/rest/v1/country/cru/tas/year/CAN.csv\"\n",
    "print('Getting the data from:', url)\n",
    "resp = requests.get(url)\n",
    "\n",
    "print(\"Response from the website (200 is OK):\", resp.status_code)\n",
    "\n",
    "print(\"First few lines of data:\")\n",
    "print(resp.text[:100])\n",
    "\n",
    "rows = resp.text.split('\\n')\n",
    "rows[:5]\n",
    "\n",
    "temperatures = np.loadtxt(rows, delimiter=',', skiprows=1)\n",
    "print('Number of rows in temperatures:', temperatures.shape[0])\n",
    "\n",
    "max_temp = np.max(temperatures[:, 1])\n",
    "min_temp = np.min(temperatures[:, 1])\n",
    "\n",
    "print('Lowest yearly average temperature in Canada over last 112 years was:', min_temp)\n",
    "print('Highest yearly average temperature in Canada over last 112 years was:', max_temp)\n",
    "\n",
    "min_year = np.where(temperatures[:, 1] == min_temp)\n",
    "max_year = np.where(temperatures[:, 1] == max_temp)\n",
    "\n",
    "min_year_index = min_year[0]\n",
    "min_year_index = min_year_index[0]\n",
    "print('Lowest average temperature was in:', temperatures[min_year_index])\n",
    "\n",
    "max_year_index = max_year[0]\n",
    "max_year_index = max_year_index[0]\n",
    "print('Highest average temperature was in:', temperatures[max_year_index])\n",
    "\n",
    "```"
   ]
  },
  {
   "cell_type": "markdown",
   "metadata": {},
   "source": [
    "You can run this script by typing:\n",
    "```\n",
    "run climate_stats.py\n",
    "```\n",
    "\n",
    "in your IPython."
   ]
  },
  {
   "cell_type": "markdown",
   "metadata": {},
   "source": [
    "# 3. Plotting the data"
   ]
  },
  {
   "cell_type": "markdown",
   "metadata": {},
   "source": [
    "Plotting data will allow us to see any trends in temperature change over years. For plotting, let's create a script called `temperature_plots.py`. For plotting we are again going to use the `matplotlib` library, like we have done in the lecture."
   ]
  },
  {
   "cell_type": "code",
   "execution_count": 157,
   "metadata": {
    "collapsed": true
   },
   "outputs": [],
   "source": [
    "import matplotlib.pyplot as plt"
   ]
  },
  {
   "cell_type": "code",
   "execution_count": 158,
   "metadata": {
    "collapsed": true
   },
   "outputs": [],
   "source": [
    "# the line below with % is not needed in your code\n",
    "%matplotlib inline"
   ]
  },
  {
   "cell_type": "code",
   "execution_count": null,
   "metadata": {
    "collapsed": true
   },
   "outputs": [],
   "source": []
  },
  {
   "cell_type": "code",
   "execution_count": 159,
   "metadata": {
    "collapsed": false
   },
   "outputs": [
    {
     "data": {
      "image/png": "[encoded data removed]",
      "text/plain": [
       "<matplotlib.figure.Figure at 0x7f487e2aa390>"
      ]
     },
     "metadata": {},
     "output_type": "display_data"
    }
   ],
   "source": [
    "fig, ax = plt.subplots()\n",
    "ax.plot(temperatures[:, 0], temperatures[:, 1])\n",
    "\n",
    "plt.show()"
   ]
  },
  {
   "cell_type": "code",
   "execution_count": null,
   "metadata": {
    "collapsed": true
   },
   "outputs": [],
   "source": []
  },
  {
   "cell_type": "code",
   "execution_count": null,
   "metadata": {
    "collapsed": true
   },
   "outputs": [],
   "source": []
  },
  {
   "cell_type": "code",
   "execution_count": null,
   "metadata": {
    "collapsed": true
   },
   "outputs": [],
   "source": []
  }
 ],
 "metadata": {
  "kernelspec": {
   "display_name": "Python 3",
   "language": "python",
   "name": "python3"
  },
  "language_info": {
   "codemirror_mode": {
    "name": "ipython",
    "version": 3
   },
   "file_extension": ".py",
   "mimetype": "text/x-python",
   "name": "python",
   "nbconvert_exporter": "python",
   "pygments_lexer": "ipython3",
   "version": "3.4.2"
  }
 },
 "nbformat": 4,
 "nbformat_minor": 0
}
